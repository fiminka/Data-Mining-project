{
 "cells": [
  {
   "cell_type": "code",
   "execution_count": null,
   "id": "14fafe8b",
   "metadata": {},
   "outputs": [],
   "source": [
    "kmeans_silh <- c()\n",
    "agnes_silh <- c()\n",
    "pam_silh <- c()\n",
    "diana_silh <- c()"
   ]
  },
  {
   "cell_type": "code",
   "execution_count": null,
   "id": "62633594",
   "metadata": {},
   "outputs": [],
   "source": [
    "#for euclidean\n",
    "for (k in 2:8){\n",
    "    \n",
    "  km_res <- kmeans(cluster_data_onehot, k, iter.max=100, nstart=100)\n",
    "  sil_kmeans <- silhouette(km_res$cluster, dmatrix=diss_matrix_euc)\n",
    "  kmeans_silh <- c(kmeans_silh, mean(sil_kmeans[,3]))\n",
    "    \n",
    "  pam_res <- pam(x=diss_matrix_euc, diss=TRUE, k=k)\n",
    "  sil_pam <- silhouette(pam_res$clustering, dmatrix=diss_matrix_euc)\n",
    "  pam_silh <- c(pam_silh, mean(sil_pam[,3]))\n",
    "  \n",
    "  agnes_res <- agnes(diss_matrix_euc, method=\"single\", diss=TRUE)\n",
    "  agnes_partition <- cutree(agnes_res, k=k)\n",
    "  sil_agnes <- silhouette(agnes_partition, dmatrix=diss_matrix_euc)\n",
    "  agnes_silh <- c(agnes_silh, mean(sil_agnes[,3]))\n",
    "    \n",
    "  diana_res <- diana(x=diss_matrix_euc, diss=TRUE)\n",
    "  diana_partition <- cutree(diana_res, k=k)\n",
    "  sil_diana <- silhouette(diana_partition, dmatrix=diss_matrix_euc)\n",
    "  diana_silh <- c(diana_silh, mean(sil_diana[,3]))\n",
    "}"
   ]
  },
  {
   "cell_type": "code",
   "execution_count": null,
   "id": "2a919cf2",
   "metadata": {},
   "outputs": [],
   "source": [
    "options(repr.plot.width = 13, repr.plot.height = 8)\n",
    "k_seq <- 2:8\n",
    "silh_df <- data.frame(k=rep(k_seq, 4),\n",
    "                             Silhoulette=c(kmeans_silh, pam_silh, agnes_silh, diana_silh),\n",
    "                             Method=c(rep('k-means', length(kmeans_silh)),\n",
    "                                      rep('PAM', length(pam_silh)),\n",
    "                                      rep('AGNES', length(agnes_silh)),\n",
    "                                      rep('DIANA', length(diana_silh))))\n",
    "\n",
    "max_silh <- tapply(silh_df$Silhoulette, silh_df$Method, max)\n",
    "\n",
    "ggplot() +\n",
    "  geom_line(data=silh_df, aes(x=k, y=Silhoulette, color=Method), size=1, linetype = \"solid\") +\n",
    "  geom_point(data=silh_df, aes(x=k, y=Silhoulette, color=Method), size=4) +\n",
    "  labs(title='Silhoulette index for different clustering methods',\n",
    "       y='Silhoulette index',\n",
    "       x='k') +\n",
    "  theme(axis.text.x = element_text(size=14),\n",
    "        axis.text.y = element_text(size=14),\n",
    "        axis.title = element_text(size=18),\n",
    "        plot.title = element_text(hjust = 0.5, size=20),\n",
    "        legend.position = c(0.90, 0.85),\n",
    "        legend.text = element_text(size = 12), \n",
    "        legend.title = element_text(size = 14)) + \n",
    "  theme(legend.background = element_rect(fill = alpha('white', 0)))\n",
    "\n",
    "print(max_silh[1])\n",
    "print(max_silh[2])\n",
    "print(max_silh[3])\n",
    "print(max_silh[4])"
   ]
  },
  {
   "cell_type": "markdown",
   "id": "dbbec385",
   "metadata": {},
   "source": [
    "# Quality assessment"
   ]
  },
  {
   "cell_type": "code",
   "execution_count": null,
   "id": "1ff128ec",
   "metadata": {},
   "outputs": [],
   "source": [
    "#do usuniecia\n",
    "data <- data[1:1000,]\n",
    "test <- test[1:1000,]\n",
    "train <- train[1:1000,]"
   ]
  },
  {
   "cell_type": "code",
   "execution_count": null,
   "id": "49ab3752",
   "metadata": {},
   "outputs": [],
   "source": [
    "n_test = nrow(test)\n",
    "n_train = nrow(train)"
   ]
  },
  {
   "cell_type": "code",
   "execution_count": null,
   "id": "39ccc566",
   "metadata": {},
   "outputs": [],
   "source": [
    "labels_kmeans_test <- tail(kmeans, n=n_test)\n",
    "labels_kmeans_train <- tail(kmeans, n=n_train)\n",
    "\n",
    "labels_agnes_test <- tail(agnes, n=n_test)\n",
    "labels_agnes_train <- tail(agnes, n=n_train)\n",
    "\n",
    "labels_pam_test <- tail(pam$clustering, n=n_test)\n",
    "labels_pam_train <- tail(pam$clustering, n=n_train)\n",
    "\n",
    "labels_diana_test <- tail(diana, n=n_test)\n",
    "labels_diana_train <- tail(diana, n=n_train)"
   ]
  },
  {
   "cell_type": "code",
   "execution_count": null,
   "id": "945d28a4",
   "metadata": {},
   "outputs": [],
   "source": [
    "labels_real_test <- test$income_binary\n",
    "labels_real_train <- train$income_binary\n",
    "labels_real <- data$income_binary"
   ]
  },
  {
   "cell_type": "code",
   "execution_count": null,
   "id": "de3c9296",
   "metadata": {},
   "outputs": [],
   "source": [
    "kmeans_acc <- compareMatchedClasses(kmeans, labels_real, method=\"exact\")$diag %>% as.double()\n",
    "kmeans_acc_test <-  compareMatchedClasses(labels_kmeans_test, labels_real_test, method=\"exact\")$diag %>% as.double()\n",
    "kmeans_acc_train <- compareMatchedClasses(labels_kmeans_train, labels_real_train, method=\"exact\")$diag %>% as.double()\n",
    "\n",
    "pam_acc <- compareMatchedClasses(pam$clustering, labels_real, method=\"exact\")$diag %>% as.double()\n",
    "pam_acc_test <-  compareMatchedClasses(labels_pam_test, labels_real_test, method=\"exact\")$diag %>% as.double()\n",
    "pam_acc_train <- compareMatchedClasses(labels_pam_train, labels_real_train, method=\"exact\")$diag %>% as.double()\n",
    "\n",
    "agnes_acc <- compareMatchedClasses(agnes, labels_real, method=\"exact\")$diag %>% as.double()\n",
    "agnes_acc_test <-  compareMatchedClasses(labels_agnes_test, labels_real_test, method=\"exact\")$diag %>% as.double()\n",
    "agnes_acc_train <- compareMatchedClasses(labels_agnes_train, labels_real_train, method=\"exact\")$diag %>% as.double()\n",
    "\n",
    "diana_acc <- compareMatchedClasses(diana, labels_real, method=\"exact\")$diag %>% as.double()\n",
    "diana_acc_test <-  compareMatchedClasses(labels_diana_test, labels_real_test, method=\"exact\")$diag %>% as.double()\n",
    "diana_acc_train <- compareMatchedClasses(labels_diana_train, labels_real_train, method=\"exact\")$diag %>% as.double()"
   ]
  },
  {
   "cell_type": "code",
   "execution_count": null,
   "id": "4facc325",
   "metadata": {},
   "outputs": [],
   "source": [
    "scores = function(pred, real){\n",
    "  (tab <- table(pred, real))\n",
    "  x <- matchClasses(tab, method=\"exact\", verbose=FALSE)\n",
    "  tab <- tab[names(x), x]\n",
    "  rownames(tab) <- as.numeric(x)\n",
    "  colnames(tab) <- as.numeric(x)\n",
    "  tab <- tab[c(\"1\", \"0\"), c(\"1\", \"0\")]\n",
    "  \n",
    "  results1 <- confusionMatrix(tab, mode='prec_recall')\n",
    "  results1$byClass\n",
    "  return(results1$byClass)\n",
    "}"
   ]
  },
  {
   "cell_type": "code",
   "execution_count": null,
   "id": "848078df",
   "metadata": {},
   "outputs": [],
   "source": [
    "r <- scores(labels_kmeans_test, labels_real_test)\n",
    "kmeans_f1 = r[\"F1\"]\n",
    "kmeans_sensitivity = r[\"sensitivity\"]\n",
    "kmeans_precision = r[\"Precision\"]\n",
    "\n",
    "r <- scores(labels_pam_test, labels_real_test)\n",
    "pam_f1 = r[\"F1\"]\n",
    "pam_sensitivity = r[\"sensitivity\"]\n",
    "pam_precision = r[\"Precisiosensitivityn\"]\n",
    "\n",
    "r <- scores(labels_agnes_test, labels_real_test)\n",
    "agnes_f1 = r[\"F1\"]\n",
    "agnes_sensitivity = r[\"sensitivity\"]\n",
    "agnes_precision = r[\"Precision\"]\n",
    "\n",
    "r <- scores(labels_diana_test, labels_real_test)\n",
    "diana_f1 = r[\"F1\"]\n",
    "diana_sensitivity = r[\"sensitivity\"]\n",
    "diana_precision = r[\"Precision\"]"
   ]
  },
  {
   "cell_type": "code",
   "execution_count": null,
   "id": "5baa890f",
   "metadata": {},
   "outputs": [],
   "source": [
    "results.init <- data.frame(acc_full=c(kmeans_acc, pam_acc, agnes_acc, diana_acc),\n",
    "                           acc_train=c(kmeans_acc_train, pam_acc_train, agnes_acc_train, diana_acc_train),\n",
    "                           acc_test=c(kmeans_acc_test, pam_acc_test, agnes_acc_test, diana_acc_test),\n",
    "                           F1_test=c(kmeans_f1, pam_f1, agnes_f1, diana_f1),\n",
    "                           sensitivity_test=c(kmeans_recall, pam_recall, agnes_recall, diana_recall),\n",
    "                           Precision_test=c(kmeans_precision, pam_precision, agnes_precision, diana_precision))\n",
    "\n",
    "rownames(results.init) <- c('K-Means', 'PAM', 'AGNES' , 'DIANA')"
   ]
  },
  {
   "cell_type": "code",
   "execution_count": null,
   "id": "ce4f4b6b",
   "metadata": {},
   "outputs": [],
   "source": []
  }
 ],
 "metadata": {
  "kernelspec": {
   "display_name": "R",
   "language": "R",
   "name": "ir"
  },
  "language_info": {
   "codemirror_mode": "r",
   "file_extension": ".r",
   "mimetype": "text/x-r-source",
   "name": "R",
   "pygments_lexer": "r",
   "version": "4.2.2"
  }
 },
 "nbformat": 4,
 "nbformat_minor": 5
}

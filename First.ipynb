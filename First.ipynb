{
 "cells": [
  {
   "cell_type": "code",
   "execution_count": 1,
   "id": "fa4fa272",
   "metadata": {},
   "outputs": [
    {
     "name": "stderr",
     "output_type": "stream",
     "text": [
      "\n",
      "Attaching package: 'dplyr'\n",
      "\n",
      "\n",
      "The following objects are masked from 'package:stats':\n",
      "\n",
      "    filter, lag\n",
      "\n",
      "\n",
      "The following objects are masked from 'package:base':\n",
      "\n",
      "    intersect, setdiff, setequal, union\n",
      "\n",
      "\n"
     ]
    },
    {
     "ename": "ERROR",
     "evalue": "Error in library(DataExplorer): there is no package called 'DataExplorer'\n",
     "output_type": "error",
     "traceback": [
      "Error in library(DataExplorer): there is no package called 'DataExplorer'\nTraceback:\n",
      "1. library(DataExplorer)"
     ]
    }
   ],
   "source": [
    "library(dplyr)\n",
    "library(DataExplorer)"
   ]
  },
  {
   "cell_type": "code",
   "execution_count": 2,
   "id": "5ef23d65",
   "metadata": {},
   "outputs": [],
   "source": [
    "data <- read.csv(file=\"data\\\\adult.data\", stringsAsFactors = TRUE, col.names=c(\"age\", \"workclass\", \"fnlwgt\", \"education\", \n",
    "                                                       \"education.num\",\"marital.status\", \"occupation\", \"relationship\", \"race\",\"sex\",\n",
    "                                                       \"capital.gain\", \"capital.loss\", \"hours.per.week\",\"native.country\", \"income\"))"
   ]
  },
  {
   "cell_type": "raw",
   "id": "356043bd",
   "metadata": {},
   "source": [
    "data %>% sample_n(5)"
   ]
  },
  {
   "cell_type": "code",
   "execution_count": 3,
   "id": "4ba994dd",
   "metadata": {},
   "outputs": [],
   "source": [
    "# which columns have '?' values\n",
    "columns_with_question <- names(data)[sapply(data, function(col) any(col == \" ?\"))]"
   ]
  },
  {
   "cell_type": "code",
   "execution_count": 4,
   "id": "fe4f49fe",
   "metadata": {},
   "outputs": [
    {
     "data": {
      "text/html": [
       "<ol class=list-inline>\n",
       "\t<li>'workclass'</li>\n",
       "\t<li>'occupation'</li>\n",
       "\t<li>'native.country'</li>\n",
       "</ol>\n"
      ],
      "text/latex": [
       "\\begin{enumerate*}\n",
       "\\item 'workclass'\n",
       "\\item 'occupation'\n",
       "\\item 'native.country'\n",
       "\\end{enumerate*}\n"
      ],
      "text/markdown": [
       "1. 'workclass'\n",
       "2. 'occupation'\n",
       "3. 'native.country'\n",
       "\n",
       "\n"
      ],
      "text/plain": [
       "[1] \"workclass\"      \"occupation\"     \"native.country\""
      ]
     },
     "metadata": {},
     "output_type": "display_data"
    }
   ],
   "source": [
    "columns_with_question"
   ]
  },
  {
   "cell_type": "code",
   "execution_count": 5,
   "id": "938604b8",
   "metadata": {},
   "outputs": [],
   "source": [
    "columns_with_question <- sapply(data, function(col) sum(col == ' ?') > 0)"
   ]
  },
  {
   "cell_type": "code",
   "execution_count": 6,
   "id": "629e2f3d",
   "metadata": {},
   "outputs": [],
   "source": [
    "for (column in names(data)[columns_with_question]) {\n",
    "  data[data[[column]] == ' ?', column] <- NA\n",
    "}"
   ]
  },
  {
   "cell_type": "code",
   "execution_count": 7,
   "id": "bfce57ba",
   "metadata": {},
   "outputs": [
    {
     "data": {
      "text/html": [
       "<table>\n",
       "<thead><tr><th scope=col>age</th><th scope=col>workclass</th><th scope=col>fnlwgt</th><th scope=col>education</th><th scope=col>education.num</th><th scope=col>marital.status</th><th scope=col>occupation</th><th scope=col>relationship</th><th scope=col>race</th><th scope=col>sex</th><th scope=col>capital.gain</th><th scope=col>capital.loss</th><th scope=col>hours.per.week</th><th scope=col>native.country</th><th scope=col>income</th></tr></thead>\n",
       "<tbody>\n",
       "\t<tr><td>38                                                         </td><td><span style=white-space:pre-wrap> Private  </span>         </td><td>241765                                                     </td><td><span style=white-space:pre-wrap> 11th        </span>      </td><td> 7                                                         </td><td><span style=white-space:pre-wrap> Divorced          </span></td><td> Handlers-cleaners                                         </td><td> Not-in-family                                             </td><td> White                                                     </td><td> Female                                                    </td><td><span style=white-space:pre-wrap>   0</span>               </td><td><span style=white-space:pre-wrap>   0</span>               </td><td>60                                                         </td><td> United-States                                             </td><td> &lt;=50K                                                  </td></tr>\n",
       "\t<tr><td>52                                                         </td><td><span style=white-space:pre-wrap> Private  </span>         </td><td>158746                                                     </td><td><span style=white-space:pre-wrap> HS-grad     </span>      </td><td> 9                                                         </td><td><span style=white-space:pre-wrap> Never-married     </span></td><td><span style=white-space:pre-wrap> Other-service    </span> </td><td><span style=white-space:pre-wrap> Unmarried    </span>     </td><td> White                                                     </td><td><span style=white-space:pre-wrap> Male  </span>            </td><td><span style=white-space:pre-wrap>   0</span>               </td><td><span style=white-space:pre-wrap>   0</span>               </td><td>40                                                         </td><td> United-States                                             </td><td> &lt;=50K                                                  </td></tr>\n",
       "\t<tr><td>44                                                         </td><td><span style=white-space:pre-wrap> Private  </span>         </td><td>199031                                                     </td><td> Some-college                                              </td><td>10                                                         </td><td><span style=white-space:pre-wrap> Divorced          </span></td><td> Transport-moving                                          </td><td><span style=white-space:pre-wrap> Own-child    </span>     </td><td> White                                                     </td><td><span style=white-space:pre-wrap> Male  </span>            </td><td><span style=white-space:pre-wrap>   0</span>               </td><td>1380                                                       </td><td>40                                                         </td><td> United-States                                             </td><td> &lt;=50K                                                  </td></tr>\n",
       "\t<tr><td>42                                                         </td><td><span style=white-space:pre-wrap> Private  </span>         </td><td>197522                                                     </td><td> Some-college                                              </td><td>10                                                         </td><td><span style=white-space:pre-wrap> Separated         </span></td><td> Machine-op-inspct                                         </td><td><span style=white-space:pre-wrap> Unmarried    </span>     </td><td> Black                                                     </td><td> Female                                                    </td><td><span style=white-space:pre-wrap>   0</span>               </td><td><span style=white-space:pre-wrap>   0</span>               </td><td>40                                                         </td><td> United-States                                             </td><td> &lt;=50K                                                  </td></tr>\n",
       "\t<tr><td>54                                                        </td><td><span style=white-space:pre-wrap>NA        </span>        </td><td> 31588                                                    </td><td><span style=white-space:pre-wrap> HS-grad     </span>     </td><td> 9                                                        </td><td> Married-civ-spouse                                       </td><td><span style=white-space:pre-wrap>NA                </span></td><td><span style=white-space:pre-wrap> Husband      </span>    </td><td> White                                                    </td><td><span style=white-space:pre-wrap> Male  </span>           </td><td>2635                                                      </td><td><span style=white-space:pre-wrap>   0</span>              </td><td>40                                                        </td><td> United-States                                            </td><td> &lt;=50K                                                 </td></tr>\n",
       "\t<tr><td>34                                                        </td><td><span style=white-space:pre-wrap> Private  </span>        </td><td>454508                                                    </td><td><span style=white-space:pre-wrap> Bachelors   </span>     </td><td>13                                                        </td><td> Married-civ-spouse                                       </td><td><span style=white-space:pre-wrap> Prof-specialty   </span></td><td><span style=white-space:pre-wrap> Husband      </span>    </td><td> White                                                    </td><td><span style=white-space:pre-wrap> Male  </span>           </td><td><span style=white-space:pre-wrap>   0</span>              </td><td><span style=white-space:pre-wrap>   0</span>              </td><td>65                                                        </td><td><span style=white-space:pre-wrap> Iran         </span>    </td><td> &lt;=50K                                                 </td></tr>\n",
       "\t<tr><td>21                                                         </td><td><span style=white-space:pre-wrap> Private  </span>         </td><td>191497                                                     </td><td> Some-college                                              </td><td>10                                                         </td><td><span style=white-space:pre-wrap> Never-married     </span></td><td><span style=white-space:pre-wrap> Sales            </span> </td><td><span style=white-space:pre-wrap> Own-child    </span>     </td><td> White                                                     </td><td> Female                                                    </td><td><span style=white-space:pre-wrap>   0</span>               </td><td><span style=white-space:pre-wrap>   0</span>               </td><td>20                                                         </td><td> United-States                                             </td><td> &lt;=50K                                                  </td></tr>\n",
       "\t<tr><td>42                                                        </td><td><span style=white-space:pre-wrap> Private  </span>        </td><td>147251                                                    </td><td> Some-college                                             </td><td>10                                                        </td><td> Married-civ-spouse                                       </td><td><span style=white-space:pre-wrap> Prof-specialty   </span></td><td><span style=white-space:pre-wrap> Wife         </span>    </td><td> White                                                    </td><td> Female                                                   </td><td><span style=white-space:pre-wrap>   0</span>              </td><td><span style=white-space:pre-wrap>   0</span>              </td><td>36                                                        </td><td> United-States                                            </td><td> &lt;=50K                                                 </td></tr>\n",
       "\t<tr><td>23                                                    </td><td><span style=white-space:pre-wrap> Private  </span>    </td><td> 38707                                                </td><td> Some-college                                         </td><td>10                                                    </td><td> Married-civ-spouse                                   </td><td> Transport-moving                                     </td><td><span style=white-space:pre-wrap> Husband      </span></td><td> White                                                </td><td><span style=white-space:pre-wrap> Male  </span>       </td><td><span style=white-space:pre-wrap>   0</span>          </td><td><span style=white-space:pre-wrap>   0</span>          </td><td>60                                                    </td><td> United-States                                        </td><td> &gt;50K                                              </td></tr>\n",
       "\t<tr><td>24                                                         </td><td> Local-gov                                                 </td><td>197552                                                     </td><td><span style=white-space:pre-wrap> HS-grad     </span>      </td><td> 9                                                         </td><td><span style=white-space:pre-wrap> Never-married     </span></td><td><span style=white-space:pre-wrap> Tech-support     </span> </td><td> Not-in-family                                             </td><td> White                                                     </td><td> Female                                                    </td><td><span style=white-space:pre-wrap>   0</span>               </td><td><span style=white-space:pre-wrap>   0</span>               </td><td>40                                                         </td><td> United-States                                             </td><td> &lt;=50K                                                  </td></tr>\n",
       "</tbody>\n",
       "</table>\n"
      ],
      "text/latex": [
       "\\begin{tabular}{r|lllllllllllllll}\n",
       " age & workclass & fnlwgt & education & education.num & marital.status & occupation & relationship & race & sex & capital.gain & capital.loss & hours.per.week & native.country & income\\\\\n",
       "\\hline\n",
       "\t 38                  &  Private            & 241765              &  11th               &  7                  &  Divorced           &  Handlers-cleaners  &  Not-in-family      &  White              &  Female             &    0                &    0                & 60                  &  United-States      &  <=50K             \\\\\n",
       "\t 52                  &  Private            & 158746              &  HS-grad            &  9                  &  Never-married      &  Other-service      &  Unmarried          &  White              &  Male               &    0                &    0                & 40                  &  United-States      &  <=50K             \\\\\n",
       "\t 44                  &  Private            & 199031              &  Some-college       & 10                  &  Divorced           &  Transport-moving   &  Own-child          &  White              &  Male               &    0                & 1380                & 40                  &  United-States      &  <=50K             \\\\\n",
       "\t 42                  &  Private            & 197522              &  Some-college       & 10                  &  Separated          &  Machine-op-inspct  &  Unmarried          &  Black              &  Female             &    0                &    0                & 40                  &  United-States      &  <=50K             \\\\\n",
       "\t 54                  & NA                  &  31588              &  HS-grad            &  9                  &  Married-civ-spouse & NA                  &  Husband            &  White              &  Male               & 2635                &    0                & 40                  &  United-States      &  <=50K             \\\\\n",
       "\t 34                  &  Private            & 454508              &  Bachelors          & 13                  &  Married-civ-spouse &  Prof-specialty     &  Husband            &  White              &  Male               &    0                &    0                & 65                  &  Iran               &  <=50K             \\\\\n",
       "\t 21                  &  Private            & 191497              &  Some-college       & 10                  &  Never-married      &  Sales              &  Own-child          &  White              &  Female             &    0                &    0                & 20                  &  United-States      &  <=50K             \\\\\n",
       "\t 42                  &  Private            & 147251              &  Some-college       & 10                  &  Married-civ-spouse &  Prof-specialty     &  Wife               &  White              &  Female             &    0                &    0                & 36                  &  United-States      &  <=50K             \\\\\n",
       "\t 23                  &  Private            &  38707              &  Some-college       & 10                  &  Married-civ-spouse &  Transport-moving   &  Husband            &  White              &  Male               &    0                &    0                & 60                  &  United-States      &  >50K              \\\\\n",
       "\t 24                  &  Local-gov          & 197552              &  HS-grad            &  9                  &  Never-married      &  Tech-support       &  Not-in-family      &  White              &  Female             &    0                &    0                & 40                  &  United-States      &  <=50K             \\\\\n",
       "\\end{tabular}\n"
      ],
      "text/markdown": [
       "\n",
       "| age | workclass | fnlwgt | education | education.num | marital.status | occupation | relationship | race | sex | capital.gain | capital.loss | hours.per.week | native.country | income |\n",
       "|---|---|---|---|---|---|---|---|---|---|---|---|---|---|---|\n",
       "| 38                  |  Private            | 241765              |  11th               |  7                  |  Divorced           |  Handlers-cleaners  |  Not-in-family      |  White              |  Female             |    0                |    0                | 60                  |  United-States      |  <=50K              |\n",
       "| 52                  |  Private            | 158746              |  HS-grad            |  9                  |  Never-married      |  Other-service      |  Unmarried          |  White              |  Male               |    0                |    0                | 40                  |  United-States      |  <=50K              |\n",
       "| 44                  |  Private            | 199031              |  Some-college       | 10                  |  Divorced           |  Transport-moving   |  Own-child          |  White              |  Male               |    0                | 1380                | 40                  |  United-States      |  <=50K              |\n",
       "| 42                  |  Private            | 197522              |  Some-college       | 10                  |  Separated          |  Machine-op-inspct  |  Unmarried          |  Black              |  Female             |    0                |    0                | 40                  |  United-States      |  <=50K              |\n",
       "| 54                  | NA                  |  31588              |  HS-grad            |  9                  |  Married-civ-spouse | NA                  |  Husband            |  White              |  Male               | 2635                |    0                | 40                  |  United-States      |  <=50K              |\n",
       "| 34                  |  Private            | 454508              |  Bachelors          | 13                  |  Married-civ-spouse |  Prof-specialty     |  Husband            |  White              |  Male               |    0                |    0                | 65                  |  Iran               |  <=50K              |\n",
       "| 21                  |  Private            | 191497              |  Some-college       | 10                  |  Never-married      |  Sales              |  Own-child          |  White              |  Female             |    0                |    0                | 20                  |  United-States      |  <=50K              |\n",
       "| 42                  |  Private            | 147251              |  Some-college       | 10                  |  Married-civ-spouse |  Prof-specialty     |  Wife               |  White              |  Female             |    0                |    0                | 36                  |  United-States      |  <=50K              |\n",
       "| 23                  |  Private            |  38707              |  Some-college       | 10                  |  Married-civ-spouse |  Transport-moving   |  Husband            |  White              |  Male               |    0                |    0                | 60                  |  United-States      |  >50K               |\n",
       "| 24                  |  Local-gov          | 197552              |  HS-grad            |  9                  |  Never-married      |  Tech-support       |  Not-in-family      |  White              |  Female             |    0                |    0                | 40                  |  United-States      |  <=50K              |\n",
       "\n"
      ],
      "text/plain": [
       "   age workclass  fnlwgt education     education.num marital.status     \n",
       "1  38   Private   241765  11th          7             Divorced          \n",
       "2  52   Private   158746  HS-grad       9             Never-married     \n",
       "3  44   Private   199031  Some-college 10             Divorced          \n",
       "4  42   Private   197522  Some-college 10             Separated         \n",
       "5  54  NA          31588  HS-grad       9             Married-civ-spouse\n",
       "6  34   Private   454508  Bachelors    13             Married-civ-spouse\n",
       "7  21   Private   191497  Some-college 10             Never-married     \n",
       "8  42   Private   147251  Some-college 10             Married-civ-spouse\n",
       "9  23   Private    38707  Some-college 10             Married-civ-spouse\n",
       "10 24   Local-gov 197552  HS-grad       9             Never-married     \n",
       "   occupation         relationship   race   sex     capital.gain capital.loss\n",
       "1   Handlers-cleaners  Not-in-family  White  Female    0            0        \n",
       "2   Other-service      Unmarried      White  Male      0            0        \n",
       "3   Transport-moving   Own-child      White  Male      0         1380        \n",
       "4   Machine-op-inspct  Unmarried      Black  Female    0            0        \n",
       "5  NA                  Husband        White  Male   2635            0        \n",
       "6   Prof-specialty     Husband        White  Male      0            0        \n",
       "7   Sales              Own-child      White  Female    0            0        \n",
       "8   Prof-specialty     Wife           White  Female    0            0        \n",
       "9   Transport-moving   Husband        White  Male      0            0        \n",
       "10  Tech-support       Not-in-family  White  Female    0            0        \n",
       "   hours.per.week native.country income\n",
       "1  60              United-States  <=50K\n",
       "2  40              United-States  <=50K\n",
       "3  40              United-States  <=50K\n",
       "4  40              United-States  <=50K\n",
       "5  40              United-States  <=50K\n",
       "6  65              Iran           <=50K\n",
       "7  20              United-States  <=50K\n",
       "8  36              United-States  <=50K\n",
       "9  60              United-States  >50K \n",
       "10 40              United-States  <=50K"
      ]
     },
     "metadata": {},
     "output_type": "display_data"
    }
   ],
   "source": [
    "data %>% sample_n(10)"
   ]
  },
  {
   "cell_type": "code",
   "execution_count": 8,
   "id": "c6d8c1ec",
   "metadata": {},
   "outputs": [
    {
     "data": {
      "text/html": [
       "<ol class=list-inline>\n",
       "\t<li>NA</li>\n",
       "\t<li>NA</li>\n",
       "\t<li>NA</li>\n",
       "</ol>\n"
      ],
      "text/latex": [
       "\\begin{enumerate*}\n",
       "\\item NA\n",
       "\\item NA\n",
       "\\item NA\n",
       "\\end{enumerate*}\n"
      ],
      "text/markdown": [
       "1. NA\n",
       "2. NA\n",
       "3. NA\n",
       "\n",
       "\n"
      ],
      "text/plain": [
       "[1] NA NA NA"
      ]
     },
     "metadata": {},
     "output_type": "display_data"
    }
   ],
   "source": [
    "names(data)[sapply(data, function(col) any(col == \" ?\"))]"
   ]
  },
  {
   "cell_type": "code",
   "execution_count": 9,
   "id": "374c191d",
   "metadata": {},
   "outputs": [
    {
     "data": {
      "text/html": [
       "4262"
      ],
      "text/latex": [
       "4262"
      ],
      "text/markdown": [
       "4262"
      ],
      "text/plain": [
       "[1] 4262"
      ]
     },
     "metadata": {},
     "output_type": "display_data"
    }
   ],
   "source": [
    "# Missing observations?\n",
    "sum(is.na(data))\n",
    "\n",
    "#WE NEED TO FIND A METHOD TO FILL THE NANS "
   ]
  },
  {
   "cell_type": "code",
   "execution_count": 13,
   "id": "273b598b",
   "metadata": {},
   "outputs": [
    {
     "data": {
      "text/plain": [
       "   Min. 1st Qu.  Median    Mean 3rd Qu.    Max. \n",
       "  17.00   28.00   37.00   38.58   48.00   90.00 "
      ]
     },
     "metadata": {},
     "output_type": "display_data"
    }
   ],
   "source": [
    "summary(data$age)"
   ]
  },
  {
   "cell_type": "code",
   "execution_count": 15,
   "id": "b31397a3",
   "metadata": {},
   "outputs": [
    {
     "data": {
      "text/plain": [
       "   Min. 1st Qu.  Median    Mean 3rd Qu.    Max. \n",
       "      0       0       0    1078       0   99999 "
      ]
     },
     "metadata": {},
     "output_type": "display_data"
    }
   ],
   "source": [
    "summary(data$capital.gain)"
   ]
  },
  {
   "cell_type": "code",
   "execution_count": 16,
   "id": "21bdfcc4",
   "metadata": {},
   "outputs": [
    {
     "data": {
      "text/plain": [
       "   Min. 1st Qu.  Median    Mean 3rd Qu.    Max. \n",
       "   0.00    0.00    0.00   87.31    0.00 4356.00 "
      ]
     },
     "metadata": {},
     "output_type": "display_data"
    }
   ],
   "source": [
    "summary(data$capital.loss)"
   ]
  },
  {
   "cell_type": "code",
   "execution_count": 17,
   "id": "7b16ba45",
   "metadata": {},
   "outputs": [
    {
     "data": {
      "text/plain": [
       "   Min. 1st Qu.  Median    Mean 3rd Qu.    Max. \n",
       "   1.00   40.00   40.00   40.44   45.00   99.00 "
      ]
     },
     "metadata": {},
     "output_type": "display_data"
    }
   ],
   "source": [
    "summary(data$hours.per.week)"
   ]
  },
  {
   "cell_type": "code",
   "execution_count": 18,
   "id": "6fdc0a60",
   "metadata": {},
   "outputs": [
    {
     "data": {
      "text/plain": [
       "\n",
       "                ?       Federal-gov         Local-gov      Never-worked \n",
       "                0               960              2093                 7 \n",
       "          Private      Self-emp-inc  Self-emp-not-inc         State-gov \n",
       "            22696              1116              2541              1297 \n",
       "      Without-pay \n",
       "               14 "
      ]
     },
     "metadata": {},
     "output_type": "display_data"
    },
    {
     "data": {
      "text/plain": [
       "\n",
       "         10th          11th          12th       1st-4th       5th-6th \n",
       "          933          1175           433           168           333 \n",
       "      7th-8th           9th    Assoc-acdm     Assoc-voc     Bachelors \n",
       "          646           514          1067          1382          5354 \n",
       "    Doctorate       HS-grad       Masters     Preschool   Prof-school \n",
       "          413         10501          1723            51           576 \n",
       " Some-college \n",
       "         7291 "
      ]
     },
     "metadata": {},
     "output_type": "display_data"
    },
    {
     "data": {
      "text/plain": [
       "\n",
       "              Divorced      Married-AF-spouse     Married-civ-spouse \n",
       "                  4443                     23                  14976 \n",
       " Married-spouse-absent          Never-married              Separated \n",
       "                   418                  10682                   1025 \n",
       "               Widowed \n",
       "                   993 "
      ]
     },
     "metadata": {},
     "output_type": "display_data"
    },
    {
     "data": {
      "text/plain": [
       "\n",
       "                 ?       Adm-clerical       Armed-Forces       Craft-repair \n",
       "                 0               3769                  9               4099 \n",
       "   Exec-managerial    Farming-fishing  Handlers-cleaners  Machine-op-inspct \n",
       "              4066                994               1370               2002 \n",
       "     Other-service    Priv-house-serv     Prof-specialty    Protective-serv \n",
       "              3295                149               4140                649 \n",
       "             Sales       Tech-support   Transport-moving \n",
       "              3650                928               1597 "
      ]
     },
     "metadata": {},
     "output_type": "display_data"
    },
    {
     "data": {
      "text/plain": [
       "\n",
       "        Husband   Not-in-family  Other-relative       Own-child       Unmarried \n",
       "          13193            8304             981            5068            3446 \n",
       "           Wife \n",
       "           1568 "
      ]
     },
     "metadata": {},
     "output_type": "display_data"
    },
    {
     "data": {
      "text/plain": [
       "\n",
       " Amer-Indian-Eskimo  Asian-Pac-Islander               Black               Other \n",
       "                311                1039                3124                 271 \n",
       "              White \n",
       "              27815 "
      ]
     },
     "metadata": {},
     "output_type": "display_data"
    },
    {
     "data": {
      "text/plain": [
       "\n",
       " Female    Male \n",
       "  10771   21789 "
      ]
     },
     "metadata": {},
     "output_type": "display_data"
    },
    {
     "data": {
      "text/plain": [
       "\n",
       " <=50K   >50K \n",
       " 24719   7841 "
      ]
     },
     "metadata": {},
     "output_type": "display_data"
    },
    {
     "data": {
      "text/plain": [
       "\n",
       "                          ?                    Cambodia \n",
       "                          0                          19 \n",
       "                     Canada                       China \n",
       "                        121                          75 \n",
       "                   Columbia                        Cuba \n",
       "                         59                          95 \n",
       "         Dominican-Republic                     Ecuador \n",
       "                         70                          28 \n",
       "                El-Salvador                     England \n",
       "                        106                          90 \n",
       "                     France                     Germany \n",
       "                         29                         137 \n",
       "                     Greece                   Guatemala \n",
       "                         29                          64 \n",
       "                      Haiti          Holand-Netherlands \n",
       "                         44                           1 \n",
       "                   Honduras                        Hong \n",
       "                         13                          20 \n",
       "                    Hungary                       India \n",
       "                         13                         100 \n",
       "                       Iran                     Ireland \n",
       "                         43                          24 \n",
       "                      Italy                     Jamaica \n",
       "                         73                          81 \n",
       "                      Japan                        Laos \n",
       "                         62                          18 \n",
       "                     Mexico                   Nicaragua \n",
       "                        643                          34 \n",
       " Outlying-US(Guam-USVI-etc)                        Peru \n",
       "                         14                          31 \n",
       "                Philippines                      Poland \n",
       "                        198                          60 \n",
       "                   Portugal                 Puerto-Rico \n",
       "                         37                         114 \n",
       "                   Scotland                       South \n",
       "                         12                          80 \n",
       "                     Taiwan                    Thailand \n",
       "                         51                          18 \n",
       "            Trinadad&Tobago               United-States \n",
       "                         19                       29169 \n",
       "                    Vietnam                  Yugoslavia \n",
       "                         67                          16 "
      ]
     },
     "metadata": {},
     "output_type": "display_data"
    }
   ],
   "source": [
    "table(data$workclass)\n",
    "table(data$education)\n",
    "table(data$marital.status)\n",
    "table(data$occupation)\n",
    "table(data$relationship)\n",
    "table(data$race)\n",
    "table(data$sex)\n",
    "table(data$income)\n",
    "table(data$native.country)"
   ]
  },
  {
   "cell_type": "code",
   "execution_count": 19,
   "id": "b47da403",
   "metadata": {},
   "outputs": [
    {
     "data": {
      "image/png": "[encoded data removed]",
      "text/plain": [
       "Plot with title \"Capital loss\""
      ]
     },
     "metadata": {
      "image/png": {
       "height": 420,
       "width": 420
      }
     },
     "output_type": "display_data"
    }
   ],
   "source": [
    "par(mfrow=c(2,3))\n",
    "hist(data$age)\n",
    "hist(data$hours.per.week)\n",
    "hist(data$capital.gain)\n",
    "boxplot(data$age, main=\"Age\")\n",
    "boxplot(data$hours.per.week, main=\"Hours per week\")\n",
    "boxplot(data$capital.gain, main=\"Capital loss\")\n",
    "par(mfrow=c(1,1))"
   ]
  },
  {
   "cell_type": "code",
   "execution_count": 20,
   "id": "89e48823",
   "metadata": {},
   "outputs": [
    {
     "data": {
      "text/html": [
       "<dl class=dl-horizontal>\n",
       "\t<dt>age</dt>\n",
       "\t\t<dd>73</dd>\n",
       "\t<dt>workclass</dt>\n",
       "\t\t<dd>9</dd>\n",
       "\t<dt>fnlwgt</dt>\n",
       "\t\t<dd>21647</dd>\n",
       "\t<dt>education</dt>\n",
       "\t\t<dd>16</dd>\n",
       "\t<dt>education.num</dt>\n",
       "\t\t<dd>16</dd>\n",
       "\t<dt>marital.status</dt>\n",
       "\t\t<dd>7</dd>\n",
       "\t<dt>occupation</dt>\n",
       "\t\t<dd>15</dd>\n",
       "\t<dt>relationship</dt>\n",
       "\t\t<dd>6</dd>\n",
       "\t<dt>race</dt>\n",
       "\t\t<dd>5</dd>\n",
       "\t<dt>sex</dt>\n",
       "\t\t<dd>2</dd>\n",
       "\t<dt>capital.gain</dt>\n",
       "\t\t<dd>119</dd>\n",
       "\t<dt>capital.loss</dt>\n",
       "\t\t<dd>92</dd>\n",
       "\t<dt>hours.per.week</dt>\n",
       "\t\t<dd>94</dd>\n",
       "\t<dt>native.country</dt>\n",
       "\t\t<dd>42</dd>\n",
       "\t<dt>income</dt>\n",
       "\t\t<dd>2</dd>\n",
       "</dl>\n"
      ],
      "text/latex": [
       "\\begin{description*}\n",
       "\\item[age] 73\n",
       "\\item[workclass] 9\n",
       "\\item[fnlwgt] 21647\n",
       "\\item[education] 16\n",
       "\\item[education.num] 16\n",
       "\\item[marital.status] 7\n",
       "\\item[occupation] 15\n",
       "\\item[relationship] 6\n",
       "\\item[race] 5\n",
       "\\item[sex] 2\n",
       "\\item[capital.gain] 119\n",
       "\\item[capital.loss] 92\n",
       "\\item[hours.per.week] 94\n",
       "\\item[native.country] 42\n",
       "\\item[income] 2\n",
       "\\end{description*}\n"
      ],
      "text/markdown": [
       "age\n",
       ":   73workclass\n",
       ":   9fnlwgt\n",
       ":   21647education\n",
       ":   16education.num\n",
       ":   16marital.status\n",
       ":   7occupation\n",
       ":   15relationship\n",
       ":   6race\n",
       ":   5sex\n",
       ":   2capital.gain\n",
       ":   119capital.loss\n",
       ":   92hours.per.week\n",
       ":   94native.country\n",
       ":   42income\n",
       ":   2\n",
       "\n"
      ],
      "text/plain": [
       "           age      workclass         fnlwgt      education  education.num \n",
       "            73              9          21647             16             16 \n",
       "marital.status     occupation   relationship           race            sex \n",
       "             7             15              6              5              2 \n",
       "  capital.gain   capital.loss hours.per.week native.country         income \n",
       "           119             92             94             42              2 "
      ]
     },
     "metadata": {},
     "output_type": "display_data"
    }
   ],
   "source": [
    "#liczbę unikalnych wartości w każdej kolumnie \n",
    "result <- sapply(data, function(x) n_distinct(x))\n",
    "result"
   ]
  },
  {
   "cell_type": "code",
   "execution_count": 21,
   "id": "496b670f",
   "metadata": {},
   "outputs": [
    {
     "data": {
      "text/html": [
       "<table>\n",
       "<thead><tr><th scope=col>age</th><th scope=col>workclass</th><th scope=col>fnlwgt</th><th scope=col>education</th><th scope=col>education.num</th><th scope=col>marital.status</th><th scope=col>occupation</th><th scope=col>relationship</th><th scope=col>race</th><th scope=col>sex</th><th scope=col>capital.gain</th><th scope=col>capital.loss</th><th scope=col>hours.per.week</th><th scope=col>native.country</th><th scope=col>income</th></tr></thead>\n",
       "<tbody>\n",
       "\t<tr><td>50                                                            </td><td> Self-emp-not-inc                                             </td><td> 83311                                                        </td><td><span style=white-space:pre-wrap> Bachelors   </span>         </td><td>13                                                            </td><td><span style=white-space:pre-wrap> Married-civ-spouse   </span></td><td><span style=white-space:pre-wrap> Exec-managerial  </span>    </td><td><span style=white-space:pre-wrap> Husband      </span>        </td><td><span style=white-space:pre-wrap> White             </span>   </td><td><span style=white-space:pre-wrap> Male  </span>               </td><td><span style=white-space:pre-wrap>    0</span>                 </td><td><span style=white-space:pre-wrap>   0</span>                  </td><td>13                                                            </td><td> United-States                                                </td><td> &lt;=50K                                                     </td></tr>\n",
       "\t<tr><td>38                                                            </td><td><span style=white-space:pre-wrap> Private         </span>     </td><td>215646                                                        </td><td><span style=white-space:pre-wrap> HS-grad     </span>         </td><td> 9                                                            </td><td><span style=white-space:pre-wrap> Divorced             </span></td><td> Handlers-cleaners                                            </td><td> Not-in-family                                                </td><td><span style=white-space:pre-wrap> White             </span>   </td><td><span style=white-space:pre-wrap> Male  </span>               </td><td><span style=white-space:pre-wrap>    0</span>                 </td><td><span style=white-space:pre-wrap>   0</span>                  </td><td>40                                                            </td><td> United-States                                                </td><td> &lt;=50K                                                     </td></tr>\n",
       "\t<tr><td>53                                                            </td><td><span style=white-space:pre-wrap> Private         </span>     </td><td>234721                                                        </td><td><span style=white-space:pre-wrap> 11th        </span>         </td><td> 7                                                            </td><td><span style=white-space:pre-wrap> Married-civ-spouse   </span></td><td> Handlers-cleaners                                            </td><td><span style=white-space:pre-wrap> Husband      </span>        </td><td><span style=white-space:pre-wrap> Black             </span>   </td><td><span style=white-space:pre-wrap> Male  </span>               </td><td><span style=white-space:pre-wrap>    0</span>                 </td><td><span style=white-space:pre-wrap>   0</span>                  </td><td>40                                                            </td><td> United-States                                                </td><td> &lt;=50K                                                     </td></tr>\n",
       "\t<tr><td>28                                                            </td><td><span style=white-space:pre-wrap> Private         </span>     </td><td>338409                                                        </td><td><span style=white-space:pre-wrap> Bachelors   </span>         </td><td>13                                                            </td><td><span style=white-space:pre-wrap> Married-civ-spouse   </span></td><td><span style=white-space:pre-wrap> Prof-specialty   </span>    </td><td><span style=white-space:pre-wrap> Wife         </span>        </td><td><span style=white-space:pre-wrap> Black             </span>   </td><td> Female                                                       </td><td><span style=white-space:pre-wrap>    0</span>                 </td><td><span style=white-space:pre-wrap>   0</span>                  </td><td>40                                                            </td><td><span style=white-space:pre-wrap> Cuba         </span>        </td><td> &lt;=50K                                                     </td></tr>\n",
       "\t<tr><td>37                                                            </td><td><span style=white-space:pre-wrap> Private         </span>     </td><td>284582                                                        </td><td><span style=white-space:pre-wrap> Masters     </span>         </td><td>14                                                            </td><td><span style=white-space:pre-wrap> Married-civ-spouse   </span></td><td><span style=white-space:pre-wrap> Exec-managerial  </span>    </td><td><span style=white-space:pre-wrap> Wife         </span>        </td><td><span style=white-space:pre-wrap> White             </span>   </td><td> Female                                                       </td><td><span style=white-space:pre-wrap>    0</span>                 </td><td><span style=white-space:pre-wrap>   0</span>                  </td><td>40                                                            </td><td> United-States                                                </td><td> &lt;=50K                                                     </td></tr>\n",
       "\t<tr><td>49                                                         </td><td><span style=white-space:pre-wrap> Private         </span>  </td><td>160187                                                     </td><td><span style=white-space:pre-wrap> 9th         </span>      </td><td> 5                                                         </td><td> Married-spouse-absent                                     </td><td><span style=white-space:pre-wrap> Other-service    </span> </td><td> Not-in-family                                             </td><td><span style=white-space:pre-wrap> Black             </span></td><td> Female                                                    </td><td><span style=white-space:pre-wrap>    0</span>              </td><td><span style=white-space:pre-wrap>   0</span>               </td><td>16                                                         </td><td><span style=white-space:pre-wrap> Jamaica      </span>     </td><td> &lt;=50K                                                  </td></tr>\n",
       "\t<tr><td>52                                                            </td><td> Self-emp-not-inc                                             </td><td>209642                                                        </td><td><span style=white-space:pre-wrap> HS-grad     </span>         </td><td> 9                                                            </td><td><span style=white-space:pre-wrap> Married-civ-spouse   </span></td><td><span style=white-space:pre-wrap> Exec-managerial  </span>    </td><td><span style=white-space:pre-wrap> Husband      </span>        </td><td><span style=white-space:pre-wrap> White             </span>   </td><td><span style=white-space:pre-wrap> Male  </span>               </td><td><span style=white-space:pre-wrap>    0</span>                 </td><td><span style=white-space:pre-wrap>   0</span>                  </td><td>45                                                            </td><td> United-States                                                </td><td> &gt;50K                                                      </td></tr>\n",
       "\t<tr><td>31                                                            </td><td><span style=white-space:pre-wrap> Private         </span>     </td><td> 45781                                                        </td><td><span style=white-space:pre-wrap> Masters     </span>         </td><td>14                                                            </td><td><span style=white-space:pre-wrap> Never-married        </span></td><td><span style=white-space:pre-wrap> Prof-specialty   </span>    </td><td> Not-in-family                                                </td><td><span style=white-space:pre-wrap> White             </span>   </td><td> Female                                                       </td><td>14084                                                         </td><td><span style=white-space:pre-wrap>   0</span>                  </td><td>50                                                            </td><td> United-States                                                </td><td> &gt;50K                                                      </td></tr>\n",
       "\t<tr><td>42                                                            </td><td><span style=white-space:pre-wrap> Private         </span>     </td><td>159449                                                        </td><td><span style=white-space:pre-wrap> Bachelors   </span>         </td><td>13                                                            </td><td><span style=white-space:pre-wrap> Married-civ-spouse   </span></td><td><span style=white-space:pre-wrap> Exec-managerial  </span>    </td><td><span style=white-space:pre-wrap> Husband      </span>        </td><td><span style=white-space:pre-wrap> White             </span>   </td><td><span style=white-space:pre-wrap> Male  </span>               </td><td> 5178                                                         </td><td><span style=white-space:pre-wrap>   0</span>                  </td><td>40                                                            </td><td> United-States                                                </td><td> &gt;50K                                                      </td></tr>\n",
       "\t<tr><td>37                                                            </td><td><span style=white-space:pre-wrap> Private         </span>     </td><td>280464                                                        </td><td> Some-college                                                 </td><td>10                                                            </td><td><span style=white-space:pre-wrap> Married-civ-spouse   </span></td><td><span style=white-space:pre-wrap> Exec-managerial  </span>    </td><td><span style=white-space:pre-wrap> Husband      </span>        </td><td><span style=white-space:pre-wrap> Black             </span>   </td><td><span style=white-space:pre-wrap> Male  </span>               </td><td><span style=white-space:pre-wrap>    0</span>                 </td><td><span style=white-space:pre-wrap>   0</span>                  </td><td>80                                                            </td><td> United-States                                                </td><td> &gt;50K                                                      </td></tr>\n",
       "\t<tr><td>30                                                            </td><td><span style=white-space:pre-wrap> State-gov       </span>     </td><td>141297                                                        </td><td><span style=white-space:pre-wrap> Bachelors   </span>         </td><td>13                                                            </td><td><span style=white-space:pre-wrap> Married-civ-spouse   </span></td><td><span style=white-space:pre-wrap> Prof-specialty   </span>    </td><td><span style=white-space:pre-wrap> Husband      </span>        </td><td> Asian-Pac-Islander                                           </td><td><span style=white-space:pre-wrap> Male  </span>               </td><td><span style=white-space:pre-wrap>    0</span>                 </td><td><span style=white-space:pre-wrap>   0</span>                  </td><td>40                                                            </td><td><span style=white-space:pre-wrap> India        </span>        </td><td> &gt;50K                                                      </td></tr>\n",
       "\t<tr><td>23                                                            </td><td><span style=white-space:pre-wrap> Private         </span>     </td><td>122272                                                        </td><td><span style=white-space:pre-wrap> Bachelors   </span>         </td><td>13                                                            </td><td><span style=white-space:pre-wrap> Never-married        </span></td><td><span style=white-space:pre-wrap> Adm-clerical     </span>    </td><td><span style=white-space:pre-wrap> Own-child    </span>        </td><td><span style=white-space:pre-wrap> White             </span>   </td><td> Female                                                       </td><td><span style=white-space:pre-wrap>    0</span>                 </td><td><span style=white-space:pre-wrap>   0</span>                  </td><td>30                                                            </td><td> United-States                                                </td><td> &lt;=50K                                                     </td></tr>\n",
       "\t<tr><td>32                                                            </td><td><span style=white-space:pre-wrap> Private         </span>     </td><td>205019                                                        </td><td><span style=white-space:pre-wrap> Assoc-acdm  </span>         </td><td>12                                                            </td><td><span style=white-space:pre-wrap> Never-married        </span></td><td><span style=white-space:pre-wrap> Sales            </span>    </td><td> Not-in-family                                                </td><td><span style=white-space:pre-wrap> Black             </span>   </td><td><span style=white-space:pre-wrap> Male  </span>               </td><td><span style=white-space:pre-wrap>    0</span>                 </td><td><span style=white-space:pre-wrap>   0</span>                  </td><td>50                                                            </td><td> United-States                                                </td><td> &lt;=50K                                                     </td></tr>\n",
       "\t<tr><td>40                                                            </td><td><span style=white-space:pre-wrap> Private         </span>     </td><td>121772                                                        </td><td><span style=white-space:pre-wrap> Assoc-voc   </span>         </td><td>11                                                            </td><td><span style=white-space:pre-wrap> Married-civ-spouse   </span></td><td><span style=white-space:pre-wrap> Craft-repair     </span>    </td><td><span style=white-space:pre-wrap> Husband      </span>        </td><td> Asian-Pac-Islander                                           </td><td><span style=white-space:pre-wrap> Male  </span>               </td><td><span style=white-space:pre-wrap>    0</span>                 </td><td><span style=white-space:pre-wrap>   0</span>                  </td><td>40                                                            </td><td><span style=white-space:pre-wrap>NA            </span>        </td><td> &gt;50K                                                      </td></tr>\n",
       "\t<tr><td>34                                                            </td><td><span style=white-space:pre-wrap> Private         </span>     </td><td>245487                                                        </td><td><span style=white-space:pre-wrap> 7th-8th     </span>         </td><td> 4                                                            </td><td><span style=white-space:pre-wrap> Married-civ-spouse   </span></td><td> Transport-moving                                             </td><td><span style=white-space:pre-wrap> Husband      </span>        </td><td> Amer-Indian-Eskimo                                           </td><td><span style=white-space:pre-wrap> Male  </span>               </td><td><span style=white-space:pre-wrap>    0</span>                 </td><td><span style=white-space:pre-wrap>   0</span>                  </td><td>45                                                            </td><td><span style=white-space:pre-wrap> Mexico       </span>        </td><td> &lt;=50K                                                     </td></tr>\n",
       "\t<tr><td>25                                                            </td><td> Self-emp-not-inc                                             </td><td>176756                                                        </td><td><span style=white-space:pre-wrap> HS-grad     </span>         </td><td> 9                                                            </td><td><span style=white-space:pre-wrap> Never-married        </span></td><td><span style=white-space:pre-wrap> Farming-fishing  </span>    </td><td><span style=white-space:pre-wrap> Own-child    </span>        </td><td><span style=white-space:pre-wrap> White             </span>   </td><td><span style=white-space:pre-wrap> Male  </span>               </td><td><span style=white-space:pre-wrap>    0</span>                 </td><td><span style=white-space:pre-wrap>   0</span>                  </td><td>35                                                            </td><td> United-States                                                </td><td> &lt;=50K                                                     </td></tr>\n",
       "\t<tr><td>32                                                            </td><td><span style=white-space:pre-wrap> Private         </span>     </td><td>186824                                                        </td><td><span style=white-space:pre-wrap> HS-grad     </span>         </td><td> 9                                                            </td><td><span style=white-space:pre-wrap> Never-married        </span></td><td> Machine-op-inspct                                            </td><td><span style=white-space:pre-wrap> Unmarried    </span>        </td><td><span style=white-space:pre-wrap> White             </span>   </td><td><span style=white-space:pre-wrap> Male  </span>               </td><td><span style=white-space:pre-wrap>    0</span>                 </td><td><span style=white-space:pre-wrap>   0</span>                  </td><td>40                                                            </td><td> United-States                                                </td><td> &lt;=50K                                                     </td></tr>\n",
       "\t<tr><td>38                                                            </td><td><span style=white-space:pre-wrap> Private         </span>     </td><td> 28887                                                        </td><td><span style=white-space:pre-wrap> 11th        </span>         </td><td> 7                                                            </td><td><span style=white-space:pre-wrap> Married-civ-spouse   </span></td><td><span style=white-space:pre-wrap> Sales            </span>    </td><td><span style=white-space:pre-wrap> Husband      </span>        </td><td><span style=white-space:pre-wrap> White             </span>   </td><td><span style=white-space:pre-wrap> Male  </span>               </td><td><span style=white-space:pre-wrap>    0</span>                 </td><td><span style=white-space:pre-wrap>   0</span>                  </td><td>50                                                            </td><td> United-States                                                </td><td> &lt;=50K                                                     </td></tr>\n",
       "\t<tr><td>43                                                            </td><td> Self-emp-not-inc                                             </td><td>292175                                                        </td><td><span style=white-space:pre-wrap> Masters     </span>         </td><td>14                                                            </td><td><span style=white-space:pre-wrap> Divorced             </span></td><td><span style=white-space:pre-wrap> Exec-managerial  </span>    </td><td><span style=white-space:pre-wrap> Unmarried    </span>        </td><td><span style=white-space:pre-wrap> White             </span>   </td><td> Female                                                       </td><td><span style=white-space:pre-wrap>    0</span>                 </td><td><span style=white-space:pre-wrap>   0</span>                  </td><td>45                                                            </td><td> United-States                                                </td><td> &gt;50K                                                      </td></tr>\n",
       "\t<tr><td>40                                                            </td><td><span style=white-space:pre-wrap> Private         </span>     </td><td>193524                                                        </td><td><span style=white-space:pre-wrap> Doctorate   </span>         </td><td>16                                                            </td><td><span style=white-space:pre-wrap> Married-civ-spouse   </span></td><td><span style=white-space:pre-wrap> Prof-specialty   </span>    </td><td><span style=white-space:pre-wrap> Husband      </span>        </td><td><span style=white-space:pre-wrap> White             </span>   </td><td><span style=white-space:pre-wrap> Male  </span>               </td><td><span style=white-space:pre-wrap>    0</span>                 </td><td><span style=white-space:pre-wrap>   0</span>                  </td><td>60                                                            </td><td> United-States                                                </td><td> &gt;50K                                                      </td></tr>\n",
       "\t<tr><td>54                                                            </td><td><span style=white-space:pre-wrap> Private         </span>     </td><td>302146                                                        </td><td><span style=white-space:pre-wrap> HS-grad     </span>         </td><td> 9                                                            </td><td><span style=white-space:pre-wrap> Separated            </span></td><td><span style=white-space:pre-wrap> Other-service    </span>    </td><td><span style=white-space:pre-wrap> Unmarried    </span>        </td><td><span style=white-space:pre-wrap> Black             </span>   </td><td> Female                                                       </td><td><span style=white-space:pre-wrap>    0</span>                 </td><td><span style=white-space:pre-wrap>   0</span>                  </td><td>20                                                            </td><td> United-States                                                </td><td> &lt;=50K                                                     </td></tr>\n",
       "\t<tr><td>35                                                            </td><td><span style=white-space:pre-wrap> Federal-gov     </span>     </td><td> 76845                                                        </td><td><span style=white-space:pre-wrap> 9th         </span>         </td><td> 5                                                            </td><td><span style=white-space:pre-wrap> Married-civ-spouse   </span></td><td><span style=white-space:pre-wrap> Farming-fishing  </span>    </td><td><span style=white-space:pre-wrap> Husband      </span>        </td><td><span style=white-space:pre-wrap> Black             </span>   </td><td><span style=white-space:pre-wrap> Male  </span>               </td><td><span style=white-space:pre-wrap>    0</span>                 </td><td><span style=white-space:pre-wrap>   0</span>                  </td><td>40                                                            </td><td> United-States                                                </td><td> &lt;=50K                                                     </td></tr>\n",
       "\t<tr><td>43                                                            </td><td><span style=white-space:pre-wrap> Private         </span>     </td><td>117037                                                        </td><td><span style=white-space:pre-wrap> 11th        </span>         </td><td> 7                                                            </td><td><span style=white-space:pre-wrap> Married-civ-spouse   </span></td><td> Transport-moving                                             </td><td><span style=white-space:pre-wrap> Husband      </span>        </td><td><span style=white-space:pre-wrap> White             </span>   </td><td><span style=white-space:pre-wrap> Male  </span>               </td><td><span style=white-space:pre-wrap>    0</span>                 </td><td>2042                                                          </td><td>40                                                            </td><td> United-States                                                </td><td> &lt;=50K                                                     </td></tr>\n",
       "\t<tr><td>59                                                            </td><td><span style=white-space:pre-wrap> Private         </span>     </td><td>109015                                                        </td><td><span style=white-space:pre-wrap> HS-grad     </span>         </td><td> 9                                                            </td><td><span style=white-space:pre-wrap> Divorced             </span></td><td><span style=white-space:pre-wrap> Tech-support     </span>    </td><td><span style=white-space:pre-wrap> Unmarried    </span>        </td><td><span style=white-space:pre-wrap> White             </span>   </td><td> Female                                                       </td><td><span style=white-space:pre-wrap>    0</span>                 </td><td><span style=white-space:pre-wrap>   0</span>                  </td><td>40                                                            </td><td> United-States                                                </td><td> &lt;=50K                                                     </td></tr>\n",
       "\t<tr><td>56                                                            </td><td><span style=white-space:pre-wrap> Local-gov       </span>     </td><td>216851                                                        </td><td><span style=white-space:pre-wrap> Bachelors   </span>         </td><td>13                                                            </td><td><span style=white-space:pre-wrap> Married-civ-spouse   </span></td><td><span style=white-space:pre-wrap> Tech-support     </span>    </td><td><span style=white-space:pre-wrap> Husband      </span>        </td><td><span style=white-space:pre-wrap> White             </span>   </td><td><span style=white-space:pre-wrap> Male  </span>               </td><td><span style=white-space:pre-wrap>    0</span>                 </td><td><span style=white-space:pre-wrap>   0</span>                  </td><td>40                                                            </td><td> United-States                                                </td><td> &gt;50K                                                      </td></tr>\n",
       "\t<tr><td>19                                                            </td><td><span style=white-space:pre-wrap> Private         </span>     </td><td>168294                                                        </td><td><span style=white-space:pre-wrap> HS-grad     </span>         </td><td> 9                                                            </td><td><span style=white-space:pre-wrap> Never-married        </span></td><td><span style=white-space:pre-wrap> Craft-repair     </span>    </td><td><span style=white-space:pre-wrap> Own-child    </span>        </td><td><span style=white-space:pre-wrap> White             </span>   </td><td><span style=white-space:pre-wrap> Male  </span>               </td><td><span style=white-space:pre-wrap>    0</span>                 </td><td><span style=white-space:pre-wrap>   0</span>                  </td><td>40                                                            </td><td> United-States                                                </td><td> &lt;=50K                                                     </td></tr>\n",
       "\t<tr><td>54                                                            </td><td><span style=white-space:pre-wrap>NA               </span>     </td><td>180211                                                        </td><td> Some-college                                                 </td><td>10                                                            </td><td><span style=white-space:pre-wrap> Married-civ-spouse   </span></td><td><span style=white-space:pre-wrap>NA                </span>    </td><td><span style=white-space:pre-wrap> Husband      </span>        </td><td> Asian-Pac-Islander                                           </td><td><span style=white-space:pre-wrap> Male  </span>               </td><td><span style=white-space:pre-wrap>    0</span>                 </td><td><span style=white-space:pre-wrap>   0</span>                  </td><td>60                                                            </td><td><span style=white-space:pre-wrap> South        </span>        </td><td> &gt;50K                                                      </td></tr>\n",
       "\t<tr><td>39                                                            </td><td><span style=white-space:pre-wrap> Private         </span>     </td><td>367260                                                        </td><td><span style=white-space:pre-wrap> HS-grad     </span>         </td><td> 9                                                            </td><td><span style=white-space:pre-wrap> Divorced             </span></td><td><span style=white-space:pre-wrap> Exec-managerial  </span>    </td><td> Not-in-family                                                </td><td><span style=white-space:pre-wrap> White             </span>   </td><td><span style=white-space:pre-wrap> Male  </span>               </td><td><span style=white-space:pre-wrap>    0</span>                 </td><td><span style=white-space:pre-wrap>   0</span>                  </td><td>80                                                            </td><td> United-States                                                </td><td> &lt;=50K                                                     </td></tr>\n",
       "\t<tr><td>49                                                            </td><td><span style=white-space:pre-wrap> Private         </span>     </td><td>193366                                                        </td><td><span style=white-space:pre-wrap> HS-grad     </span>         </td><td> 9                                                            </td><td><span style=white-space:pre-wrap> Married-civ-spouse   </span></td><td><span style=white-space:pre-wrap> Craft-repair     </span>    </td><td><span style=white-space:pre-wrap> Husband      </span>        </td><td><span style=white-space:pre-wrap> White             </span>   </td><td><span style=white-space:pre-wrap> Male  </span>               </td><td><span style=white-space:pre-wrap>    0</span>                 </td><td><span style=white-space:pre-wrap>   0</span>                  </td><td>40                                                            </td><td> United-States                                                </td><td> &lt;=50K                                                     </td></tr>\n",
       "\t<tr><td>23                                                            </td><td><span style=white-space:pre-wrap> Local-gov       </span>     </td><td>190709                                                        </td><td><span style=white-space:pre-wrap> Assoc-acdm  </span>         </td><td>12                                                            </td><td><span style=white-space:pre-wrap> Never-married        </span></td><td><span style=white-space:pre-wrap> Protective-serv  </span>    </td><td> Not-in-family                                                </td><td><span style=white-space:pre-wrap> White             </span>   </td><td><span style=white-space:pre-wrap> Male  </span>               </td><td><span style=white-space:pre-wrap>    0</span>                 </td><td><span style=white-space:pre-wrap>   0</span>                  </td><td>52                                                            </td><td> United-States                                                </td><td> &lt;=50K                                                     </td></tr>\n",
       "\t<tr><td>...</td><td>...</td><td>...</td><td>...</td><td>...</td><td>...</td><td>...</td><td>...</td><td>...</td><td>...</td><td>...</td><td>...</td><td>...</td><td>...</td><td>...</td></tr>\n",
       "\t<tr><td>30                                                         </td><td><span style=white-space:pre-wrap>NA               </span>  </td><td> 33811                                                     </td><td><span style=white-space:pre-wrap> Bachelors   </span>      </td><td>13                                                         </td><td><span style=white-space:pre-wrap> Never-married     </span></td><td><span style=white-space:pre-wrap>NA                </span> </td><td> Not-in-family                                             </td><td> Asian-Pac-Islander                                        </td><td> Female                                                    </td><td><span style=white-space:pre-wrap>    0</span>              </td><td>0                                                          </td><td>99                                                         </td><td> United-States                                             </td><td> &lt;=50K                                                  </td></tr>\n",
       "\t<tr><td>34                                                         </td><td><span style=white-space:pre-wrap> Private         </span>  </td><td>204461                                                     </td><td><span style=white-space:pre-wrap> Doctorate   </span>      </td><td>16                                                         </td><td> Married-civ-spouse                                        </td><td><span style=white-space:pre-wrap> Prof-specialty   </span> </td><td><span style=white-space:pre-wrap> Husband       </span>    </td><td><span style=white-space:pre-wrap> White             </span></td><td><span style=white-space:pre-wrap> Male  </span>            </td><td><span style=white-space:pre-wrap>    0</span>              </td><td>0                                                          </td><td>60                                                         </td><td> United-States                                             </td><td> &gt;50K                                                   </td></tr>\n",
       "\t<tr><td>54                                                        </td><td><span style=white-space:pre-wrap> Private         </span> </td><td>337992                                                    </td><td><span style=white-space:pre-wrap> Bachelors   </span>     </td><td>13                                                        </td><td> Married-civ-spouse                                       </td><td><span style=white-space:pre-wrap> Exec-managerial  </span></td><td><span style=white-space:pre-wrap> Husband       </span>   </td><td> Asian-Pac-Islander                                       </td><td><span style=white-space:pre-wrap> Male  </span>           </td><td><span style=white-space:pre-wrap>    0</span>             </td><td>0                                                         </td><td>50                                                        </td><td><span style=white-space:pre-wrap> Japan        </span>    </td><td> &gt;50K                                                  </td></tr>\n",
       "\t<tr><td>37                                                         </td><td><span style=white-space:pre-wrap> Private         </span>  </td><td>179137                                                     </td><td> Some-college                                              </td><td>10                                                         </td><td><span style=white-space:pre-wrap> Divorced          </span></td><td><span style=white-space:pre-wrap> Adm-clerical     </span> </td><td><span style=white-space:pre-wrap> Unmarried     </span>    </td><td><span style=white-space:pre-wrap> White             </span></td><td> Female                                                    </td><td><span style=white-space:pre-wrap>    0</span>              </td><td>0                                                          </td><td>39                                                         </td><td> United-States                                             </td><td> &lt;=50K                                                  </td></tr>\n",
       "\t<tr><td>22                                                         </td><td><span style=white-space:pre-wrap> Private         </span>  </td><td>325033                                                     </td><td><span style=white-space:pre-wrap> 12th        </span>      </td><td> 8                                                         </td><td><span style=white-space:pre-wrap> Never-married     </span></td><td><span style=white-space:pre-wrap> Protective-serv  </span> </td><td><span style=white-space:pre-wrap> Own-child     </span>    </td><td><span style=white-space:pre-wrap> Black             </span></td><td><span style=white-space:pre-wrap> Male  </span>            </td><td><span style=white-space:pre-wrap>    0</span>              </td><td>0                                                          </td><td>35                                                         </td><td> United-States                                             </td><td> &lt;=50K                                                  </td></tr>\n",
       "\t<tr><td>34                                                         </td><td><span style=white-space:pre-wrap> Private         </span>  </td><td>160216                                                     </td><td><span style=white-space:pre-wrap> Bachelors   </span>      </td><td>13                                                         </td><td><span style=white-space:pre-wrap> Never-married     </span></td><td><span style=white-space:pre-wrap> Exec-managerial  </span> </td><td> Not-in-family                                             </td><td><span style=white-space:pre-wrap> White             </span></td><td> Female                                                    </td><td><span style=white-space:pre-wrap>    0</span>              </td><td>0                                                          </td><td>55                                                         </td><td> United-States                                             </td><td> &gt;50K                                                   </td></tr>\n",
       "\t<tr><td>30                                                         </td><td><span style=white-space:pre-wrap> Private         </span>  </td><td>345898                                                     </td><td><span style=white-space:pre-wrap> HS-grad     </span>      </td><td> 9                                                         </td><td><span style=white-space:pre-wrap> Never-married     </span></td><td><span style=white-space:pre-wrap> Craft-repair     </span> </td><td> Not-in-family                                             </td><td><span style=white-space:pre-wrap> Black             </span></td><td><span style=white-space:pre-wrap> Male  </span>            </td><td><span style=white-space:pre-wrap>    0</span>              </td><td>0                                                          </td><td>46                                                         </td><td> United-States                                             </td><td> &lt;=50K                                                  </td></tr>\n",
       "\t<tr><td>38                                                         </td><td><span style=white-space:pre-wrap> Private         </span>  </td><td>139180                                                     </td><td><span style=white-space:pre-wrap> Bachelors   </span>      </td><td>13                                                         </td><td><span style=white-space:pre-wrap> Divorced          </span></td><td><span style=white-space:pre-wrap> Prof-specialty   </span> </td><td><span style=white-space:pre-wrap> Unmarried     </span>    </td><td><span style=white-space:pre-wrap> Black             </span></td><td> Female                                                    </td><td>15020                                                      </td><td>0                                                          </td><td>45                                                         </td><td> United-States                                             </td><td> &gt;50K                                                   </td></tr>\n",
       "\t<tr><td>71                                                         </td><td><span style=white-space:pre-wrap>NA               </span>  </td><td>287372                                                     </td><td><span style=white-space:pre-wrap> Doctorate   </span>      </td><td>16                                                         </td><td> Married-civ-spouse                                        </td><td><span style=white-space:pre-wrap>NA                </span> </td><td><span style=white-space:pre-wrap> Husband       </span>    </td><td><span style=white-space:pre-wrap> White             </span></td><td><span style=white-space:pre-wrap> Male  </span>            </td><td><span style=white-space:pre-wrap>    0</span>              </td><td>0                                                          </td><td>10                                                         </td><td> United-States                                             </td><td> &gt;50K                                                   </td></tr>\n",
       "\t<tr><td>45                                                         </td><td><span style=white-space:pre-wrap> State-gov       </span>  </td><td>252208                                                     </td><td><span style=white-space:pre-wrap> HS-grad     </span>      </td><td> 9                                                         </td><td><span style=white-space:pre-wrap> Separated         </span></td><td><span style=white-space:pre-wrap> Adm-clerical     </span> </td><td><span style=white-space:pre-wrap> Own-child     </span>    </td><td><span style=white-space:pre-wrap> White             </span></td><td> Female                                                    </td><td><span style=white-space:pre-wrap>    0</span>              </td><td>0                                                          </td><td>40                                                         </td><td> United-States                                             </td><td> &lt;=50K                                                  </td></tr>\n",
       "\t<tr><td>41                                                         </td><td><span style=white-space:pre-wrap>NA               </span>  </td><td>202822                                                     </td><td><span style=white-space:pre-wrap> HS-grad     </span>      </td><td> 9                                                         </td><td><span style=white-space:pre-wrap> Separated         </span></td><td><span style=white-space:pre-wrap>NA                </span> </td><td> Not-in-family                                             </td><td><span style=white-space:pre-wrap> Black             </span></td><td> Female                                                    </td><td><span style=white-space:pre-wrap>    0</span>              </td><td>0                                                          </td><td>32                                                         </td><td> United-States                                             </td><td> &lt;=50K                                                  </td></tr>\n",
       "\t<tr><td>72                                                         </td><td><span style=white-space:pre-wrap>NA               </span>  </td><td>129912                                                     </td><td><span style=white-space:pre-wrap> HS-grad     </span>      </td><td> 9                                                         </td><td> Married-civ-spouse                                        </td><td><span style=white-space:pre-wrap>NA                </span> </td><td><span style=white-space:pre-wrap> Husband       </span>    </td><td><span style=white-space:pre-wrap> White             </span></td><td><span style=white-space:pre-wrap> Male  </span>            </td><td><span style=white-space:pre-wrap>    0</span>              </td><td>0                                                          </td><td>25                                                         </td><td> United-States                                             </td><td> &lt;=50K                                                  </td></tr>\n",
       "\t<tr><td>45                                                         </td><td><span style=white-space:pre-wrap> Local-gov       </span>  </td><td>119199                                                     </td><td><span style=white-space:pre-wrap> Assoc-acdm  </span>      </td><td>12                                                         </td><td><span style=white-space:pre-wrap> Divorced          </span></td><td><span style=white-space:pre-wrap> Prof-specialty   </span> </td><td><span style=white-space:pre-wrap> Unmarried     </span>    </td><td><span style=white-space:pre-wrap> White             </span></td><td> Female                                                    </td><td><span style=white-space:pre-wrap>    0</span>              </td><td>0                                                          </td><td>48                                                         </td><td> United-States                                             </td><td> &lt;=50K                                                  </td></tr>\n",
       "\t<tr><td>31                                                         </td><td><span style=white-space:pre-wrap> Private         </span>  </td><td>199655                                                     </td><td><span style=white-space:pre-wrap> Masters     </span>      </td><td>14                                                         </td><td><span style=white-space:pre-wrap> Divorced          </span></td><td><span style=white-space:pre-wrap> Other-service    </span> </td><td> Not-in-family                                             </td><td><span style=white-space:pre-wrap> Other             </span></td><td> Female                                                    </td><td><span style=white-space:pre-wrap>    0</span>              </td><td>0                                                          </td><td>30                                                         </td><td> United-States                                             </td><td> &lt;=50K                                                  </td></tr>\n",
       "\t<tr><td>39                                                         </td><td><span style=white-space:pre-wrap> Local-gov       </span>  </td><td>111499                                                     </td><td><span style=white-space:pre-wrap> Assoc-acdm  </span>      </td><td>12                                                         </td><td> Married-civ-spouse                                        </td><td><span style=white-space:pre-wrap> Adm-clerical     </span> </td><td><span style=white-space:pre-wrap> Wife          </span>    </td><td><span style=white-space:pre-wrap> White             </span></td><td> Female                                                    </td><td><span style=white-space:pre-wrap>    0</span>              </td><td>0                                                          </td><td>20                                                         </td><td> United-States                                             </td><td> &gt;50K                                                   </td></tr>\n",
       "\t<tr><td>37                                                         </td><td><span style=white-space:pre-wrap> Private         </span>  </td><td>198216                                                     </td><td><span style=white-space:pre-wrap> Assoc-acdm  </span>      </td><td>12                                                         </td><td><span style=white-space:pre-wrap> Divorced          </span></td><td><span style=white-space:pre-wrap> Tech-support     </span> </td><td> Not-in-family                                             </td><td><span style=white-space:pre-wrap> White             </span></td><td> Female                                                    </td><td><span style=white-space:pre-wrap>    0</span>              </td><td>0                                                          </td><td>40                                                         </td><td> United-States                                             </td><td> &lt;=50K                                                  </td></tr>\n",
       "\t<tr><td>43                                                         </td><td><span style=white-space:pre-wrap> Private         </span>  </td><td>260761                                                     </td><td><span style=white-space:pre-wrap> HS-grad     </span>      </td><td> 9                                                         </td><td> Married-civ-spouse                                        </td><td> Machine-op-inspct                                         </td><td><span style=white-space:pre-wrap> Husband       </span>    </td><td><span style=white-space:pre-wrap> White             </span></td><td><span style=white-space:pre-wrap> Male  </span>            </td><td><span style=white-space:pre-wrap>    0</span>              </td><td>0                                                          </td><td>40                                                         </td><td><span style=white-space:pre-wrap> Mexico       </span>     </td><td> &lt;=50K                                                  </td></tr>\n",
       "\t<tr><td>65                                                         </td><td> Self-emp-not-inc                                          </td><td> 99359                                                     </td><td> Prof-school                                               </td><td>15                                                         </td><td><span style=white-space:pre-wrap> Never-married     </span></td><td><span style=white-space:pre-wrap> Prof-specialty   </span> </td><td> Not-in-family                                             </td><td><span style=white-space:pre-wrap> White             </span></td><td><span style=white-space:pre-wrap> Male  </span>            </td><td> 1086                                                      </td><td>0                                                          </td><td>60                                                         </td><td> United-States                                             </td><td> &lt;=50K                                                  </td></tr>\n",
       "\t<tr><td>43                                                         </td><td><span style=white-space:pre-wrap> State-gov       </span>  </td><td>255835                                                     </td><td> Some-college                                              </td><td>10                                                         </td><td><span style=white-space:pre-wrap> Divorced          </span></td><td><span style=white-space:pre-wrap> Adm-clerical     </span> </td><td> Other-relative                                            </td><td><span style=white-space:pre-wrap> White             </span></td><td> Female                                                    </td><td><span style=white-space:pre-wrap>    0</span>              </td><td>0                                                          </td><td>40                                                         </td><td> United-States                                             </td><td> &lt;=50K                                                  </td></tr>\n",
       "\t<tr><td>43                                                         </td><td> Self-emp-not-inc                                          </td><td> 27242                                                     </td><td> Some-college                                              </td><td>10                                                         </td><td> Married-civ-spouse                                        </td><td><span style=white-space:pre-wrap> Craft-repair     </span> </td><td><span style=white-space:pre-wrap> Husband       </span>    </td><td><span style=white-space:pre-wrap> White             </span></td><td><span style=white-space:pre-wrap> Male  </span>            </td><td><span style=white-space:pre-wrap>    0</span>              </td><td>0                                                          </td><td>50                                                         </td><td> United-States                                             </td><td> &lt;=50K                                                  </td></tr>\n",
       "\t<tr><td>32                                                       </td><td><span style=white-space:pre-wrap> Private         </span></td><td> 34066                                                   </td><td><span style=white-space:pre-wrap> 10th        </span>    </td><td> 6                                                       </td><td> Married-civ-spouse                                      </td><td> Handlers-cleaners                                       </td><td><span style=white-space:pre-wrap> Husband       </span>  </td><td> Amer-Indian-Eskimo                                      </td><td><span style=white-space:pre-wrap> Male  </span>          </td><td><span style=white-space:pre-wrap>    0</span>            </td><td>0                                                        </td><td>40                                                       </td><td> United-States                                           </td><td> &lt;=50K                                                </td></tr>\n",
       "\t<tr><td>43                                                         </td><td><span style=white-space:pre-wrap> Private         </span>  </td><td> 84661                                                     </td><td><span style=white-space:pre-wrap> Assoc-voc   </span>      </td><td>11                                                         </td><td> Married-civ-spouse                                        </td><td><span style=white-space:pre-wrap> Sales            </span> </td><td><span style=white-space:pre-wrap> Husband       </span>    </td><td><span style=white-space:pre-wrap> White             </span></td><td><span style=white-space:pre-wrap> Male  </span>            </td><td><span style=white-space:pre-wrap>    0</span>              </td><td>0                                                          </td><td>45                                                         </td><td> United-States                                             </td><td> &lt;=50K                                                  </td></tr>\n",
       "\t<tr><td>32                                                         </td><td><span style=white-space:pre-wrap> Private         </span>  </td><td>116138                                                     </td><td><span style=white-space:pre-wrap> Masters     </span>      </td><td>14                                                         </td><td><span style=white-space:pre-wrap> Never-married     </span></td><td><span style=white-space:pre-wrap> Tech-support     </span> </td><td> Not-in-family                                             </td><td> Asian-Pac-Islander                                        </td><td><span style=white-space:pre-wrap> Male  </span>            </td><td><span style=white-space:pre-wrap>    0</span>              </td><td>0                                                          </td><td>11                                                         </td><td><span style=white-space:pre-wrap> Taiwan       </span>     </td><td> &lt;=50K                                                  </td></tr>\n",
       "\t<tr><td>53                                                         </td><td><span style=white-space:pre-wrap> Private         </span>  </td><td>321865                                                     </td><td><span style=white-space:pre-wrap> Masters     </span>      </td><td>14                                                         </td><td> Married-civ-spouse                                        </td><td><span style=white-space:pre-wrap> Exec-managerial  </span> </td><td><span style=white-space:pre-wrap> Husband       </span>    </td><td><span style=white-space:pre-wrap> White             </span></td><td><span style=white-space:pre-wrap> Male  </span>            </td><td><span style=white-space:pre-wrap>    0</span>              </td><td>0                                                          </td><td>40                                                         </td><td> United-States                                             </td><td> &gt;50K                                                   </td></tr>\n",
       "\t<tr><td>22                                                         </td><td><span style=white-space:pre-wrap> Private         </span>  </td><td>310152                                                     </td><td> Some-college                                              </td><td>10                                                         </td><td><span style=white-space:pre-wrap> Never-married     </span></td><td><span style=white-space:pre-wrap> Protective-serv  </span> </td><td> Not-in-family                                             </td><td><span style=white-space:pre-wrap> White             </span></td><td><span style=white-space:pre-wrap> Male  </span>            </td><td><span style=white-space:pre-wrap>    0</span>              </td><td>0                                                          </td><td>40                                                         </td><td> United-States                                             </td><td> &lt;=50K                                                  </td></tr>\n",
       "\t<tr><td>27                                                         </td><td><span style=white-space:pre-wrap> Private         </span>  </td><td>257302                                                     </td><td><span style=white-space:pre-wrap> Assoc-acdm  </span>      </td><td>12                                                         </td><td> Married-civ-spouse                                        </td><td><span style=white-space:pre-wrap> Tech-support     </span> </td><td><span style=white-space:pre-wrap> Wife          </span>    </td><td><span style=white-space:pre-wrap> White             </span></td><td> Female                                                    </td><td><span style=white-space:pre-wrap>    0</span>              </td><td>0                                                          </td><td>38                                                         </td><td> United-States                                             </td><td> &lt;=50K                                                  </td></tr>\n",
       "\t<tr><td>40                                                         </td><td><span style=white-space:pre-wrap> Private         </span>  </td><td>154374                                                     </td><td><span style=white-space:pre-wrap> HS-grad     </span>      </td><td> 9                                                         </td><td> Married-civ-spouse                                        </td><td> Machine-op-inspct                                         </td><td><span style=white-space:pre-wrap> Husband       </span>    </td><td><span style=white-space:pre-wrap> White             </span></td><td><span style=white-space:pre-wrap> Male  </span>            </td><td><span style=white-space:pre-wrap>    0</span>              </td><td>0                                                          </td><td>40                                                         </td><td> United-States                                             </td><td> &gt;50K                                                   </td></tr>\n",
       "\t<tr><td>58                                                         </td><td><span style=white-space:pre-wrap> Private         </span>  </td><td>151910                                                     </td><td><span style=white-space:pre-wrap> HS-grad     </span>      </td><td> 9                                                         </td><td><span style=white-space:pre-wrap> Widowed           </span></td><td><span style=white-space:pre-wrap> Adm-clerical     </span> </td><td><span style=white-space:pre-wrap> Unmarried     </span>    </td><td><span style=white-space:pre-wrap> White             </span></td><td> Female                                                    </td><td><span style=white-space:pre-wrap>    0</span>              </td><td>0                                                          </td><td>40                                                         </td><td> United-States                                             </td><td> &lt;=50K                                                  </td></tr>\n",
       "\t<tr><td>22                                                         </td><td><span style=white-space:pre-wrap> Private         </span>  </td><td>201490                                                     </td><td><span style=white-space:pre-wrap> HS-grad     </span>      </td><td> 9                                                         </td><td><span style=white-space:pre-wrap> Never-married     </span></td><td><span style=white-space:pre-wrap> Adm-clerical     </span> </td><td><span style=white-space:pre-wrap> Own-child     </span>    </td><td><span style=white-space:pre-wrap> White             </span></td><td><span style=white-space:pre-wrap> Male  </span>            </td><td><span style=white-space:pre-wrap>    0</span>              </td><td>0                                                          </td><td>20                                                         </td><td> United-States                                             </td><td> &lt;=50K                                                  </td></tr>\n",
       "\t<tr><td>52                                                         </td><td><span style=white-space:pre-wrap> Self-emp-inc    </span>  </td><td>287927                                                     </td><td><span style=white-space:pre-wrap> HS-grad     </span>      </td><td> 9                                                         </td><td> Married-civ-spouse                                        </td><td><span style=white-space:pre-wrap> Exec-managerial  </span> </td><td><span style=white-space:pre-wrap> Wife          </span>    </td><td><span style=white-space:pre-wrap> White             </span></td><td> Female                                                    </td><td>15024                                                      </td><td>0                                                          </td><td>40                                                         </td><td> United-States                                             </td><td> &gt;50K                                                   </td></tr>\n",
       "</tbody>\n",
       "</table>\n"
      ],
      "text/latex": [
       "\\begin{tabular}{r|lllllllllllllll}\n",
       " age & workclass & fnlwgt & education & education.num & marital.status & occupation & relationship & race & sex & capital.gain & capital.loss & hours.per.week & native.country & income\\\\\n",
       "\\hline\n",
       "\t 50                     &  Self-emp-not-inc      &  83311                 &  Bachelors             & 13                     &  Married-civ-spouse    &  Exec-managerial       &  Husband               &  White                 &  Male                  &     0                  &    0                   & 13                     &  United-States         &  <=50K                \\\\\n",
       "\t 38                     &  Private               & 215646                 &  HS-grad               &  9                     &  Divorced              &  Handlers-cleaners     &  Not-in-family         &  White                 &  Male                  &     0                  &    0                   & 40                     &  United-States         &  <=50K                \\\\\n",
       "\t 53                     &  Private               & 234721                 &  11th                  &  7                     &  Married-civ-spouse    &  Handlers-cleaners     &  Husband               &  Black                 &  Male                  &     0                  &    0                   & 40                     &  United-States         &  <=50K                \\\\\n",
       "\t 28                     &  Private               & 338409                 &  Bachelors             & 13                     &  Married-civ-spouse    &  Prof-specialty        &  Wife                  &  Black                 &  Female                &     0                  &    0                   & 40                     &  Cuba                  &  <=50K                \\\\\n",
       "\t 37                     &  Private               & 284582                 &  Masters               & 14                     &  Married-civ-spouse    &  Exec-managerial       &  Wife                  &  White                 &  Female                &     0                  &    0                   & 40                     &  United-States         &  <=50K                \\\\\n",
       "\t 49                     &  Private               & 160187                 &  9th                   &  5                     &  Married-spouse-absent &  Other-service         &  Not-in-family         &  Black                 &  Female                &     0                  &    0                   & 16                     &  Jamaica               &  <=50K                \\\\\n",
       "\t 52                     &  Self-emp-not-inc      & 209642                 &  HS-grad               &  9                     &  Married-civ-spouse    &  Exec-managerial       &  Husband               &  White                 &  Male                  &     0                  &    0                   & 45                     &  United-States         &  >50K                 \\\\\n",
       "\t 31                     &  Private               &  45781                 &  Masters               & 14                     &  Never-married         &  Prof-specialty        &  Not-in-family         &  White                 &  Female                & 14084                  &    0                   & 50                     &  United-States         &  >50K                 \\\\\n",
       "\t 42                     &  Private               & 159449                 &  Bachelors             & 13                     &  Married-civ-spouse    &  Exec-managerial       &  Husband               &  White                 &  Male                  &  5178                  &    0                   & 40                     &  United-States         &  >50K                 \\\\\n",
       "\t 37                     &  Private               & 280464                 &  Some-college          & 10                     &  Married-civ-spouse    &  Exec-managerial       &  Husband               &  Black                 &  Male                  &     0                  &    0                   & 80                     &  United-States         &  >50K                 \\\\\n",
       "\t 30                     &  State-gov             & 141297                 &  Bachelors             & 13                     &  Married-civ-spouse    &  Prof-specialty        &  Husband               &  Asian-Pac-Islander    &  Male                  &     0                  &    0                   & 40                     &  India                 &  >50K                 \\\\\n",
       "\t 23                     &  Private               & 122272                 &  Bachelors             & 13                     &  Never-married         &  Adm-clerical          &  Own-child             &  White                 &  Female                &     0                  &    0                   & 30                     &  United-States         &  <=50K                \\\\\n",
       "\t 32                     &  Private               & 205019                 &  Assoc-acdm            & 12                     &  Never-married         &  Sales                 &  Not-in-family         &  Black                 &  Male                  &     0                  &    0                   & 50                     &  United-States         &  <=50K                \\\\\n",
       "\t 40                     &  Private               & 121772                 &  Assoc-voc             & 11                     &  Married-civ-spouse    &  Craft-repair          &  Husband               &  Asian-Pac-Islander    &  Male                  &     0                  &    0                   & 40                     & NA                     &  >50K                 \\\\\n",
       "\t 34                     &  Private               & 245487                 &  7th-8th               &  4                     &  Married-civ-spouse    &  Transport-moving      &  Husband               &  Amer-Indian-Eskimo    &  Male                  &     0                  &    0                   & 45                     &  Mexico                &  <=50K                \\\\\n",
       "\t 25                     &  Self-emp-not-inc      & 176756                 &  HS-grad               &  9                     &  Never-married         &  Farming-fishing       &  Own-child             &  White                 &  Male                  &     0                  &    0                   & 35                     &  United-States         &  <=50K                \\\\\n",
       "\t 32                     &  Private               & 186824                 &  HS-grad               &  9                     &  Never-married         &  Machine-op-inspct     &  Unmarried             &  White                 &  Male                  &     0                  &    0                   & 40                     &  United-States         &  <=50K                \\\\\n",
       "\t 38                     &  Private               &  28887                 &  11th                  &  7                     &  Married-civ-spouse    &  Sales                 &  Husband               &  White                 &  Male                  &     0                  &    0                   & 50                     &  United-States         &  <=50K                \\\\\n",
       "\t 43                     &  Self-emp-not-inc      & 292175                 &  Masters               & 14                     &  Divorced              &  Exec-managerial       &  Unmarried             &  White                 &  Female                &     0                  &    0                   & 45                     &  United-States         &  >50K                 \\\\\n",
       "\t 40                     &  Private               & 193524                 &  Doctorate             & 16                     &  Married-civ-spouse    &  Prof-specialty        &  Husband               &  White                 &  Male                  &     0                  &    0                   & 60                     &  United-States         &  >50K                 \\\\\n",
       "\t 54                     &  Private               & 302146                 &  HS-grad               &  9                     &  Separated             &  Other-service         &  Unmarried             &  Black                 &  Female                &     0                  &    0                   & 20                     &  United-States         &  <=50K                \\\\\n",
       "\t 35                     &  Federal-gov           &  76845                 &  9th                   &  5                     &  Married-civ-spouse    &  Farming-fishing       &  Husband               &  Black                 &  Male                  &     0                  &    0                   & 40                     &  United-States         &  <=50K                \\\\\n",
       "\t 43                     &  Private               & 117037                 &  11th                  &  7                     &  Married-civ-spouse    &  Transport-moving      &  Husband               &  White                 &  Male                  &     0                  & 2042                   & 40                     &  United-States         &  <=50K                \\\\\n",
       "\t 59                     &  Private               & 109015                 &  HS-grad               &  9                     &  Divorced              &  Tech-support          &  Unmarried             &  White                 &  Female                &     0                  &    0                   & 40                     &  United-States         &  <=50K                \\\\\n",
       "\t 56                     &  Local-gov             & 216851                 &  Bachelors             & 13                     &  Married-civ-spouse    &  Tech-support          &  Husband               &  White                 &  Male                  &     0                  &    0                   & 40                     &  United-States         &  >50K                 \\\\\n",
       "\t 19                     &  Private               & 168294                 &  HS-grad               &  9                     &  Never-married         &  Craft-repair          &  Own-child             &  White                 &  Male                  &     0                  &    0                   & 40                     &  United-States         &  <=50K                \\\\\n",
       "\t 54                     & NA                     & 180211                 &  Some-college          & 10                     &  Married-civ-spouse    & NA                     &  Husband               &  Asian-Pac-Islander    &  Male                  &     0                  &    0                   & 60                     &  South                 &  >50K                 \\\\\n",
       "\t 39                     &  Private               & 367260                 &  HS-grad               &  9                     &  Divorced              &  Exec-managerial       &  Not-in-family         &  White                 &  Male                  &     0                  &    0                   & 80                     &  United-States         &  <=50K                \\\\\n",
       "\t 49                     &  Private               & 193366                 &  HS-grad               &  9                     &  Married-civ-spouse    &  Craft-repair          &  Husband               &  White                 &  Male                  &     0                  &    0                   & 40                     &  United-States         &  <=50K                \\\\\n",
       "\t 23                     &  Local-gov             & 190709                 &  Assoc-acdm            & 12                     &  Never-married         &  Protective-serv       &  Not-in-family         &  White                 &  Male                  &     0                  &    0                   & 52                     &  United-States         &  <=50K                \\\\\n",
       "\t ... & ... & ... & ... & ... & ... & ... & ... & ... & ... & ... & ... & ... & ... & ...\\\\\n",
       "\t 30                  & NA                  &  33811              &  Bachelors          & 13                  &  Never-married      & NA                  &  Not-in-family      &  Asian-Pac-Islander &  Female             &     0               & 0                   & 99                  &  United-States      &  <=50K             \\\\\n",
       "\t 34                  &  Private            & 204461              &  Doctorate          & 16                  &  Married-civ-spouse &  Prof-specialty     &  Husband            &  White              &  Male               &     0               & 0                   & 60                  &  United-States      &  >50K              \\\\\n",
       "\t 54                  &  Private            & 337992              &  Bachelors          & 13                  &  Married-civ-spouse &  Exec-managerial    &  Husband            &  Asian-Pac-Islander &  Male               &     0               & 0                   & 50                  &  Japan              &  >50K              \\\\\n",
       "\t 37                  &  Private            & 179137              &  Some-college       & 10                  &  Divorced           &  Adm-clerical       &  Unmarried          &  White              &  Female             &     0               & 0                   & 39                  &  United-States      &  <=50K             \\\\\n",
       "\t 22                  &  Private            & 325033              &  12th               &  8                  &  Never-married      &  Protective-serv    &  Own-child          &  Black              &  Male               &     0               & 0                   & 35                  &  United-States      &  <=50K             \\\\\n",
       "\t 34                  &  Private            & 160216              &  Bachelors          & 13                  &  Never-married      &  Exec-managerial    &  Not-in-family      &  White              &  Female             &     0               & 0                   & 55                  &  United-States      &  >50K              \\\\\n",
       "\t 30                  &  Private            & 345898              &  HS-grad            &  9                  &  Never-married      &  Craft-repair       &  Not-in-family      &  Black              &  Male               &     0               & 0                   & 46                  &  United-States      &  <=50K             \\\\\n",
       "\t 38                  &  Private            & 139180              &  Bachelors          & 13                  &  Divorced           &  Prof-specialty     &  Unmarried          &  Black              &  Female             & 15020               & 0                   & 45                  &  United-States      &  >50K              \\\\\n",
       "\t 71                  & NA                  & 287372              &  Doctorate          & 16                  &  Married-civ-spouse & NA                  &  Husband            &  White              &  Male               &     0               & 0                   & 10                  &  United-States      &  >50K              \\\\\n",
       "\t 45                  &  State-gov          & 252208              &  HS-grad            &  9                  &  Separated          &  Adm-clerical       &  Own-child          &  White              &  Female             &     0               & 0                   & 40                  &  United-States      &  <=50K             \\\\\n",
       "\t 41                  & NA                  & 202822              &  HS-grad            &  9                  &  Separated          & NA                  &  Not-in-family      &  Black              &  Female             &     0               & 0                   & 32                  &  United-States      &  <=50K             \\\\\n",
       "\t 72                  & NA                  & 129912              &  HS-grad            &  9                  &  Married-civ-spouse & NA                  &  Husband            &  White              &  Male               &     0               & 0                   & 25                  &  United-States      &  <=50K             \\\\\n",
       "\t 45                  &  Local-gov          & 119199              &  Assoc-acdm         & 12                  &  Divorced           &  Prof-specialty     &  Unmarried          &  White              &  Female             &     0               & 0                   & 48                  &  United-States      &  <=50K             \\\\\n",
       "\t 31                  &  Private            & 199655              &  Masters            & 14                  &  Divorced           &  Other-service      &  Not-in-family      &  Other              &  Female             &     0               & 0                   & 30                  &  United-States      &  <=50K             \\\\\n",
       "\t 39                  &  Local-gov          & 111499              &  Assoc-acdm         & 12                  &  Married-civ-spouse &  Adm-clerical       &  Wife               &  White              &  Female             &     0               & 0                   & 20                  &  United-States      &  >50K              \\\\\n",
       "\t 37                  &  Private            & 198216              &  Assoc-acdm         & 12                  &  Divorced           &  Tech-support       &  Not-in-family      &  White              &  Female             &     0               & 0                   & 40                  &  United-States      &  <=50K             \\\\\n",
       "\t 43                  &  Private            & 260761              &  HS-grad            &  9                  &  Married-civ-spouse &  Machine-op-inspct  &  Husband            &  White              &  Male               &     0               & 0                   & 40                  &  Mexico             &  <=50K             \\\\\n",
       "\t 65                  &  Self-emp-not-inc   &  99359              &  Prof-school        & 15                  &  Never-married      &  Prof-specialty     &  Not-in-family      &  White              &  Male               &  1086               & 0                   & 60                  &  United-States      &  <=50K             \\\\\n",
       "\t 43                  &  State-gov          & 255835              &  Some-college       & 10                  &  Divorced           &  Adm-clerical       &  Other-relative     &  White              &  Female             &     0               & 0                   & 40                  &  United-States      &  <=50K             \\\\\n",
       "\t 43                  &  Self-emp-not-inc   &  27242              &  Some-college       & 10                  &  Married-civ-spouse &  Craft-repair       &  Husband            &  White              &  Male               &     0               & 0                   & 50                  &  United-States      &  <=50K             \\\\\n",
       "\t 32                  &  Private            &  34066              &  10th               &  6                  &  Married-civ-spouse &  Handlers-cleaners  &  Husband            &  Amer-Indian-Eskimo &  Male               &     0               & 0                   & 40                  &  United-States      &  <=50K             \\\\\n",
       "\t 43                  &  Private            &  84661              &  Assoc-voc          & 11                  &  Married-civ-spouse &  Sales              &  Husband            &  White              &  Male               &     0               & 0                   & 45                  &  United-States      &  <=50K             \\\\\n",
       "\t 32                  &  Private            & 116138              &  Masters            & 14                  &  Never-married      &  Tech-support       &  Not-in-family      &  Asian-Pac-Islander &  Male               &     0               & 0                   & 11                  &  Taiwan             &  <=50K             \\\\\n",
       "\t 53                  &  Private            & 321865              &  Masters            & 14                  &  Married-civ-spouse &  Exec-managerial    &  Husband            &  White              &  Male               &     0               & 0                   & 40                  &  United-States      &  >50K              \\\\\n",
       "\t 22                  &  Private            & 310152              &  Some-college       & 10                  &  Never-married      &  Protective-serv    &  Not-in-family      &  White              &  Male               &     0               & 0                   & 40                  &  United-States      &  <=50K             \\\\\n",
       "\t 27                  &  Private            & 257302              &  Assoc-acdm         & 12                  &  Married-civ-spouse &  Tech-support       &  Wife               &  White              &  Female             &     0               & 0                   & 38                  &  United-States      &  <=50K             \\\\\n",
       "\t 40                  &  Private            & 154374              &  HS-grad            &  9                  &  Married-civ-spouse &  Machine-op-inspct  &  Husband            &  White              &  Male               &     0               & 0                   & 40                  &  United-States      &  >50K              \\\\\n",
       "\t 58                  &  Private            & 151910              &  HS-grad            &  9                  &  Widowed            &  Adm-clerical       &  Unmarried          &  White              &  Female             &     0               & 0                   & 40                  &  United-States      &  <=50K             \\\\\n",
       "\t 22                  &  Private            & 201490              &  HS-grad            &  9                  &  Never-married      &  Adm-clerical       &  Own-child          &  White              &  Male               &     0               & 0                   & 20                  &  United-States      &  <=50K             \\\\\n",
       "\t 52                  &  Self-emp-inc       & 287927              &  HS-grad            &  9                  &  Married-civ-spouse &  Exec-managerial    &  Wife               &  White              &  Female             & 15024               & 0                   & 40                  &  United-States      &  >50K              \\\\\n",
       "\\end{tabular}\n"
      ],
      "text/markdown": [
       "\n",
       "| age | workclass | fnlwgt | education | education.num | marital.status | occupation | relationship | race | sex | capital.gain | capital.loss | hours.per.week | native.country | income |\n",
       "|---|---|---|---|---|---|---|---|---|---|---|---|---|---|---|\n",
       "| 50                     |  Self-emp-not-inc      |  83311                 |  Bachelors             | 13                     |  Married-civ-spouse    |  Exec-managerial       |  Husband               |  White                 |  Male                  |     0                  |    0                   | 13                     |  United-States         |  <=50K                 |\n",
       "| 38                     |  Private               | 215646                 |  HS-grad               |  9                     |  Divorced              |  Handlers-cleaners     |  Not-in-family         |  White                 |  Male                  |     0                  |    0                   | 40                     |  United-States         |  <=50K                 |\n",
       "| 53                     |  Private               | 234721                 |  11th                  |  7                     |  Married-civ-spouse    |  Handlers-cleaners     |  Husband               |  Black                 |  Male                  |     0                  |    0                   | 40                     |  United-States         |  <=50K                 |\n",
       "| 28                     |  Private               | 338409                 |  Bachelors             | 13                     |  Married-civ-spouse    |  Prof-specialty        |  Wife                  |  Black                 |  Female                |     0                  |    0                   | 40                     |  Cuba                  |  <=50K                 |\n",
       "| 37                     |  Private               | 284582                 |  Masters               | 14                     |  Married-civ-spouse    |  Exec-managerial       |  Wife                  |  White                 |  Female                |     0                  |    0                   | 40                     |  United-States         |  <=50K                 |\n",
       "| 49                     |  Private               | 160187                 |  9th                   |  5                     |  Married-spouse-absent |  Other-service         |  Not-in-family         |  Black                 |  Female                |     0                  |    0                   | 16                     |  Jamaica               |  <=50K                 |\n",
       "| 52                     |  Self-emp-not-inc      | 209642                 |  HS-grad               |  9                     |  Married-civ-spouse    |  Exec-managerial       |  Husband               |  White                 |  Male                  |     0                  |    0                   | 45                     |  United-States         |  >50K                  |\n",
       "| 31                     |  Private               |  45781                 |  Masters               | 14                     |  Never-married         |  Prof-specialty        |  Not-in-family         |  White                 |  Female                | 14084                  |    0                   | 50                     |  United-States         |  >50K                  |\n",
       "| 42                     |  Private               | 159449                 |  Bachelors             | 13                     |  Married-civ-spouse    |  Exec-managerial       |  Husband               |  White                 |  Male                  |  5178                  |    0                   | 40                     |  United-States         |  >50K                  |\n",
       "| 37                     |  Private               | 280464                 |  Some-college          | 10                     |  Married-civ-spouse    |  Exec-managerial       |  Husband               |  Black                 |  Male                  |     0                  |    0                   | 80                     |  United-States         |  >50K                  |\n",
       "| 30                     |  State-gov             | 141297                 |  Bachelors             | 13                     |  Married-civ-spouse    |  Prof-specialty        |  Husband               |  Asian-Pac-Islander    |  Male                  |     0                  |    0                   | 40                     |  India                 |  >50K                  |\n",
       "| 23                     |  Private               | 122272                 |  Bachelors             | 13                     |  Never-married         |  Adm-clerical          |  Own-child             |  White                 |  Female                |     0                  |    0                   | 30                     |  United-States         |  <=50K                 |\n",
       "| 32                     |  Private               | 205019                 |  Assoc-acdm            | 12                     |  Never-married         |  Sales                 |  Not-in-family         |  Black                 |  Male                  |     0                  |    0                   | 50                     |  United-States         |  <=50K                 |\n",
       "| 40                     |  Private               | 121772                 |  Assoc-voc             | 11                     |  Married-civ-spouse    |  Craft-repair          |  Husband               |  Asian-Pac-Islander    |  Male                  |     0                  |    0                   | 40                     | NA                     |  >50K                  |\n",
       "| 34                     |  Private               | 245487                 |  7th-8th               |  4                     |  Married-civ-spouse    |  Transport-moving      |  Husband               |  Amer-Indian-Eskimo    |  Male                  |     0                  |    0                   | 45                     |  Mexico                |  <=50K                 |\n",
       "| 25                     |  Self-emp-not-inc      | 176756                 |  HS-grad               |  9                     |  Never-married         |  Farming-fishing       |  Own-child             |  White                 |  Male                  |     0                  |    0                   | 35                     |  United-States         |  <=50K                 |\n",
       "| 32                     |  Private               | 186824                 |  HS-grad               |  9                     |  Never-married         |  Machine-op-inspct     |  Unmarried             |  White                 |  Male                  |     0                  |    0                   | 40                     |  United-States         |  <=50K                 |\n",
       "| 38                     |  Private               |  28887                 |  11th                  |  7                     |  Married-civ-spouse    |  Sales                 |  Husband               |  White                 |  Male                  |     0                  |    0                   | 50                     |  United-States         |  <=50K                 |\n",
       "| 43                     |  Self-emp-not-inc      | 292175                 |  Masters               | 14                     |  Divorced              |  Exec-managerial       |  Unmarried             |  White                 |  Female                |     0                  |    0                   | 45                     |  United-States         |  >50K                  |\n",
       "| 40                     |  Private               | 193524                 |  Doctorate             | 16                     |  Married-civ-spouse    |  Prof-specialty        |  Husband               |  White                 |  Male                  |     0                  |    0                   | 60                     |  United-States         |  >50K                  |\n",
       "| 54                     |  Private               | 302146                 |  HS-grad               |  9                     |  Separated             |  Other-service         |  Unmarried             |  Black                 |  Female                |     0                  |    0                   | 20                     |  United-States         |  <=50K                 |\n",
       "| 35                     |  Federal-gov           |  76845                 |  9th                   |  5                     |  Married-civ-spouse    |  Farming-fishing       |  Husband               |  Black                 |  Male                  |     0                  |    0                   | 40                     |  United-States         |  <=50K                 |\n",
       "| 43                     |  Private               | 117037                 |  11th                  |  7                     |  Married-civ-spouse    |  Transport-moving      |  Husband               |  White                 |  Male                  |     0                  | 2042                   | 40                     |  United-States         |  <=50K                 |\n",
       "| 59                     |  Private               | 109015                 |  HS-grad               |  9                     |  Divorced              |  Tech-support          |  Unmarried             |  White                 |  Female                |     0                  |    0                   | 40                     |  United-States         |  <=50K                 |\n",
       "| 56                     |  Local-gov             | 216851                 |  Bachelors             | 13                     |  Married-civ-spouse    |  Tech-support          |  Husband               |  White                 |  Male                  |     0                  |    0                   | 40                     |  United-States         |  >50K                  |\n",
       "| 19                     |  Private               | 168294                 |  HS-grad               |  9                     |  Never-married         |  Craft-repair          |  Own-child             |  White                 |  Male                  |     0                  |    0                   | 40                     |  United-States         |  <=50K                 |\n",
       "| 54                     | NA                     | 180211                 |  Some-college          | 10                     |  Married-civ-spouse    | NA                     |  Husband               |  Asian-Pac-Islander    |  Male                  |     0                  |    0                   | 60                     |  South                 |  >50K                  |\n",
       "| 39                     |  Private               | 367260                 |  HS-grad               |  9                     |  Divorced              |  Exec-managerial       |  Not-in-family         |  White                 |  Male                  |     0                  |    0                   | 80                     |  United-States         |  <=50K                 |\n",
       "| 49                     |  Private               | 193366                 |  HS-grad               |  9                     |  Married-civ-spouse    |  Craft-repair          |  Husband               |  White                 |  Male                  |     0                  |    0                   | 40                     |  United-States         |  <=50K                 |\n",
       "| 23                     |  Local-gov             | 190709                 |  Assoc-acdm            | 12                     |  Never-married         |  Protective-serv       |  Not-in-family         |  White                 |  Male                  |     0                  |    0                   | 52                     |  United-States         |  <=50K                 |\n",
       "| ... | ... | ... | ... | ... | ... | ... | ... | ... | ... | ... | ... | ... | ... | ... |\n",
       "| 30                  | NA                  |  33811              |  Bachelors          | 13                  |  Never-married      | NA                  |  Not-in-family      |  Asian-Pac-Islander |  Female             |     0               | 0                   | 99                  |  United-States      |  <=50K              |\n",
       "| 34                  |  Private            | 204461              |  Doctorate          | 16                  |  Married-civ-spouse |  Prof-specialty     |  Husband            |  White              |  Male               |     0               | 0                   | 60                  |  United-States      |  >50K               |\n",
       "| 54                  |  Private            | 337992              |  Bachelors          | 13                  |  Married-civ-spouse |  Exec-managerial    |  Husband            |  Asian-Pac-Islander |  Male               |     0               | 0                   | 50                  |  Japan              |  >50K               |\n",
       "| 37                  |  Private            | 179137              |  Some-college       | 10                  |  Divorced           |  Adm-clerical       |  Unmarried          |  White              |  Female             |     0               | 0                   | 39                  |  United-States      |  <=50K              |\n",
       "| 22                  |  Private            | 325033              |  12th               |  8                  |  Never-married      |  Protective-serv    |  Own-child          |  Black              |  Male               |     0               | 0                   | 35                  |  United-States      |  <=50K              |\n",
       "| 34                  |  Private            | 160216              |  Bachelors          | 13                  |  Never-married      |  Exec-managerial    |  Not-in-family      |  White              |  Female             |     0               | 0                   | 55                  |  United-States      |  >50K               |\n",
       "| 30                  |  Private            | 345898              |  HS-grad            |  9                  |  Never-married      |  Craft-repair       |  Not-in-family      |  Black              |  Male               |     0               | 0                   | 46                  |  United-States      |  <=50K              |\n",
       "| 38                  |  Private            | 139180              |  Bachelors          | 13                  |  Divorced           |  Prof-specialty     |  Unmarried          |  Black              |  Female             | 15020               | 0                   | 45                  |  United-States      |  >50K               |\n",
       "| 71                  | NA                  | 287372              |  Doctorate          | 16                  |  Married-civ-spouse | NA                  |  Husband            |  White              |  Male               |     0               | 0                   | 10                  |  United-States      |  >50K               |\n",
       "| 45                  |  State-gov          | 252208              |  HS-grad            |  9                  |  Separated          |  Adm-clerical       |  Own-child          |  White              |  Female             |     0               | 0                   | 40                  |  United-States      |  <=50K              |\n",
       "| 41                  | NA                  | 202822              |  HS-grad            |  9                  |  Separated          | NA                  |  Not-in-family      |  Black              |  Female             |     0               | 0                   | 32                  |  United-States      |  <=50K              |\n",
       "| 72                  | NA                  | 129912              |  HS-grad            |  9                  |  Married-civ-spouse | NA                  |  Husband            |  White              |  Male               |     0               | 0                   | 25                  |  United-States      |  <=50K              |\n",
       "| 45                  |  Local-gov          | 119199              |  Assoc-acdm         | 12                  |  Divorced           |  Prof-specialty     |  Unmarried          |  White              |  Female             |     0               | 0                   | 48                  |  United-States      |  <=50K              |\n",
       "| 31                  |  Private            | 199655              |  Masters            | 14                  |  Divorced           |  Other-service      |  Not-in-family      |  Other              |  Female             |     0               | 0                   | 30                  |  United-States      |  <=50K              |\n",
       "| 39                  |  Local-gov          | 111499              |  Assoc-acdm         | 12                  |  Married-civ-spouse |  Adm-clerical       |  Wife               |  White              |  Female             |     0               | 0                   | 20                  |  United-States      |  >50K               |\n",
       "| 37                  |  Private            | 198216              |  Assoc-acdm         | 12                  |  Divorced           |  Tech-support       |  Not-in-family      |  White              |  Female             |     0               | 0                   | 40                  |  United-States      |  <=50K              |\n",
       "| 43                  |  Private            | 260761              |  HS-grad            |  9                  |  Married-civ-spouse |  Machine-op-inspct  |  Husband            |  White              |  Male               |     0               | 0                   | 40                  |  Mexico             |  <=50K              |\n",
       "| 65                  |  Self-emp-not-inc   |  99359              |  Prof-school        | 15                  |  Never-married      |  Prof-specialty     |  Not-in-family      |  White              |  Male               |  1086               | 0                   | 60                  |  United-States      |  <=50K              |\n",
       "| 43                  |  State-gov          | 255835              |  Some-college       | 10                  |  Divorced           |  Adm-clerical       |  Other-relative     |  White              |  Female             |     0               | 0                   | 40                  |  United-States      |  <=50K              |\n",
       "| 43                  |  Self-emp-not-inc   |  27242              |  Some-college       | 10                  |  Married-civ-spouse |  Craft-repair       |  Husband            |  White              |  Male               |     0               | 0                   | 50                  |  United-States      |  <=50K              |\n",
       "| 32                  |  Private            |  34066              |  10th               |  6                  |  Married-civ-spouse |  Handlers-cleaners  |  Husband            |  Amer-Indian-Eskimo |  Male               |     0               | 0                   | 40                  |  United-States      |  <=50K              |\n",
       "| 43                  |  Private            |  84661              |  Assoc-voc          | 11                  |  Married-civ-spouse |  Sales              |  Husband            |  White              |  Male               |     0               | 0                   | 45                  |  United-States      |  <=50K              |\n",
       "| 32                  |  Private            | 116138              |  Masters            | 14                  |  Never-married      |  Tech-support       |  Not-in-family      |  Asian-Pac-Islander |  Male               |     0               | 0                   | 11                  |  Taiwan             |  <=50K              |\n",
       "| 53                  |  Private            | 321865              |  Masters            | 14                  |  Married-civ-spouse |  Exec-managerial    |  Husband            |  White              |  Male               |     0               | 0                   | 40                  |  United-States      |  >50K               |\n",
       "| 22                  |  Private            | 310152              |  Some-college       | 10                  |  Never-married      |  Protective-serv    |  Not-in-family      |  White              |  Male               |     0               | 0                   | 40                  |  United-States      |  <=50K              |\n",
       "| 27                  |  Private            | 257302              |  Assoc-acdm         | 12                  |  Married-civ-spouse |  Tech-support       |  Wife               |  White              |  Female             |     0               | 0                   | 38                  |  United-States      |  <=50K              |\n",
       "| 40                  |  Private            | 154374              |  HS-grad            |  9                  |  Married-civ-spouse |  Machine-op-inspct  |  Husband            |  White              |  Male               |     0               | 0                   | 40                  |  United-States      |  >50K               |\n",
       "| 58                  |  Private            | 151910              |  HS-grad            |  9                  |  Widowed            |  Adm-clerical       |  Unmarried          |  White              |  Female             |     0               | 0                   | 40                  |  United-States      |  <=50K              |\n",
       "| 22                  |  Private            | 201490              |  HS-grad            |  9                  |  Never-married      |  Adm-clerical       |  Own-child          |  White              |  Male               |     0               | 0                   | 20                  |  United-States      |  <=50K              |\n",
       "| 52                  |  Self-emp-inc       | 287927              |  HS-grad            |  9                  |  Married-civ-spouse |  Exec-managerial    |  Wife               |  White              |  Female             | 15024               | 0                   | 40                  |  United-States      |  >50K               |\n",
       "\n"
      ],
      "text/plain": [
       "      age workclass         fnlwgt education     education.num\n",
       "1     50   Self-emp-not-inc  83311  Bachelors    13           \n",
       "2     38   Private          215646  HS-grad       9           \n",
       "3     53   Private          234721  11th          7           \n",
       "4     28   Private          338409  Bachelors    13           \n",
       "5     37   Private          284582  Masters      14           \n",
       "6     49   Private          160187  9th           5           \n",
       "7     52   Self-emp-not-inc 209642  HS-grad       9           \n",
       "8     31   Private           45781  Masters      14           \n",
       "9     42   Private          159449  Bachelors    13           \n",
       "10    37   Private          280464  Some-college 10           \n",
       "11    30   State-gov        141297  Bachelors    13           \n",
       "12    23   Private          122272  Bachelors    13           \n",
       "13    32   Private          205019  Assoc-acdm   12           \n",
       "14    40   Private          121772  Assoc-voc    11           \n",
       "15    34   Private          245487  7th-8th       4           \n",
       "16    25   Self-emp-not-inc 176756  HS-grad       9           \n",
       "17    32   Private          186824  HS-grad       9           \n",
       "18    38   Private           28887  11th          7           \n",
       "19    43   Self-emp-not-inc 292175  Masters      14           \n",
       "20    40   Private          193524  Doctorate    16           \n",
       "21    54   Private          302146  HS-grad       9           \n",
       "22    35   Federal-gov       76845  9th           5           \n",
       "23    43   Private          117037  11th          7           \n",
       "24    59   Private          109015  HS-grad       9           \n",
       "25    56   Local-gov        216851  Bachelors    13           \n",
       "26    19   Private          168294  HS-grad       9           \n",
       "27    54  NA                180211  Some-college 10           \n",
       "28    39   Private          367260  HS-grad       9           \n",
       "29    49   Private          193366  HS-grad       9           \n",
       "30    23   Local-gov        190709  Assoc-acdm   12           \n",
       "...   ... ...               ...    ...           ...          \n",
       "32531 30  NA                 33811  Bachelors    13           \n",
       "32532 34   Private          204461  Doctorate    16           \n",
       "32533 54   Private          337992  Bachelors    13           \n",
       "32534 37   Private          179137  Some-college 10           \n",
       "32535 22   Private          325033  12th          8           \n",
       "32536 34   Private          160216  Bachelors    13           \n",
       "32537 30   Private          345898  HS-grad       9           \n",
       "32538 38   Private          139180  Bachelors    13           \n",
       "32539 71  NA                287372  Doctorate    16           \n",
       "32540 45   State-gov        252208  HS-grad       9           \n",
       "32541 41  NA                202822  HS-grad       9           \n",
       "32542 72  NA                129912  HS-grad       9           \n",
       "32543 45   Local-gov        119199  Assoc-acdm   12           \n",
       "32544 31   Private          199655  Masters      14           \n",
       "32545 39   Local-gov        111499  Assoc-acdm   12           \n",
       "32546 37   Private          198216  Assoc-acdm   12           \n",
       "32547 43   Private          260761  HS-grad       9           \n",
       "32548 65   Self-emp-not-inc  99359  Prof-school  15           \n",
       "32549 43   State-gov        255835  Some-college 10           \n",
       "32550 43   Self-emp-not-inc  27242  Some-college 10           \n",
       "32551 32   Private           34066  10th          6           \n",
       "32552 43   Private           84661  Assoc-voc    11           \n",
       "32553 32   Private          116138  Masters      14           \n",
       "32554 53   Private          321865  Masters      14           \n",
       "32555 22   Private          310152  Some-college 10           \n",
       "32556 27   Private          257302  Assoc-acdm   12           \n",
       "32557 40   Private          154374  HS-grad       9           \n",
       "32558 58   Private          151910  HS-grad       9           \n",
       "32559 22   Private          201490  HS-grad       9           \n",
       "32560 52   Self-emp-inc     287927  HS-grad       9           \n",
       "      marital.status         occupation         relationship   \n",
       "1      Married-civ-spouse     Exec-managerial    Husband       \n",
       "2      Divorced               Handlers-cleaners  Not-in-family \n",
       "3      Married-civ-spouse     Handlers-cleaners  Husband       \n",
       "4      Married-civ-spouse     Prof-specialty     Wife          \n",
       "5      Married-civ-spouse     Exec-managerial    Wife          \n",
       "6      Married-spouse-absent  Other-service      Not-in-family \n",
       "7      Married-civ-spouse     Exec-managerial    Husband       \n",
       "8      Never-married          Prof-specialty     Not-in-family \n",
       "9      Married-civ-spouse     Exec-managerial    Husband       \n",
       "10     Married-civ-spouse     Exec-managerial    Husband       \n",
       "11     Married-civ-spouse     Prof-specialty     Husband       \n",
       "12     Never-married          Adm-clerical       Own-child     \n",
       "13     Never-married          Sales              Not-in-family \n",
       "14     Married-civ-spouse     Craft-repair       Husband       \n",
       "15     Married-civ-spouse     Transport-moving   Husband       \n",
       "16     Never-married          Farming-fishing    Own-child     \n",
       "17     Never-married          Machine-op-inspct  Unmarried     \n",
       "18     Married-civ-spouse     Sales              Husband       \n",
       "19     Divorced               Exec-managerial    Unmarried     \n",
       "20     Married-civ-spouse     Prof-specialty     Husband       \n",
       "21     Separated              Other-service      Unmarried     \n",
       "22     Married-civ-spouse     Farming-fishing    Husband       \n",
       "23     Married-civ-spouse     Transport-moving   Husband       \n",
       "24     Divorced               Tech-support       Unmarried     \n",
       "25     Married-civ-spouse     Tech-support       Husband       \n",
       "26     Never-married          Craft-repair       Own-child     \n",
       "27     Married-civ-spouse    NA                  Husband       \n",
       "28     Divorced               Exec-managerial    Not-in-family \n",
       "29     Married-civ-spouse     Craft-repair       Husband       \n",
       "30     Never-married          Protective-serv    Not-in-family \n",
       "...   ...                    ...                ...            \n",
       "32531  Never-married         NA                  Not-in-family \n",
       "32532  Married-civ-spouse     Prof-specialty     Husband       \n",
       "32533  Married-civ-spouse     Exec-managerial    Husband       \n",
       "32534  Divorced               Adm-clerical       Unmarried     \n",
       "32535  Never-married          Protective-serv    Own-child     \n",
       "32536  Never-married          Exec-managerial    Not-in-family \n",
       "32537  Never-married          Craft-repair       Not-in-family \n",
       "32538  Divorced               Prof-specialty     Unmarried     \n",
       "32539  Married-civ-spouse    NA                  Husband       \n",
       "32540  Separated              Adm-clerical       Own-child     \n",
       "32541  Separated             NA                  Not-in-family \n",
       "32542  Married-civ-spouse    NA                  Husband       \n",
       "32543  Divorced               Prof-specialty     Unmarried     \n",
       "32544  Divorced               Other-service      Not-in-family \n",
       "32545  Married-civ-spouse     Adm-clerical       Wife          \n",
       "32546  Divorced               Tech-support       Not-in-family \n",
       "32547  Married-civ-spouse     Machine-op-inspct  Husband       \n",
       "32548  Never-married          Prof-specialty     Not-in-family \n",
       "32549  Divorced               Adm-clerical       Other-relative\n",
       "32550  Married-civ-spouse     Craft-repair       Husband       \n",
       "32551  Married-civ-spouse     Handlers-cleaners  Husband       \n",
       "32552  Married-civ-spouse     Sales              Husband       \n",
       "32553  Never-married          Tech-support       Not-in-family \n",
       "32554  Married-civ-spouse     Exec-managerial    Husband       \n",
       "32555  Never-married          Protective-serv    Not-in-family \n",
       "32556  Married-civ-spouse     Tech-support       Wife          \n",
       "32557  Married-civ-spouse     Machine-op-inspct  Husband       \n",
       "32558  Widowed                Adm-clerical       Unmarried     \n",
       "32559  Never-married          Adm-clerical       Own-child     \n",
       "32560  Married-civ-spouse     Exec-managerial    Wife          \n",
       "      race                sex     capital.gain capital.loss hours.per.week\n",
       "1      White               Male       0           0         13            \n",
       "2      White               Male       0           0         40            \n",
       "3      Black               Male       0           0         40            \n",
       "4      Black               Female     0           0         40            \n",
       "5      White               Female     0           0         40            \n",
       "6      Black               Female     0           0         16            \n",
       "7      White               Male       0           0         45            \n",
       "8      White               Female 14084           0         50            \n",
       "9      White               Male    5178           0         40            \n",
       "10     Black               Male       0           0         80            \n",
       "11     Asian-Pac-Islander  Male       0           0         40            \n",
       "12     White               Female     0           0         30            \n",
       "13     Black               Male       0           0         50            \n",
       "14     Asian-Pac-Islander  Male       0           0         40            \n",
       "15     Amer-Indian-Eskimo  Male       0           0         45            \n",
       "16     White               Male       0           0         35            \n",
       "17     White               Male       0           0         40            \n",
       "18     White               Male       0           0         50            \n",
       "19     White               Female     0           0         45            \n",
       "20     White               Male       0           0         60            \n",
       "21     Black               Female     0           0         20            \n",
       "22     Black               Male       0           0         40            \n",
       "23     White               Male       0        2042         40            \n",
       "24     White               Female     0           0         40            \n",
       "25     White               Male       0           0         40            \n",
       "26     White               Male       0           0         40            \n",
       "27     Asian-Pac-Islander  Male       0           0         60            \n",
       "28     White               Male       0           0         80            \n",
       "29     White               Male       0           0         40            \n",
       "30     White               Male       0           0         52            \n",
       "...   ...                 ...     ...          ...          ...           \n",
       "32531  Asian-Pac-Islander  Female     0        0            99            \n",
       "32532  White               Male       0        0            60            \n",
       "32533  Asian-Pac-Islander  Male       0        0            50            \n",
       "32534  White               Female     0        0            39            \n",
       "32535  Black               Male       0        0            35            \n",
       "32536  White               Female     0        0            55            \n",
       "32537  Black               Male       0        0            46            \n",
       "32538  Black               Female 15020        0            45            \n",
       "32539  White               Male       0        0            10            \n",
       "32540  White               Female     0        0            40            \n",
       "32541  Black               Female     0        0            32            \n",
       "32542  White               Male       0        0            25            \n",
       "32543  White               Female     0        0            48            \n",
       "32544  Other               Female     0        0            30            \n",
       "32545  White               Female     0        0            20            \n",
       "32546  White               Female     0        0            40            \n",
       "32547  White               Male       0        0            40            \n",
       "32548  White               Male    1086        0            60            \n",
       "32549  White               Female     0        0            40            \n",
       "32550  White               Male       0        0            50            \n",
       "32551  Amer-Indian-Eskimo  Male       0        0            40            \n",
       "32552  White               Male       0        0            45            \n",
       "32553  Asian-Pac-Islander  Male       0        0            11            \n",
       "32554  White               Male       0        0            40            \n",
       "32555  White               Male       0        0            40            \n",
       "32556  White               Female     0        0            38            \n",
       "32557  White               Male       0        0            40            \n",
       "32558  White               Female     0        0            40            \n",
       "32559  White               Male       0        0            20            \n",
       "32560  White               Female 15024        0            40            \n",
       "      native.country income\n",
       "1      United-States  <=50K\n",
       "2      United-States  <=50K\n",
       "3      United-States  <=50K\n",
       "4      Cuba           <=50K\n",
       "5      United-States  <=50K\n",
       "6      Jamaica        <=50K\n",
       "7      United-States  >50K \n",
       "8      United-States  >50K \n",
       "9      United-States  >50K \n",
       "10     United-States  >50K \n",
       "11     India          >50K \n",
       "12     United-States  <=50K\n",
       "13     United-States  <=50K\n",
       "14    NA              >50K \n",
       "15     Mexico         <=50K\n",
       "16     United-States  <=50K\n",
       "17     United-States  <=50K\n",
       "18     United-States  <=50K\n",
       "19     United-States  >50K \n",
       "20     United-States  >50K \n",
       "21     United-States  <=50K\n",
       "22     United-States  <=50K\n",
       "23     United-States  <=50K\n",
       "24     United-States  <=50K\n",
       "25     United-States  >50K \n",
       "26     United-States  <=50K\n",
       "27     South          >50K \n",
       "28     United-States  <=50K\n",
       "29     United-States  <=50K\n",
       "30     United-States  <=50K\n",
       "...   ...            ...   \n",
       "32531  United-States  <=50K\n",
       "32532  United-States  >50K \n",
       "32533  Japan          >50K \n",
       "32534  United-States  <=50K\n",
       "32535  United-States  <=50K\n",
       "32536  United-States  >50K \n",
       "32537  United-States  <=50K\n",
       "32538  United-States  >50K \n",
       "32539  United-States  >50K \n",
       "32540  United-States  <=50K\n",
       "32541  United-States  <=50K\n",
       "32542  United-States  <=50K\n",
       "32543  United-States  <=50K\n",
       "32544  United-States  <=50K\n",
       "32545  United-States  >50K \n",
       "32546  United-States  <=50K\n",
       "32547  Mexico         <=50K\n",
       "32548  United-States  <=50K\n",
       "32549  United-States  <=50K\n",
       "32550  United-States  <=50K\n",
       "32551  United-States  <=50K\n",
       "32552  United-States  <=50K\n",
       "32553  Taiwan         <=50K\n",
       "32554  United-States  >50K \n",
       "32555  United-States  <=50K\n",
       "32556  United-States  <=50K\n",
       "32557  United-States  >50K \n",
       "32558  United-States  <=50K\n",
       "32559  United-States  <=50K\n",
       "32560  United-States  >50K "
      ]
     },
     "metadata": {},
     "output_type": "display_data"
    }
   ],
   "source": [
    "data"
   ]
  },
  {
   "cell_type": "code",
   "execution_count": null,
   "id": "8ef849c3",
   "metadata": {},
   "outputs": [],
   "source": []
  }
 ],
 "metadata": {
  "kernelspec": {
   "display_name": "R",
   "language": "R",
   "name": "ir"
  },
  "language_info": {
   "codemirror_mode": "r",
   "file_extension": ".r",
   "mimetype": "text/x-r-source",
   "name": "R",
   "pygments_lexer": "r",
   "version": "3.6.1"
  }
 },
 "nbformat": 4,
 "nbformat_minor": 5
}

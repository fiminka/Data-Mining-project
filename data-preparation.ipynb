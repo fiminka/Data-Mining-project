{
 "cells": [
  {
   "cell_type": "code",
   "execution_count": 1,
   "id": "e9538f73-9f3e-4e81-a262-bcee41660ed9",
   "metadata": {},
   "outputs": [
    {
     "name": "stderr",
     "output_type": "stream",
     "text": [
      "\n",
      "Dołączanie pakietu: ‘dplyr’\n",
      "\n",
      "\n",
      "Następujące obiekty zostały zakryte z ‘package:stats’:\n",
      "\n",
      "    filter, lag\n",
      "\n",
      "\n",
      "Następujące obiekty zostały zakryte z ‘package:base’:\n",
      "\n",
      "    intersect, setdiff, setequal, union\n",
      "\n",
      "\n",
      "\n",
      "Dołączanie pakietu: ‘cowplot’\n",
      "\n",
      "\n",
      "Następujący obiekt został zakryty z ‘package:patchwork’:\n",
      "\n",
      "    align_plots\n",
      "\n",
      "\n",
      "── \u001b[1mAttaching core tidyverse packages\u001b[22m ──────────────────────── tidyverse 2.0.0 ──\n",
      "\u001b[32m✔\u001b[39m \u001b[34mforcats  \u001b[39m 1.0.0     \u001b[32m✔\u001b[39m \u001b[34mreadr    \u001b[39m 2.1.5\n",
      "\u001b[32m✔\u001b[39m \u001b[34mlubridate\u001b[39m 1.9.3     \u001b[32m✔\u001b[39m \u001b[34mstringr  \u001b[39m 1.5.1\n",
      "\u001b[32m✔\u001b[39m \u001b[34mpurrr    \u001b[39m 1.0.2     \u001b[32m✔\u001b[39m \u001b[34mtibble   \u001b[39m 3.2.1\n",
      "── \u001b[1mConflicts\u001b[22m ────────────────────────────────────────── tidyverse_conflicts() ──\n",
      "\u001b[31m✖\u001b[39m \u001b[34mreadr\u001b[39m::\u001b[32mcol_factor()\u001b[39m masks \u001b[34mscales\u001b[39m::col_factor()\n",
      "\u001b[31m✖\u001b[39m \u001b[34mpurrr\u001b[39m::\u001b[32mdiscard()\u001b[39m    masks \u001b[34mscales\u001b[39m::discard()\n",
      "\u001b[31m✖\u001b[39m \u001b[34mdplyr\u001b[39m::\u001b[32mfilter()\u001b[39m     masks \u001b[34mstats\u001b[39m::filter()\n",
      "\u001b[31m✖\u001b[39m \u001b[34mdplyr\u001b[39m::\u001b[32mlag()\u001b[39m        masks \u001b[34mstats\u001b[39m::lag()\n",
      "\u001b[31m✖\u001b[39m \u001b[34mlubridate\u001b[39m::\u001b[32mstamp()\u001b[39m  masks \u001b[34mcowplot\u001b[39m::stamp()\n",
      "\u001b[36mℹ\u001b[39m Use the conflicted package (\u001b[3m\u001b[34m<http://conflicted.r-lib.org/>\u001b[39m\u001b[23m) to force all conflicts to become errors\n",
      "\n",
      "Dołączanie pakietu: ‘reshape2’\n",
      "\n",
      "\n",
      "Następujący obiekt został zakryty z ‘package:tidyr’:\n",
      "\n",
      "    smiths\n",
      "\n",
      "\n",
      "\n",
      "Dołączanie pakietu: ‘kableExtra’\n",
      "\n",
      "\n",
      "Następujący obiekt został zakryty z ‘package:dplyr’:\n",
      "\n",
      "    group_rows\n",
      "\n",
      "\n",
      "Ładowanie wymaganego pakietu: grid\n",
      "\n",
      "Ładowanie wymaganego pakietu: lattice\n",
      "\n",
      "\n",
      "Dołączanie pakietu: ‘caret’\n",
      "\n",
      "\n",
      "Następujący obiekt został zakryty z ‘package:purrr’:\n",
      "\n",
      "    lift\n",
      "\n",
      "\n",
      "Type 'citation(\"pROC\")' for a citation.\n",
      "\n",
      "\n",
      "Dołączanie pakietu: ‘pROC’\n",
      "\n",
      "\n",
      "Następujące obiekty zostały zakryte z ‘package:stats’:\n",
      "\n",
      "    cov, smooth, var\n",
      "\n",
      "\n",
      "\n",
      "Dołączanie pakietu: ‘MASS’\n",
      "\n",
      "\n",
      "Następujący obiekt został zakryty z ‘package:patchwork’:\n",
      "\n",
      "    area\n",
      "\n",
      "\n",
      "Następujący obiekt został zakryty z ‘package:dplyr’:\n",
      "\n",
      "    select\n",
      "\n",
      "\n",
      "randomForest 4.7-1.1\n",
      "\n",
      "Type rfNews() to see new features/changes/bug fixes.\n",
      "\n",
      "\n",
      "Dołączanie pakietu: ‘randomForest’\n",
      "\n",
      "\n",
      "Następujący obiekt został zakryty z ‘package:ggplot2’:\n",
      "\n",
      "    margin\n",
      "\n",
      "\n",
      "Następujący obiekt został zakryty z ‘package:dplyr’:\n",
      "\n",
      "    combine\n",
      "\n",
      "\n"
     ]
    }
   ],
   "source": [
    "options(warn=-1)\n",
    "library(dplyr)\n",
    "library(DataExplorer)\n",
    "library(ggplot2)\n",
    "library(tidyr)\n",
    "library(patchwork)\n",
    "library(cowplot)\n",
    "library(scales)\n",
    "library(tidyverse)\n",
    "library(reshape2)\n",
    "library(kableExtra)\n",
    "library(vcd)\n",
    "library(performanceEstimation)\n",
    "library(class)\n",
    "library(ipred)\n",
    "library(caret)\n",
    "library(mlbench)\n",
    "library(ROCR)\n",
    "library(pROC)\n",
    "library(MASS)\n",
    "library(countrycode)\n",
    "library(randomForest);"
   ]
  },
  {
   "cell_type": "code",
   "execution_count": 4,
   "id": "2eaa1b1e-7fa8-4f65-a757-2c3dcc8fc05f",
   "metadata": {},
   "outputs": [],
   "source": [
    "clean_data <- file.path(\"data\", \"clean_data.csv\")\n",
    "adult_data <- read.csv(file=clean_data, stringsAsFactors = TRUE, col.names=c(\"age\", \"workclass\", \"fnlwgt\", \"education\", \n",
    "                                                       \"marital.status\", \"occupation\", \"relationship\", \"race\",\"sex\",\n",
    "                                                       \"capital.gain\", \"capital.loss\", \"hours.per.week\",\"native.country\", \"income\"))"
   ]
  },
  {
   "cell_type": "code",
   "execution_count": 5,
   "id": "4f8e35c6-fc4e-4f7e-a83d-0b0682cc27a4",
   "metadata": {},
   "outputs": [],
   "source": [
    "clean_test <- file.path(\"data\", \"clean_test.csv\")\n",
    "adult_test <- read.csv(file=clean_test, stringsAsFactors = TRUE, col.names=c(\"age\", \"workclass\", \"fnlwgt\", \"education\", \n",
    "                                                       \"marital.status\", \"occupation\", \"relationship\", \"race\",\"sex\",\n",
    "                                                       \"capital.gain\", \"capital.loss\", \"hours.per.week\",\"native.country\", \"income\"))"
   ]
  },
  {
   "cell_type": "code",
   "execution_count": 6,
   "id": "b2096935-cb77-4faa-b42a-9d61698573e8",
   "metadata": {},
   "outputs": [],
   "source": [
    "adult_data$income_binary <- as.integer(as.numeric(adult_data$income) - 1)\n",
    "adult_test$income_binary <- as.integer(as.numeric(adult_test$income) - 1)"
   ]
  },
  {
   "cell_type": "code",
   "execution_count": 7,
   "id": "764e7344-9e26-4b93-9425-e185a5700c16",
   "metadata": {},
   "outputs": [],
   "source": [
    "adult_data <- subset(adult_data, select = -c(income, fnlwgt))\n",
    "adult_test <- subset(adult_test, select = -c(income, fnlwgt))"
   ]
  },
  {
   "cell_type": "code",
   "execution_count": 8,
   "id": "70c70561-b117-4f25-abff-388ae8a78d4a",
   "metadata": {},
   "outputs": [],
   "source": [
    "adult_data$capital <- as.integer(as.numeric(adult_data$capital.gain) - as.numeric(adult_data$capital.loss))\n",
    "adult_test$capital <- as.integer(as.numeric(adult_test$capital.gain) - as.numeric(adult_test$capital.loss))"
   ]
  },
  {
   "cell_type": "code",
   "execution_count": 9,
   "id": "8f404b93-ac51-4a83-bf32-83f56e82e494",
   "metadata": {},
   "outputs": [],
   "source": [
    "adult_data <- subset(adult_data, select = -c(capital.gain, capital.loss))\n",
    "adult_test <- subset(adult_test, select = -c(capital.gain, capital.loss))"
   ]
  },
  {
   "cell_type": "code",
   "execution_count": 10,
   "id": "6b75fc19-34fe-4412-9811-07d403388500",
   "metadata": {},
   "outputs": [],
   "source": [
    "adult_data$continent <- countrycode(sourcevar = adult_data[, \"native.country\"],\n",
    "                            origin = \"country.name\",\n",
    "                            destination = \"region\")"
   ]
  },
  {
   "cell_type": "code",
   "execution_count": 11,
   "id": "65ca4a07-190d-4581-94c4-d6fdd894b1ad",
   "metadata": {},
   "outputs": [],
   "source": [
    "country_continent_mapping <- c(England = 'Europe & Central Asia', Scotland = 'Europe & Central Asia', Columbia = 'South America', \n",
    "                               Hong = 'South Asia', South = 'South Asia')"
   ]
  },
  {
   "cell_type": "code",
   "execution_count": 12,
   "id": "9cd9440a-cdf5-411d-b2d5-232bbe50fb22",
   "metadata": {},
   "outputs": [],
   "source": [
    "adult_data$continent <- ifelse(is.na(adult_data$continent), \n",
    "                               country_continent_mapping[adult_data$native.country],\n",
    "                               adult_data$continent)"
   ]
  },
  {
   "cell_type": "code",
   "execution_count": 13,
   "id": "4966c535-7255-4e87-b11b-6c18d7c2aff5",
   "metadata": {},
   "outputs": [],
   "source": [
    "adult_data$continent[adult_data$native.country == \"England\"] <- 'Europe & Central Asia'\n",
    "adult_data$continent[adult_data$native.country == \"Scotland\"] <- 'Europe & Central Asia'\n",
    "adult_data$continent[adult_data$native.country == \"Hong\"] <- 'South Asia'\n",
    "adult_data$continent[adult_data$native.country == \"South\"] <- 'South Asia'"
   ]
  },
  {
   "cell_type": "code",
   "execution_count": 14,
   "id": "1543efd6-8b58-4404-8bf2-94b0bb1c0ad9",
   "metadata": {},
   "outputs": [],
   "source": [
    "adult_data$continent <- as.factor(adult_data$continent)"
   ]
  },
  {
   "cell_type": "code",
   "execution_count": 15,
   "id": "d5262b3d-ab72-4f27-8002-3a286ac80a27",
   "metadata": {},
   "outputs": [
    {
     "name": "stdout",
     "output_type": "stream",
     "text": [
      "'data.frame':\t30161 obs. of  13 variables:\n",
      " $ age           : int  50 38 53 28 37 49 52 31 42 37 ...\n",
      " $ workclass     : Factor w/ 7 levels \"Federal-gov\",..: 5 3 3 3 3 3 5 3 3 3 ...\n",
      " $ education     : Factor w/ 16 levels \"10th\",\"11th\",..: 10 12 2 10 13 7 12 13 10 16 ...\n",
      " $ marital.status: Factor w/ 7 levels \"Divorced\",\"Married-AF-spouse\",..: 3 1 3 3 3 4 3 5 3 3 ...\n",
      " $ occupation    : Factor w/ 14 levels \"Adm-clerical\",..: 4 6 6 10 4 8 4 10 4 4 ...\n",
      " $ relationship  : Factor w/ 6 levels \"Husband\",\"Not-in-family\",..: 1 2 1 6 6 2 1 2 1 1 ...\n",
      " $ race          : Factor w/ 5 levels \"Amer-Indian-Eskimo\",..: 5 5 3 3 5 3 5 5 5 3 ...\n",
      " $ sex           : Factor w/ 2 levels \"Female\",\"Male\": 2 2 2 1 1 1 2 1 2 2 ...\n",
      " $ hours.per.week: int  13 40 40 40 40 16 45 50 40 80 ...\n",
      " $ native.country: Factor w/ 41 levels \"Cambodia\",\"Canada\",..: 39 39 39 5 39 23 39 39 39 39 ...\n",
      " $ income_binary : int  0 0 0 0 0 0 1 1 1 1 ...\n",
      " $ capital       : int  0 0 0 0 0 0 0 14084 5178 0 ...\n",
      " $ continent     : Factor w/ 6 levels \"East Asia & Pacific\",..: 5 5 5 3 5 3 5 5 5 5 ...\n"
     ]
    }
   ],
   "source": [
    "str(adult_data)"
   ]
  },
  {
   "cell_type": "code",
   "execution_count": 16,
   "id": "be0944d4-6463-423a-9592-0c62c7e40824",
   "metadata": {},
   "outputs": [],
   "source": [
    "adult_test$continent <- countrycode(sourcevar = adult_test[, \"native.country\"],\n",
    "                            origin = \"country.name\",\n",
    "                            destination = \"region\")"
   ]
  },
  {
   "cell_type": "code",
   "execution_count": 17,
   "id": "69216b44-683e-480e-92a4-d9685502d139",
   "metadata": {},
   "outputs": [],
   "source": [
    "adult_test$continent <- ifelse(is.na(adult_test$continent), \n",
    "                               country_continent_mapping[adult_test$native.country],\n",
    "                               adult_test$continent)"
   ]
  },
  {
   "cell_type": "code",
   "execution_count": 18,
   "id": "baac12d9-1674-4264-8e0b-6a76e4fa1c7e",
   "metadata": {},
   "outputs": [],
   "source": [
    "adult_test$continent[adult_test$native.country == \"England\"] <- 'Europe & Central Asia'\n",
    "adult_test$continent[adult_test$native.country == \"Scotland\"] <- 'Europe & Central Asia'\n",
    "adult_test$continent[adult_test$native.country == \"Hong\"] <- 'South Asia'\n",
    "adult_test$continent[adult_test$native.country == \"South\"] <- 'South Asia'"
   ]
  },
  {
   "cell_type": "code",
   "execution_count": 19,
   "id": "c8686cf4-0296-46b4-89dc-9f38c3687bfa",
   "metadata": {},
   "outputs": [],
   "source": [
    "adult_test$continent <- as.factor(adult_test$continent)"
   ]
  },
  {
   "cell_type": "code",
   "execution_count": 20,
   "id": "82ab7d38-4a13-45d6-9eaf-780ece117dc7",
   "metadata": {},
   "outputs": [],
   "source": [
    "adult_data <- subset(adult_data, select = -c(native.country))\n",
    "adult_test <- subset(adult_test, select = -c(native.country))"
   ]
  },
  {
   "cell_type": "code",
   "execution_count": 22,
   "id": "5ca108d7-4d08-4fed-ab65-a8c6fdc51d33",
   "metadata": {},
   "outputs": [
    {
     "data": {
      "text/html": [
       "<table class=\"dataframe\">\n",
       "<caption>A data.frame: 5 × 12</caption>\n",
       "<thead>\n",
       "\t<tr><th scope=col>age</th><th scope=col>workclass</th><th scope=col>education</th><th scope=col>marital.status</th><th scope=col>occupation</th><th scope=col>relationship</th><th scope=col>race</th><th scope=col>sex</th><th scope=col>hours.per.week</th><th scope=col>income_binary</th><th scope=col>capital</th><th scope=col>continent</th></tr>\n",
       "\t<tr><th scope=col>&lt;int&gt;</th><th scope=col>&lt;fct&gt;</th><th scope=col>&lt;fct&gt;</th><th scope=col>&lt;fct&gt;</th><th scope=col>&lt;fct&gt;</th><th scope=col>&lt;fct&gt;</th><th scope=col>&lt;fct&gt;</th><th scope=col>&lt;fct&gt;</th><th scope=col>&lt;int&gt;</th><th scope=col>&lt;int&gt;</th><th scope=col>&lt;int&gt;</th><th scope=col>&lt;fct&gt;</th></tr>\n",
       "</thead>\n",
       "<tbody>\n",
       "\t<tr><td>21</td><td>Private  </td><td>HS-grad     </td><td>Married-civ-spouse</td><td>Handlers-cleaners</td><td>Husband      </td><td>White</td><td>Male  </td><td>32</td><td>0</td><td>   0</td><td>North America</td></tr>\n",
       "\t<tr><td>32</td><td>Local-gov</td><td>Bachelors   </td><td>Married-civ-spouse</td><td>Prof-specialty   </td><td>Wife         </td><td>White</td><td>Female</td><td>45</td><td>0</td><td>5013</td><td>North America</td></tr>\n",
       "\t<tr><td>28</td><td>Private  </td><td>HS-grad     </td><td>Never-married     </td><td>Other-service    </td><td>Not-in-family</td><td>Black</td><td>Male  </td><td>40</td><td>0</td><td>   0</td><td>North America</td></tr>\n",
       "\t<tr><td>35</td><td>Private  </td><td>HS-grad     </td><td>Never-married     </td><td>Handlers-cleaners</td><td>Not-in-family</td><td>White</td><td>Male  </td><td>40</td><td>0</td><td>   0</td><td>North America</td></tr>\n",
       "\t<tr><td>46</td><td>Private  </td><td>Some-college</td><td>Married-civ-spouse</td><td>Sales            </td><td>Husband      </td><td>White</td><td>Male  </td><td>40</td><td>0</td><td>   0</td><td>North America</td></tr>\n",
       "</tbody>\n",
       "</table>\n"
      ],
      "text/latex": [
       "A data.frame: 5 × 12\n",
       "\\begin{tabular}{llllllllllll}\n",
       " age & workclass & education & marital.status & occupation & relationship & race & sex & hours.per.week & income\\_binary & capital & continent\\\\\n",
       " <int> & <fct> & <fct> & <fct> & <fct> & <fct> & <fct> & <fct> & <int> & <int> & <int> & <fct>\\\\\n",
       "\\hline\n",
       "\t 21 & Private   & HS-grad      & Married-civ-spouse & Handlers-cleaners & Husband       & White & Male   & 32 & 0 &    0 & North America\\\\\n",
       "\t 32 & Local-gov & Bachelors    & Married-civ-spouse & Prof-specialty    & Wife          & White & Female & 45 & 0 & 5013 & North America\\\\\n",
       "\t 28 & Private   & HS-grad      & Never-married      & Other-service     & Not-in-family & Black & Male   & 40 & 0 &    0 & North America\\\\\n",
       "\t 35 & Private   & HS-grad      & Never-married      & Handlers-cleaners & Not-in-family & White & Male   & 40 & 0 &    0 & North America\\\\\n",
       "\t 46 & Private   & Some-college & Married-civ-spouse & Sales             & Husband       & White & Male   & 40 & 0 &    0 & North America\\\\\n",
       "\\end{tabular}\n"
      ],
      "text/markdown": [
       "\n",
       "A data.frame: 5 × 12\n",
       "\n",
       "| age &lt;int&gt; | workclass &lt;fct&gt; | education &lt;fct&gt; | marital.status &lt;fct&gt; | occupation &lt;fct&gt; | relationship &lt;fct&gt; | race &lt;fct&gt; | sex &lt;fct&gt; | hours.per.week &lt;int&gt; | income_binary &lt;int&gt; | capital &lt;int&gt; | continent &lt;fct&gt; |\n",
       "|---|---|---|---|---|---|---|---|---|---|---|---|\n",
       "| 21 | Private   | HS-grad      | Married-civ-spouse | Handlers-cleaners | Husband       | White | Male   | 32 | 0 |    0 | North America |\n",
       "| 32 | Local-gov | Bachelors    | Married-civ-spouse | Prof-specialty    | Wife          | White | Female | 45 | 0 | 5013 | North America |\n",
       "| 28 | Private   | HS-grad      | Never-married      | Other-service     | Not-in-family | Black | Male   | 40 | 0 |    0 | North America |\n",
       "| 35 | Private   | HS-grad      | Never-married      | Handlers-cleaners | Not-in-family | White | Male   | 40 | 0 |    0 | North America |\n",
       "| 46 | Private   | Some-college | Married-civ-spouse | Sales             | Husband       | White | Male   | 40 | 0 |    0 | North America |\n",
       "\n"
      ],
      "text/plain": [
       "  age workclass education    marital.status     occupation        relationship \n",
       "1 21  Private   HS-grad      Married-civ-spouse Handlers-cleaners Husband      \n",
       "2 32  Local-gov Bachelors    Married-civ-spouse Prof-specialty    Wife         \n",
       "3 28  Private   HS-grad      Never-married      Other-service     Not-in-family\n",
       "4 35  Private   HS-grad      Never-married      Handlers-cleaners Not-in-family\n",
       "5 46  Private   Some-college Married-civ-spouse Sales             Husband      \n",
       "  race  sex    hours.per.week income_binary capital continent    \n",
       "1 White Male   32             0                0    North America\n",
       "2 White Female 45             0             5013    North America\n",
       "3 Black Male   40             0                0    North America\n",
       "4 White Male   40             0                0    North America\n",
       "5 White Male   40             0                0    North America"
      ]
     },
     "metadata": {},
     "output_type": "display_data"
    }
   ],
   "source": [
    "(adult_data %>% sample_n(5))"
   ]
  },
  {
   "cell_type": "code",
   "execution_count": 23,
   "id": "5b03843f-ba8a-44f5-b871-a4220d6cb1c5",
   "metadata": {},
   "outputs": [
    {
     "data": {
      "text/html": [
       "<table class=\"dataframe\">\n",
       "<caption>A data.frame: 5 × 12</caption>\n",
       "<thead>\n",
       "\t<tr><th scope=col>age</th><th scope=col>workclass</th><th scope=col>education</th><th scope=col>marital.status</th><th scope=col>occupation</th><th scope=col>relationship</th><th scope=col>race</th><th scope=col>sex</th><th scope=col>hours.per.week</th><th scope=col>income_binary</th><th scope=col>capital</th><th scope=col>continent</th></tr>\n",
       "\t<tr><th scope=col>&lt;int&gt;</th><th scope=col>&lt;fct&gt;</th><th scope=col>&lt;fct&gt;</th><th scope=col>&lt;fct&gt;</th><th scope=col>&lt;fct&gt;</th><th scope=col>&lt;fct&gt;</th><th scope=col>&lt;fct&gt;</th><th scope=col>&lt;fct&gt;</th><th scope=col>&lt;int&gt;</th><th scope=col>&lt;int&gt;</th><th scope=col>&lt;int&gt;</th><th scope=col>&lt;fct&gt;</th></tr>\n",
       "</thead>\n",
       "<tbody>\n",
       "\t<tr><td>20</td><td>Private         </td><td>Some-college</td><td>Married-civ-spouse</td><td>Sales            </td><td>Husband      </td><td>White             </td><td>Male  </td><td>40</td><td>0</td><td>   0</td><td>North America</td></tr>\n",
       "\t<tr><td>36</td><td>Private         </td><td>Some-college</td><td>Married-civ-spouse</td><td>Craft-repair     </td><td>Husband      </td><td>White             </td><td>Male  </td><td>40</td><td>1</td><td>   0</td><td>North America</td></tr>\n",
       "\t<tr><td>50</td><td>Self-emp-inc    </td><td>Some-college</td><td>Married-civ-spouse</td><td>Exec-managerial  </td><td>Husband      </td><td>White             </td><td>Male  </td><td>45</td><td>1</td><td>7298</td><td>North America</td></tr>\n",
       "\t<tr><td>45</td><td>Self-emp-not-inc</td><td>HS-grad     </td><td>Married-civ-spouse</td><td>Craft-repair     </td><td>Husband      </td><td>Asian-Pac-Islander</td><td>Male  </td><td>45</td><td>0</td><td>   0</td><td>South Asia   </td></tr>\n",
       "\t<tr><td>40</td><td>Private         </td><td>Some-college</td><td>Never-married     </td><td>Machine-op-inspct</td><td>Not-in-family</td><td>Black             </td><td>Female</td><td>40</td><td>0</td><td>   0</td><td>North America</td></tr>\n",
       "</tbody>\n",
       "</table>\n"
      ],
      "text/latex": [
       "A data.frame: 5 × 12\n",
       "\\begin{tabular}{llllllllllll}\n",
       " age & workclass & education & marital.status & occupation & relationship & race & sex & hours.per.week & income\\_binary & capital & continent\\\\\n",
       " <int> & <fct> & <fct> & <fct> & <fct> & <fct> & <fct> & <fct> & <int> & <int> & <int> & <fct>\\\\\n",
       "\\hline\n",
       "\t 20 & Private          & Some-college & Married-civ-spouse & Sales             & Husband       & White              & Male   & 40 & 0 &    0 & North America\\\\\n",
       "\t 36 & Private          & Some-college & Married-civ-spouse & Craft-repair      & Husband       & White              & Male   & 40 & 1 &    0 & North America\\\\\n",
       "\t 50 & Self-emp-inc     & Some-college & Married-civ-spouse & Exec-managerial   & Husband       & White              & Male   & 45 & 1 & 7298 & North America\\\\\n",
       "\t 45 & Self-emp-not-inc & HS-grad      & Married-civ-spouse & Craft-repair      & Husband       & Asian-Pac-Islander & Male   & 45 & 0 &    0 & South Asia   \\\\\n",
       "\t 40 & Private          & Some-college & Never-married      & Machine-op-inspct & Not-in-family & Black              & Female & 40 & 0 &    0 & North America\\\\\n",
       "\\end{tabular}\n"
      ],
      "text/markdown": [
       "\n",
       "A data.frame: 5 × 12\n",
       "\n",
       "| age &lt;int&gt; | workclass &lt;fct&gt; | education &lt;fct&gt; | marital.status &lt;fct&gt; | occupation &lt;fct&gt; | relationship &lt;fct&gt; | race &lt;fct&gt; | sex &lt;fct&gt; | hours.per.week &lt;int&gt; | income_binary &lt;int&gt; | capital &lt;int&gt; | continent &lt;fct&gt; |\n",
       "|---|---|---|---|---|---|---|---|---|---|---|---|\n",
       "| 20 | Private          | Some-college | Married-civ-spouse | Sales             | Husband       | White              | Male   | 40 | 0 |    0 | North America |\n",
       "| 36 | Private          | Some-college | Married-civ-spouse | Craft-repair      | Husband       | White              | Male   | 40 | 1 |    0 | North America |\n",
       "| 50 | Self-emp-inc     | Some-college | Married-civ-spouse | Exec-managerial   | Husband       | White              | Male   | 45 | 1 | 7298 | North America |\n",
       "| 45 | Self-emp-not-inc | HS-grad      | Married-civ-spouse | Craft-repair      | Husband       | Asian-Pac-Islander | Male   | 45 | 0 |    0 | South Asia    |\n",
       "| 40 | Private          | Some-college | Never-married      | Machine-op-inspct | Not-in-family | Black              | Female | 40 | 0 |    0 | North America |\n",
       "\n"
      ],
      "text/plain": [
       "  age workclass        education    marital.status     occupation       \n",
       "1 20  Private          Some-college Married-civ-spouse Sales            \n",
       "2 36  Private          Some-college Married-civ-spouse Craft-repair     \n",
       "3 50  Self-emp-inc     Some-college Married-civ-spouse Exec-managerial  \n",
       "4 45  Self-emp-not-inc HS-grad      Married-civ-spouse Craft-repair     \n",
       "5 40  Private          Some-college Never-married      Machine-op-inspct\n",
       "  relationship  race               sex    hours.per.week income_binary capital\n",
       "1 Husband       White              Male   40             0                0   \n",
       "2 Husband       White              Male   40             1                0   \n",
       "3 Husband       White              Male   45             1             7298   \n",
       "4 Husband       Asian-Pac-Islander Male   45             0                0   \n",
       "5 Not-in-family Black              Female 40             0                0   \n",
       "  continent    \n",
       "1 North America\n",
       "2 North America\n",
       "3 North America\n",
       "4 South Asia   \n",
       "5 North America"
      ]
     },
     "metadata": {},
     "output_type": "display_data"
    }
   ],
   "source": [
    "(adult_test %>% sample_n(5))"
   ]
  },
  {
   "cell_type": "code",
   "execution_count": 24,
   "id": "882dec30-28fc-4bd8-b261-21f844c73c39",
   "metadata": {},
   "outputs": [],
   "source": [
    "write.csv(adult_data, file = \"data/train_data.csv\", row.names = FALSE)"
   ]
  },
  {
   "cell_type": "code",
   "execution_count": 25,
   "id": "78b3f6c5-f52c-4758-9870-b90546d3fff2",
   "metadata": {},
   "outputs": [],
   "source": [
    "write.csv(adult_test, file = \"data/test_data.csv\", row.names = FALSE)"
   ]
  },
  {
   "cell_type": "code",
   "execution_count": 26,
   "id": "8464ca1d-dc8d-4a98-83d0-f91b94709db5",
   "metadata": {},
   "outputs": [],
   "source": [
    "train_data <- read.csv('data/train_data.csv', stringsAsFactors = TRUE)"
   ]
  },
  {
   "cell_type": "code",
   "execution_count": 27,
   "id": "31d48fea-5db8-4b96-b345-e1a2083cd4c2",
   "metadata": {},
   "outputs": [
    {
     "data": {
      "text/html": [
       "<table class=\"dataframe\">\n",
       "<caption>A data.frame: 5 × 12</caption>\n",
       "<thead>\n",
       "\t<tr><th scope=col>age</th><th scope=col>workclass</th><th scope=col>education</th><th scope=col>marital.status</th><th scope=col>occupation</th><th scope=col>relationship</th><th scope=col>race</th><th scope=col>sex</th><th scope=col>hours.per.week</th><th scope=col>income_binary</th><th scope=col>capital</th><th scope=col>continent</th></tr>\n",
       "\t<tr><th scope=col>&lt;int&gt;</th><th scope=col>&lt;fct&gt;</th><th scope=col>&lt;fct&gt;</th><th scope=col>&lt;fct&gt;</th><th scope=col>&lt;fct&gt;</th><th scope=col>&lt;fct&gt;</th><th scope=col>&lt;fct&gt;</th><th scope=col>&lt;fct&gt;</th><th scope=col>&lt;int&gt;</th><th scope=col>&lt;int&gt;</th><th scope=col>&lt;int&gt;</th><th scope=col>&lt;fct&gt;</th></tr>\n",
       "</thead>\n",
       "<tbody>\n",
       "\t<tr><td>23</td><td>Private</td><td>Some-college</td><td>Never-married     </td><td>Craft-repair     </td><td>Not-in-family</td><td>White</td><td>Male  </td><td>40</td><td>0</td><td>   0</td><td>North America            </td></tr>\n",
       "\t<tr><td>43</td><td>Private</td><td><span style=white-space:pre-wrap>HS-grad     </span></td><td><span style=white-space:pre-wrap>Divorced          </span></td><td>Machine-op-inspct</td><td><span style=white-space:pre-wrap>Own-child    </span></td><td>White</td><td>Female</td><td>40</td><td>0</td><td><span style=white-space:pre-wrap>   0</span></td><td>Latin America &amp; Caribbean</td></tr>\n",
       "\t<tr><td>18</td><td>Private</td><td>Some-college</td><td>Never-married     </td><td>Other-service    </td><td>Own-child    </td><td>White</td><td>Male  </td><td>20</td><td>0</td><td>   0</td><td>North America            </td></tr>\n",
       "\t<tr><td>43</td><td>Private</td><td>Prof-school </td><td><span style=white-space:pre-wrap>Never-married     </span></td><td><span style=white-space:pre-wrap>Prof-specialty   </span></td><td>Not-in-family</td><td>White</td><td><span style=white-space:pre-wrap>Male  </span></td><td>66</td><td>0</td><td><span style=white-space:pre-wrap>   0</span></td><td><span style=white-space:pre-wrap>Europe &amp; Central Asia    </span></td></tr>\n",
       "\t<tr><td>57</td><td>Private</td><td>12th        </td><td>Married-civ-spouse</td><td>Transport-moving </td><td>Husband      </td><td>Black</td><td>Male  </td><td>40</td><td>1</td><td>7688</td><td>North America            </td></tr>\n",
       "</tbody>\n",
       "</table>\n"
      ],
      "text/latex": [
       "A data.frame: 5 × 12\n",
       "\\begin{tabular}{llllllllllll}\n",
       " age & workclass & education & marital.status & occupation & relationship & race & sex & hours.per.week & income\\_binary & capital & continent\\\\\n",
       " <int> & <fct> & <fct> & <fct> & <fct> & <fct> & <fct> & <fct> & <int> & <int> & <int> & <fct>\\\\\n",
       "\\hline\n",
       "\t 23 & Private & Some-college & Never-married      & Craft-repair      & Not-in-family & White & Male   & 40 & 0 &    0 & North America            \\\\\n",
       "\t 43 & Private & HS-grad      & Divorced           & Machine-op-inspct & Own-child     & White & Female & 40 & 0 &    0 & Latin America \\& Caribbean\\\\\n",
       "\t 18 & Private & Some-college & Never-married      & Other-service     & Own-child     & White & Male   & 20 & 0 &    0 & North America            \\\\\n",
       "\t 43 & Private & Prof-school  & Never-married      & Prof-specialty    & Not-in-family & White & Male   & 66 & 0 &    0 & Europe \\& Central Asia    \\\\\n",
       "\t 57 & Private & 12th         & Married-civ-spouse & Transport-moving  & Husband       & Black & Male   & 40 & 1 & 7688 & North America            \\\\\n",
       "\\end{tabular}\n"
      ],
      "text/markdown": [
       "\n",
       "A data.frame: 5 × 12\n",
       "\n",
       "| age &lt;int&gt; | workclass &lt;fct&gt; | education &lt;fct&gt; | marital.status &lt;fct&gt; | occupation &lt;fct&gt; | relationship &lt;fct&gt; | race &lt;fct&gt; | sex &lt;fct&gt; | hours.per.week &lt;int&gt; | income_binary &lt;int&gt; | capital &lt;int&gt; | continent &lt;fct&gt; |\n",
       "|---|---|---|---|---|---|---|---|---|---|---|---|\n",
       "| 23 | Private | Some-college | Never-married      | Craft-repair      | Not-in-family | White | Male   | 40 | 0 |    0 | North America             |\n",
       "| 43 | Private | HS-grad      | Divorced           | Machine-op-inspct | Own-child     | White | Female | 40 | 0 |    0 | Latin America &amp; Caribbean |\n",
       "| 18 | Private | Some-college | Never-married      | Other-service     | Own-child     | White | Male   | 20 | 0 |    0 | North America             |\n",
       "| 43 | Private | Prof-school  | Never-married      | Prof-specialty    | Not-in-family | White | Male   | 66 | 0 |    0 | Europe &amp; Central Asia     |\n",
       "| 57 | Private | 12th         | Married-civ-spouse | Transport-moving  | Husband       | Black | Male   | 40 | 1 | 7688 | North America             |\n",
       "\n"
      ],
      "text/plain": [
       "  age workclass education    marital.status     occupation        relationship \n",
       "1 23  Private   Some-college Never-married      Craft-repair      Not-in-family\n",
       "2 43  Private   HS-grad      Divorced           Machine-op-inspct Own-child    \n",
       "3 18  Private   Some-college Never-married      Other-service     Own-child    \n",
       "4 43  Private   Prof-school  Never-married      Prof-specialty    Not-in-family\n",
       "5 57  Private   12th         Married-civ-spouse Transport-moving  Husband      \n",
       "  race  sex    hours.per.week income_binary capital continent                \n",
       "1 White Male   40             0                0    North America            \n",
       "2 White Female 40             0                0    Latin America & Caribbean\n",
       "3 White Male   20             0                0    North America            \n",
       "4 White Male   66             0                0    Europe & Central Asia    \n",
       "5 Black Male   40             1             7688    North America            "
      ]
     },
     "metadata": {},
     "output_type": "display_data"
    }
   ],
   "source": [
    "(train_data %>% sample_n(5))"
   ]
  },
  {
   "cell_type": "code",
   "execution_count": 28,
   "id": "011e33a2-dfb5-4b6f-b306-5578bc909be2",
   "metadata": {},
   "outputs": [],
   "source": [
    "test_data <- read.csv('data/test_data.csv', stringsAsFactors = TRUE)"
   ]
  },
  {
   "cell_type": "code",
   "execution_count": 29,
   "id": "b4b0e7ca-14c0-49bc-b9db-267a89952bed",
   "metadata": {},
   "outputs": [
    {
     "data": {
      "text/html": [
       "<table class=\"dataframe\">\n",
       "<caption>A data.frame: 5 × 12</caption>\n",
       "<thead>\n",
       "\t<tr><th scope=col>age</th><th scope=col>workclass</th><th scope=col>education</th><th scope=col>marital.status</th><th scope=col>occupation</th><th scope=col>relationship</th><th scope=col>race</th><th scope=col>sex</th><th scope=col>hours.per.week</th><th scope=col>income_binary</th><th scope=col>capital</th><th scope=col>continent</th></tr>\n",
       "\t<tr><th scope=col>&lt;int&gt;</th><th scope=col>&lt;fct&gt;</th><th scope=col>&lt;fct&gt;</th><th scope=col>&lt;fct&gt;</th><th scope=col>&lt;fct&gt;</th><th scope=col>&lt;fct&gt;</th><th scope=col>&lt;fct&gt;</th><th scope=col>&lt;fct&gt;</th><th scope=col>&lt;int&gt;</th><th scope=col>&lt;int&gt;</th><th scope=col>&lt;int&gt;</th><th scope=col>&lt;fct&gt;</th></tr>\n",
       "</thead>\n",
       "<tbody>\n",
       "\t<tr><td>38</td><td>Federal-gov</td><td>Some-college</td><td>Never-married     </td><td>Adm-clerical  </td><td>Not-in-family</td><td>White</td><td>Female</td><td>40</td><td>0</td><td>-1980</td><td>North America</td></tr>\n",
       "\t<tr><td>35</td><td>Private    </td><td>Bachelors   </td><td>Divorced          </td><td>Other-service </td><td>Own-child    </td><td>White</td><td>Female</td><td>40</td><td>0</td><td>    0</td><td>North America</td></tr>\n",
       "\t<tr><td>31</td><td>Private    </td><td>Some-college</td><td>Never-married     </td><td>Other-service </td><td>Not-in-family</td><td>White</td><td>Female</td><td>20</td><td>0</td><td>    0</td><td>North America</td></tr>\n",
       "\t<tr><td>39</td><td>Private    </td><td>Some-college</td><td>Married-civ-spouse</td><td>Adm-clerical  </td><td>Husband      </td><td>White</td><td>Male  </td><td>40</td><td>1</td><td>    0</td><td>North America</td></tr>\n",
       "\t<tr><td>44</td><td>Local-gov  </td><td>Bachelors   </td><td>Never-married     </td><td>Prof-specialty</td><td>Not-in-family</td><td>White</td><td>Male  </td><td>55</td><td>0</td><td>    0</td><td>North America</td></tr>\n",
       "</tbody>\n",
       "</table>\n"
      ],
      "text/latex": [
       "A data.frame: 5 × 12\n",
       "\\begin{tabular}{llllllllllll}\n",
       " age & workclass & education & marital.status & occupation & relationship & race & sex & hours.per.week & income\\_binary & capital & continent\\\\\n",
       " <int> & <fct> & <fct> & <fct> & <fct> & <fct> & <fct> & <fct> & <int> & <int> & <int> & <fct>\\\\\n",
       "\\hline\n",
       "\t 38 & Federal-gov & Some-college & Never-married      & Adm-clerical   & Not-in-family & White & Female & 40 & 0 & -1980 & North America\\\\\n",
       "\t 35 & Private     & Bachelors    & Divorced           & Other-service  & Own-child     & White & Female & 40 & 0 &     0 & North America\\\\\n",
       "\t 31 & Private     & Some-college & Never-married      & Other-service  & Not-in-family & White & Female & 20 & 0 &     0 & North America\\\\\n",
       "\t 39 & Private     & Some-college & Married-civ-spouse & Adm-clerical   & Husband       & White & Male   & 40 & 1 &     0 & North America\\\\\n",
       "\t 44 & Local-gov   & Bachelors    & Never-married      & Prof-specialty & Not-in-family & White & Male   & 55 & 0 &     0 & North America\\\\\n",
       "\\end{tabular}\n"
      ],
      "text/markdown": [
       "\n",
       "A data.frame: 5 × 12\n",
       "\n",
       "| age &lt;int&gt; | workclass &lt;fct&gt; | education &lt;fct&gt; | marital.status &lt;fct&gt; | occupation &lt;fct&gt; | relationship &lt;fct&gt; | race &lt;fct&gt; | sex &lt;fct&gt; | hours.per.week &lt;int&gt; | income_binary &lt;int&gt; | capital &lt;int&gt; | continent &lt;fct&gt; |\n",
       "|---|---|---|---|---|---|---|---|---|---|---|---|\n",
       "| 38 | Federal-gov | Some-college | Never-married      | Adm-clerical   | Not-in-family | White | Female | 40 | 0 | -1980 | North America |\n",
       "| 35 | Private     | Bachelors    | Divorced           | Other-service  | Own-child     | White | Female | 40 | 0 |     0 | North America |\n",
       "| 31 | Private     | Some-college | Never-married      | Other-service  | Not-in-family | White | Female | 20 | 0 |     0 | North America |\n",
       "| 39 | Private     | Some-college | Married-civ-spouse | Adm-clerical   | Husband       | White | Male   | 40 | 1 |     0 | North America |\n",
       "| 44 | Local-gov   | Bachelors    | Never-married      | Prof-specialty | Not-in-family | White | Male   | 55 | 0 |     0 | North America |\n",
       "\n"
      ],
      "text/plain": [
       "  age workclass   education    marital.status     occupation     relationship \n",
       "1 38  Federal-gov Some-college Never-married      Adm-clerical   Not-in-family\n",
       "2 35  Private     Bachelors    Divorced           Other-service  Own-child    \n",
       "3 31  Private     Some-college Never-married      Other-service  Not-in-family\n",
       "4 39  Private     Some-college Married-civ-spouse Adm-clerical   Husband      \n",
       "5 44  Local-gov   Bachelors    Never-married      Prof-specialty Not-in-family\n",
       "  race  sex    hours.per.week income_binary capital continent    \n",
       "1 White Female 40             0             -1980   North America\n",
       "2 White Female 40             0                 0   North America\n",
       "3 White Female 20             0                 0   North America\n",
       "4 White Male   40             1                 0   North America\n",
       "5 White Male   55             0                 0   North America"
      ]
     },
     "metadata": {},
     "output_type": "display_data"
    }
   ],
   "source": [
    "(test_data %>% sample_n(5))"
   ]
  },
  {
   "cell_type": "code",
   "execution_count": 30,
   "id": "6cc36877-ae9d-4e06-a99e-600b5b082f71",
   "metadata": {},
   "outputs": [],
   "source": [
    "X_train <- subset(train_data, select = -c(income_binary))\n",
    "X_test <- subset(test_data, select = -c(income_binary))"
   ]
  },
  {
   "cell_type": "code",
   "execution_count": 32,
   "id": "ebdaefaa-ea71-4bfa-835a-a0d804948084",
   "metadata": {},
   "outputs": [
    {
     "data": {
      "text/html": [
       "<table class=\"dataframe\">\n",
       "<caption>A data.frame: 5 × 11</caption>\n",
       "<thead>\n",
       "\t<tr><th scope=col>age</th><th scope=col>workclass</th><th scope=col>education</th><th scope=col>marital.status</th><th scope=col>occupation</th><th scope=col>relationship</th><th scope=col>race</th><th scope=col>sex</th><th scope=col>hours.per.week</th><th scope=col>capital</th><th scope=col>continent</th></tr>\n",
       "\t<tr><th scope=col>&lt;int&gt;</th><th scope=col>&lt;fct&gt;</th><th scope=col>&lt;fct&gt;</th><th scope=col>&lt;fct&gt;</th><th scope=col>&lt;fct&gt;</th><th scope=col>&lt;fct&gt;</th><th scope=col>&lt;fct&gt;</th><th scope=col>&lt;fct&gt;</th><th scope=col>&lt;int&gt;</th><th scope=col>&lt;int&gt;</th><th scope=col>&lt;fct&gt;</th></tr>\n",
       "</thead>\n",
       "<tbody>\n",
       "\t<tr><td>44</td><td>Private    </td><td>Bachelors   </td><td>Married-civ-spouse</td><td>Transport-moving</td><td>Husband  </td><td>White             </td><td>Male</td><td>55</td><td>   0</td><td>North America      </td></tr>\n",
       "\t<tr><td>28</td><td>State-gov  </td><td>Bachelors   </td><td>Never-married     </td><td>Prof-specialty  </td><td>Own-child</td><td>White             </td><td>Male</td><td>40</td><td>6849</td><td>North America      </td></tr>\n",
       "\t<tr><td>20</td><td>Private    </td><td>Some-college</td><td>Never-married     </td><td>Other-service   </td><td>Own-child</td><td>White             </td><td>Male</td><td>40</td><td>   0</td><td>North America      </td></tr>\n",
       "\t<tr><td>34</td><td>Federal-gov</td><td><span style=white-space:pre-wrap>Bachelors   </span></td><td><span style=white-space:pre-wrap>Never-married     </span></td><td>Exec-managerial </td><td>Unmarried</td><td>Asian-Pac-Islander</td><td>Male</td><td>40</td><td>1471</td><td>East Asia &amp; Pacific</td></tr>\n",
       "\t<tr><td>26</td><td>Private    </td><td>HS-grad     </td><td>Married-civ-spouse</td><td>Craft-repair    </td><td>Husband  </td><td>White             </td><td>Male</td><td>40</td><td>   0</td><td>North America      </td></tr>\n",
       "</tbody>\n",
       "</table>\n"
      ],
      "text/latex": [
       "A data.frame: 5 × 11\n",
       "\\begin{tabular}{lllllllllll}\n",
       " age & workclass & education & marital.status & occupation & relationship & race & sex & hours.per.week & capital & continent\\\\\n",
       " <int> & <fct> & <fct> & <fct> & <fct> & <fct> & <fct> & <fct> & <int> & <int> & <fct>\\\\\n",
       "\\hline\n",
       "\t 44 & Private     & Bachelors    & Married-civ-spouse & Transport-moving & Husband   & White              & Male & 55 &    0 & North America      \\\\\n",
       "\t 28 & State-gov   & Bachelors    & Never-married      & Prof-specialty   & Own-child & White              & Male & 40 & 6849 & North America      \\\\\n",
       "\t 20 & Private     & Some-college & Never-married      & Other-service    & Own-child & White              & Male & 40 &    0 & North America      \\\\\n",
       "\t 34 & Federal-gov & Bachelors    & Never-married      & Exec-managerial  & Unmarried & Asian-Pac-Islander & Male & 40 & 1471 & East Asia \\& Pacific\\\\\n",
       "\t 26 & Private     & HS-grad      & Married-civ-spouse & Craft-repair     & Husband   & White              & Male & 40 &    0 & North America      \\\\\n",
       "\\end{tabular}\n"
      ],
      "text/markdown": [
       "\n",
       "A data.frame: 5 × 11\n",
       "\n",
       "| age &lt;int&gt; | workclass &lt;fct&gt; | education &lt;fct&gt; | marital.status &lt;fct&gt; | occupation &lt;fct&gt; | relationship &lt;fct&gt; | race &lt;fct&gt; | sex &lt;fct&gt; | hours.per.week &lt;int&gt; | capital &lt;int&gt; | continent &lt;fct&gt; |\n",
       "|---|---|---|---|---|---|---|---|---|---|---|\n",
       "| 44 | Private     | Bachelors    | Married-civ-spouse | Transport-moving | Husband   | White              | Male | 55 |    0 | North America       |\n",
       "| 28 | State-gov   | Bachelors    | Never-married      | Prof-specialty   | Own-child | White              | Male | 40 | 6849 | North America       |\n",
       "| 20 | Private     | Some-college | Never-married      | Other-service    | Own-child | White              | Male | 40 |    0 | North America       |\n",
       "| 34 | Federal-gov | Bachelors    | Never-married      | Exec-managerial  | Unmarried | Asian-Pac-Islander | Male | 40 | 1471 | East Asia &amp; Pacific |\n",
       "| 26 | Private     | HS-grad      | Married-civ-spouse | Craft-repair     | Husband   | White              | Male | 40 |    0 | North America       |\n",
       "\n"
      ],
      "text/plain": [
       "  age workclass   education    marital.status     occupation       relationship\n",
       "1 44  Private     Bachelors    Married-civ-spouse Transport-moving Husband     \n",
       "2 28  State-gov   Bachelors    Never-married      Prof-specialty   Own-child   \n",
       "3 20  Private     Some-college Never-married      Other-service    Own-child   \n",
       "4 34  Federal-gov Bachelors    Never-married      Exec-managerial  Unmarried   \n",
       "5 26  Private     HS-grad      Married-civ-spouse Craft-repair     Husband     \n",
       "  race               sex  hours.per.week capital continent          \n",
       "1 White              Male 55                0    North America      \n",
       "2 White              Male 40             6849    North America      \n",
       "3 White              Male 40                0    North America      \n",
       "4 Asian-Pac-Islander Male 40             1471    East Asia & Pacific\n",
       "5 White              Male 40                0    North America      "
      ]
     },
     "metadata": {},
     "output_type": "display_data"
    }
   ],
   "source": [
    "(X_train %>% sample_n(5))"
   ]
  },
  {
   "cell_type": "code",
   "execution_count": 33,
   "id": "ae8e8d28-80be-444f-93f1-2a3ed8bb4f49",
   "metadata": {},
   "outputs": [
    {
     "data": {
      "text/html": [
       "<table class=\"dataframe\">\n",
       "<caption>A data.frame: 5 × 11</caption>\n",
       "<thead>\n",
       "\t<tr><th scope=col>age</th><th scope=col>workclass</th><th scope=col>education</th><th scope=col>marital.status</th><th scope=col>occupation</th><th scope=col>relationship</th><th scope=col>race</th><th scope=col>sex</th><th scope=col>hours.per.week</th><th scope=col>capital</th><th scope=col>continent</th></tr>\n",
       "\t<tr><th scope=col>&lt;int&gt;</th><th scope=col>&lt;fct&gt;</th><th scope=col>&lt;fct&gt;</th><th scope=col>&lt;fct&gt;</th><th scope=col>&lt;fct&gt;</th><th scope=col>&lt;fct&gt;</th><th scope=col>&lt;fct&gt;</th><th scope=col>&lt;fct&gt;</th><th scope=col>&lt;int&gt;</th><th scope=col>&lt;int&gt;</th><th scope=col>&lt;fct&gt;</th></tr>\n",
       "</thead>\n",
       "<tbody>\n",
       "\t<tr><td>66</td><td>Self-emp-not-inc</td><td>HS-grad</td><td>Widowed           </td><td>Tech-support     </td><td>Not-in-family</td><td>White</td><td>Female</td><td>45</td><td>   0</td><td>North America</td></tr>\n",
       "\t<tr><td>35</td><td>Federal-gov     </td><td>HS-grad</td><td>Married-civ-spouse</td><td>Other-service    </td><td>Wife         </td><td>White</td><td>Female</td><td>40</td><td>7298</td><td>North America</td></tr>\n",
       "\t<tr><td>42</td><td>Private         </td><td>HS-grad</td><td>Married-civ-spouse</td><td>Craft-repair     </td><td>Husband      </td><td>White</td><td>Male  </td><td>40</td><td>   0</td><td>North America</td></tr>\n",
       "\t<tr><td>39</td><td>Private         </td><td>HS-grad</td><td>Married-civ-spouse</td><td>Machine-op-inspct</td><td>Husband      </td><td>White</td><td>Male  </td><td>40</td><td>   0</td><td>North America</td></tr>\n",
       "\t<tr><td>35</td><td>Private         </td><td>HS-grad</td><td>Married-civ-spouse</td><td>Tech-support     </td><td>Wife         </td><td>White</td><td>Female</td><td>35</td><td>   0</td><td>North America</td></tr>\n",
       "</tbody>\n",
       "</table>\n"
      ],
      "text/latex": [
       "A data.frame: 5 × 11\n",
       "\\begin{tabular}{lllllllllll}\n",
       " age & workclass & education & marital.status & occupation & relationship & race & sex & hours.per.week & capital & continent\\\\\n",
       " <int> & <fct> & <fct> & <fct> & <fct> & <fct> & <fct> & <fct> & <int> & <int> & <fct>\\\\\n",
       "\\hline\n",
       "\t 66 & Self-emp-not-inc & HS-grad & Widowed            & Tech-support      & Not-in-family & White & Female & 45 &    0 & North America\\\\\n",
       "\t 35 & Federal-gov      & HS-grad & Married-civ-spouse & Other-service     & Wife          & White & Female & 40 & 7298 & North America\\\\\n",
       "\t 42 & Private          & HS-grad & Married-civ-spouse & Craft-repair      & Husband       & White & Male   & 40 &    0 & North America\\\\\n",
       "\t 39 & Private          & HS-grad & Married-civ-spouse & Machine-op-inspct & Husband       & White & Male   & 40 &    0 & North America\\\\\n",
       "\t 35 & Private          & HS-grad & Married-civ-spouse & Tech-support      & Wife          & White & Female & 35 &    0 & North America\\\\\n",
       "\\end{tabular}\n"
      ],
      "text/markdown": [
       "\n",
       "A data.frame: 5 × 11\n",
       "\n",
       "| age &lt;int&gt; | workclass &lt;fct&gt; | education &lt;fct&gt; | marital.status &lt;fct&gt; | occupation &lt;fct&gt; | relationship &lt;fct&gt; | race &lt;fct&gt; | sex &lt;fct&gt; | hours.per.week &lt;int&gt; | capital &lt;int&gt; | continent &lt;fct&gt; |\n",
       "|---|---|---|---|---|---|---|---|---|---|---|\n",
       "| 66 | Self-emp-not-inc | HS-grad | Widowed            | Tech-support      | Not-in-family | White | Female | 45 |    0 | North America |\n",
       "| 35 | Federal-gov      | HS-grad | Married-civ-spouse | Other-service     | Wife          | White | Female | 40 | 7298 | North America |\n",
       "| 42 | Private          | HS-grad | Married-civ-spouse | Craft-repair      | Husband       | White | Male   | 40 |    0 | North America |\n",
       "| 39 | Private          | HS-grad | Married-civ-spouse | Machine-op-inspct | Husband       | White | Male   | 40 |    0 | North America |\n",
       "| 35 | Private          | HS-grad | Married-civ-spouse | Tech-support      | Wife          | White | Female | 35 |    0 | North America |\n",
       "\n"
      ],
      "text/plain": [
       "  age workclass        education marital.status     occupation       \n",
       "1 66  Self-emp-not-inc HS-grad   Widowed            Tech-support     \n",
       "2 35  Federal-gov      HS-grad   Married-civ-spouse Other-service    \n",
       "3 42  Private          HS-grad   Married-civ-spouse Craft-repair     \n",
       "4 39  Private          HS-grad   Married-civ-spouse Machine-op-inspct\n",
       "5 35  Private          HS-grad   Married-civ-spouse Tech-support     \n",
       "  relationship  race  sex    hours.per.week capital continent    \n",
       "1 Not-in-family White Female 45                0    North America\n",
       "2 Wife          White Female 40             7298    North America\n",
       "3 Husband       White Male   40                0    North America\n",
       "4 Husband       White Male   40                0    North America\n",
       "5 Wife          White Female 35                0    North America"
      ]
     },
     "metadata": {},
     "output_type": "display_data"
    }
   ],
   "source": [
    "(X_test %>% sample_n(5))"
   ]
  },
  {
   "cell_type": "code",
   "execution_count": 31,
   "id": "28439f3e-7d6d-41b0-9b8d-d7c6be1f191c",
   "metadata": {},
   "outputs": [],
   "source": [
    "Y_train <- subset(train_data, select = c(income_binary))\n",
    "Y_test <- subset(test_data, select = c(income_binary))"
   ]
  },
  {
   "cell_type": "code",
   "execution_count": 37,
   "id": "a657b1ee-fc11-4e60-88b7-96686104a077",
   "metadata": {},
   "outputs": [],
   "source": [
    "X = rbind(X_train, X_test)\n",
    "Y = rbind(Y_train, Y_test)"
   ]
  },
  {
   "cell_type": "code",
   "execution_count": 39,
   "id": "6659c148-f524-409b-be80-8633d367a141",
   "metadata": {},
   "outputs": [
    {
     "ename": "ERROR",
     "evalue": "Error in colMeans(x, na.rm = TRUE): argument 'x' musi być liczbą\n",
     "output_type": "error",
     "traceback": [
      "Error in colMeans(x, na.rm = TRUE): argument 'x' musi być liczbą\nTraceback:\n",
      "1. prcomp(X, retx = T, center = T, scale. = T)",
      "2. prcomp.default(X, retx = T, center = T, scale. = T)",
      "3. scale(x, center = center, scale = scale.)",
      "4. scale.default(x, center = center, scale = scale.)",
      "5. colMeans(x, na.rm = TRUE)"
     ]
    }
   ],
   "source": [
    "numerical_columns <- names(X[sapply(X, is.numeric)])\n",
    "factor_columns <- names(clean_data[sapply(clean_data, is.factor)])"
   ]
  },
  {
   "cell_type": "code",
   "execution_count": null,
   "id": "bdf725a0-aa5c-40ec-aa30-85a8b4084aaa",
   "metadata": {},
   "outputs": [],
   "source": []
  }
 ],
 "metadata": {
  "kernelspec": {
   "display_name": "R",
   "language": "R",
   "name": "ir"
  },
  "language_info": {
   "codemirror_mode": "r",
   "file_extension": ".r",
   "mimetype": "text/x-r-source",
   "name": "R",
   "pygments_lexer": "r",
   "version": "4.3.3"
  }
 },
 "nbformat": 4,
 "nbformat_minor": 5
}

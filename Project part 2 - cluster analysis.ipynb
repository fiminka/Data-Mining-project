{
 "cells": [
  {
   "attachments": {
    "image.png": {
     "image/png": "[encoded data removed]"
    }
   },
   "cell_type": "markdown",
   "metadata": {},
   "source": [
    "![image.png](attachment:image.png)"
   ]
  },
  {
   "cell_type": "code",
   "execution_count": 118,
   "metadata": {},
   "outputs": [],
   "source": [
    "library(cluster)\n",
    "library(caret)\n",
    "library(dplyr)\n",
    "library(clValid)\n",
    "library(tidyverse)\n",
    "library(factoextra)\n",
    "library(e1071)\n",
    "library(clusterSim)\n",
    "library(fossil)\n",
    "library(mclust)\n",
    "library(flexclust)\n",
    "library(dendextend)\n",
    "library(ClusterR)"
   ]
  },
  {
   "cell_type": "markdown",
   "metadata": {},
   "source": [
    "# Data"
   ]
  },
  {
   "cell_type": "code",
   "execution_count": 538,
   "metadata": {},
   "outputs": [],
   "source": [
    "#whole data, too long computations\n",
    "#test <- read.csv('data/test_data.csv', stringsAsFactors = TRUE)\n",
    "#train <- read.csv('data/train_data.csv', stringsAsFactors = TRUE)"
   ]
  },
  {
   "cell_type": "code",
   "execution_count": 539,
   "metadata": {},
   "outputs": [],
   "source": [
    "#data = rbind(train, test)"
   ]
  },
  {
   "cell_type": "code",
   "execution_count": 119,
   "metadata": {},
   "outputs": [],
   "source": [
    "data <- read.csv('data/sample_data.csv', stringsAsFactors = TRUE)"
   ]
  },
  {
   "cell_type": "code",
   "execution_count": 120,
   "metadata": {},
   "outputs": [
    {
     "data": {
      "text/html": [
       "5000"
      ],
      "text/latex": [
       "5000"
      ],
      "text/markdown": [
       "5000"
      ],
      "text/plain": [
       "[1] 5000"
      ]
     },
     "metadata": {},
     "output_type": "display_data"
    }
   ],
   "source": [
    "nrow(data)"
   ]
  },
  {
   "cell_type": "code",
   "execution_count": 121,
   "metadata": {},
   "outputs": [],
   "source": [
    "numerical_columns <- names(data[sapply(data, is.numeric)])\n",
    "numerical_columns <- numerical_columns[numerical_columns != \"income_binary\"]\n",
    "factor_columns <- names(data[sapply(data, is.factor)])"
   ]
  },
  {
   "cell_type": "code",
   "execution_count": 122,
   "metadata": {},
   "outputs": [],
   "source": [
    "data[numerical_columns] <- scale(data[numerical_columns])"
   ]
  },
  {
   "cell_type": "code",
   "execution_count": 123,
   "metadata": {},
   "outputs": [],
   "source": [
    "cluster_data <- data %>% dplyr::select(-income_binary)"
   ]
  },
  {
   "cell_type": "code",
   "execution_count": 124,
   "metadata": {},
   "outputs": [],
   "source": [
    "dummy <- dummyVars(\"~ .\", data = cluster_data, fullRank = TRUE)\n",
    "cluster_data_onehot <- data.frame(predict(dummy, newdata = cluster_data))"
   ]
  },
  {
   "cell_type": "markdown",
   "metadata": {},
   "source": [
    "# Internal validation"
   ]
  },
  {
   "cell_type": "markdown",
   "metadata": {},
   "source": [
    "- kmeans\n",
    "- pam\n",
    "- agnes\n",
    "- diana"
   ]
  },
  {
   "cell_type": "code",
   "execution_count": 125,
   "metadata": {},
   "outputs": [],
   "source": [
    "methods <- c(\"kmeans\", \"pam\", \"agnes\",\"diana\")\n",
    "k_range <- 2:8\n",
    "\n",
    "internal_val <- clValid(cluster_data_onehot, nClust=k_range, clMethods=methods, validation=\"internal\", method = \"single\", \n",
    "                        maxitems=nrow(cluster_data))"
   ]
  },
  {
   "cell_type": "code",
   "execution_count": 126,
   "metadata": {},
   "outputs": [
    {
     "data": {
      "text/html": [
       "<table class=\"dataframe\">\n",
       "<caption>A data.frame: 3 × 3</caption>\n",
       "<thead>\n",
       "\t<tr><th></th><th scope=col>Score</th><th scope=col>Method</th><th scope=col>Clusters</th></tr>\n",
       "\t<tr><th></th><th scope=col>&lt;dbl&gt;</th><th scope=col>&lt;chr&gt;</th><th scope=col>&lt;chr&gt;</th></tr>\n",
       "</thead>\n",
       "<tbody>\n",
       "\t<tr><th scope=row>Connectivity</th><td>0.000000</td><td>kmeans</td><td>2</td></tr>\n",
       "\t<tr><th scope=row>Dunn</th><td>1.040047</td><td>kmeans</td><td>2</td></tr>\n",
       "\t<tr><th scope=row>Silhouette</th><td>0.758156</td><td>kmeans</td><td>2</td></tr>\n",
       "</tbody>\n",
       "</table>\n"
      ],
      "text/latex": [
       "A data.frame: 3 × 3\n",
       "\\begin{tabular}{r|lll}\n",
       "  & Score & Method & Clusters\\\\\n",
       "  & <dbl> & <chr> & <chr>\\\\\n",
       "\\hline\n",
       "\tConnectivity & 0.000000 & kmeans & 2\\\\\n",
       "\tDunn & 1.040047 & kmeans & 2\\\\\n",
       "\tSilhouette & 0.758156 & kmeans & 2\\\\\n",
       "\\end{tabular}\n"
      ],
      "text/markdown": [
       "\n",
       "A data.frame: 3 × 3\n",
       "\n",
       "| <!--/--> | Score &lt;dbl&gt; | Method &lt;chr&gt; | Clusters &lt;chr&gt; |\n",
       "|---|---|---|---|\n",
       "| Connectivity | 0.000000 | kmeans | 2 |\n",
       "| Dunn | 1.040047 | kmeans | 2 |\n",
       "| Silhouette | 0.758156 | kmeans | 2 |\n",
       "\n"
      ],
      "text/plain": [
       "             Score    Method Clusters\n",
       "Connectivity 0.000000 kmeans 2       \n",
       "Dunn         1.040047 kmeans 2       \n",
       "Silhouette   0.758156 kmeans 2       "
      ]
     },
     "metadata": {},
     "output_type": "display_data"
    }
   ],
   "source": [
    "optimalScores(internal_val)"
   ]
  },
  {
   "cell_type": "code",
   "execution_count": 128,
   "metadata": {},
   "outputs": [],
   "source": [
    "k <- as.data.frame(internal_val@measures[,,\"kmeans\"])\n",
    "k$method <- c('kmeans', 'kmeans', 'kmeans')\n",
    "\n",
    "p <- as.data.frame(internal_val@measures[,,\"pam\"])\n",
    "p$method <- c('PAM', \"PAM\", 'PAM')\n",
    "\n",
    "a <- as.data.frame(internal_val@measures[,,\"agnes\"])\n",
    "a$method <- c('AGNES', \"AGNES\", 'AGNES')\n",
    "\n",
    "d <- as.data.frame(internal_val@measures[,,\"diana\"])\n",
    "d$method <- c('DIANA', \"DIANA\", 'DIANA')\n",
    "\n",
    "df <- rbind(k,p,a,d)"
   ]
  },
  {
   "cell_type": "code",
   "execution_count": 12,
   "metadata": {},
   "outputs": [],
   "source": [
    "#write.csv(df, 'assesment.csv', row.names = TRUE)"
   ]
  },
  {
   "cell_type": "code",
   "execution_count": 130,
   "metadata": {},
   "outputs": [],
   "source": [
    "df <- read.csv('assesment.csv', row.names = 1)"
   ]
  },
  {
   "cell_type": "code",
   "execution_count": 134,
   "metadata": {},
   "outputs": [],
   "source": [
    "conn <- df[c(1, 4, 7, 10), ] %>% rename_with(~ sub(\"^X\", \"\", .))\n",
    "dunn <- df[c(2,5,8,11), ] %>% rename_with(~ sub(\"^X\", \"\", .))\n",
    "sil <- df[c(3,6,9,12), ] %>% rename_with(~ sub(\"^X\", \"\", .))"
   ]
  },
  {
   "cell_type": "code",
   "execution_count": 136,
   "metadata": {},
   "outputs": [],
   "source": [
    "conn_df <- conn %>%\n",
    "  rownames_to_column(var = \"Conn\") %>%\n",
    "  pivot_longer(cols = -c(Conn, method), \n",
    "               names_to = \"k\", \n",
    "               values_to = \"Connectivity\") %>%\n",
    "  dplyr::mutate(k = as.integer(k))  %>% dplyr::select(-Conn)\n",
    "\n",
    "dunn_df <- dunn %>%\n",
    "  rownames_to_column(var = \"Du\") %>%\n",
    "  pivot_longer(cols = -c(Du, method), \n",
    "               names_to = \"k\", \n",
    "               values_to = \"Dunn\") %>%\n",
    "  dplyr::mutate(k = as.integer(k))  %>% dplyr::select(-Du)\n",
    "\n",
    "sil_df <- sil %>%\n",
    "  rownames_to_column(var = \"Silh\") %>%\n",
    "  pivot_longer(cols = -c(Silh, method), \n",
    "               names_to = \"k\", \n",
    "               values_to = \"Silhouette\") %>%\n",
    "  dplyr::mutate(k = as.integer(k))  %>% dplyr::select(-Silh)"
   ]
  },
  {
   "cell_type": "code",
   "execution_count": 137,
   "metadata": {},
   "outputs": [
    {
     "data": {
      "image/png": "[encoded data removed]",
      "text/plain": [
       "plot without title"
      ]
     },
     "metadata": {
      "image/png": {
       "height": 480,
       "width": 780
      }
     },
     "output_type": "display_data"
    },
    {
     "data": {
      "image/png": "[encoded data removed]",
      "text/plain": [
       "plot without title"
      ]
     },
     "metadata": {
      "image/png": {
       "height": 480,
       "width": 780
      }
     },
     "output_type": "display_data"
    },
    {
     "data": {
      "image/png": "[encoded data removed]",
      "text/plain": [
       "plot without title"
      ]
     },
     "metadata": {
      "image/png": {
       "height": 480,
       "width": 780
      }
     },
     "output_type": "display_data"
    }
   ],
   "source": [
    "options(repr.plot.width = 13, repr.plot.height = 8)\n",
    "#Connectivity\n",
    "conn_plot <- ggplot() +\n",
    "  geom_line(data=conn_df, aes(x=k, y=Connectivity, color=method), size=1, linetype = \"solid\") +\n",
    "  geom_point(data=conn_df, aes(x=k, y=Connectivity, color=method), size=4) +\n",
    "  labs(title='Connectivity for different clustering methods',\n",
    "       y='Connectivity',\n",
    "       x='k') +\n",
    "  theme(axis.text.x = element_text(size=14),\n",
    "        axis.text.y = element_text(size=14),\n",
    "        axis.title = element_text(size=18),\n",
    "        plot.title = element_text(hjust = 0.5, size=20),\n",
    "        legend.position = c(0.90, 0.25),\n",
    "        legend.text = element_text(size = 12), \n",
    "        legend.title = element_text(size = 14)) + \n",
    "  theme(legend.background = element_rect(fill = alpha('white', 0)))\n",
    "\n",
    "#Dunn index\n",
    "dunn_plot <- ggplot() +\n",
    "  geom_line(data=dunn_df, aes(x=k, y=Dunn, color=method), size=1, linetype = \"solid\") +\n",
    "  geom_point(data=dunn_df, aes(x=k, y=Dunn, color=method), size=4) +\n",
    "  labs(title='Dunn index for different clustering methods',\n",
    "       y='Dunn index',\n",
    "       x='k') +\n",
    "  theme(axis.text.x = element_text(size=14),\n",
    "        axis.text.y = element_text(size=14),\n",
    "        axis.title = element_text(size=18),\n",
    "        plot.title = element_text(hjust = 0.5, size=20),\n",
    "        legend.position = c(0.90, 0.55),\n",
    "        legend.text = element_text(size = 12), \n",
    "        legend.title = element_text(size = 14)) + \n",
    "  theme(legend.background = element_rect(fill = alpha('white', 0)))\n",
    "\n",
    "#Silhouette\n",
    "sil_plot <- ggplot() +\n",
    "  geom_line(data=sil_df, aes(x=k, y=Silhouette, color=method), size=1, linetype = \"solid\") +\n",
    "  geom_point(data=sil_df, aes(x=k, y=Silhouette, color=method), size=4) +\n",
    "  labs(title='Silhouette index for different clustering methods',\n",
    "       y='Silhouette index',\n",
    "       x='k') +\n",
    "  theme(axis.text.x = element_text(size=14),\n",
    "        axis.text.y = element_text(size=14),\n",
    "        axis.title = element_text(size=18),\n",
    "        plot.title = element_text(hjust = 0.5, size=20),\n",
    "        legend.position = c(0.90, 0.85),\n",
    "        legend.text = element_text(size = 12), \n",
    "        legend.title = element_text(size = 14)) + \n",
    "  theme(legend.background = element_rect(fill = alpha('white', 0)))\n",
    "\n",
    "\n",
    "conn_plot\n",
    "dunn_plot\n",
    "sil_plot\n",
    "\n",
    "#ggsave(\"images/conn_plot.jpg\", conn_plot, width = 13, height = 8, units = \"in\", dpi = 300)\n",
    "#ggsave(\"images/dunn_plot.jpg\", dunn_plot, width = 13, height = 8, units = \"in\", dpi = 300)\n",
    "#ggsave(\"images/sil_plot.jpg\", sil_plot, width = 13, height = 8, units = \"in\", dpi = 300)"
   ]
  },
  {
   "cell_type": "markdown",
   "metadata": {},
   "source": [
    "# Silhouette"
   ]
  },
  {
   "cell_type": "code",
   "execution_count": 17,
   "metadata": {},
   "outputs": [],
   "source": [
    "#one hot + euclidean\n",
    "#diss_matrix <- as.matrix(dist(cluster_data_onehot, method = \"euclidean\"))"
   ]
  },
  {
   "cell_type": "code",
   "execution_count": 18,
   "metadata": {},
   "outputs": [],
   "source": [
    "#write.csv(diss_matrix, 'diss_matrix.csv', row.names = TRUE)"
   ]
  },
  {
   "cell_type": "code",
   "execution_count": 20,
   "metadata": {},
   "outputs": [],
   "source": [
    "diss_matrix <- as.matrix(read.csv('diss_matrix.csv', row.names=1))"
   ]
  },
  {
   "cell_type": "code",
   "execution_count": 20,
   "metadata": {},
   "outputs": [],
   "source": [
    "options(repr.plot.width = 12, repr.plot.height = 8)"
   ]
  },
  {
   "cell_type": "code",
   "execution_count": 21,
   "metadata": {},
   "outputs": [
    {
     "name": "stdout",
     "output_type": "stream",
     "text": [
      "  cluster size ave.sil.width\n",
      "1       1 2899          0.08\n",
      "2       2 2101          0.15\n"
     ]
    },
    {
     "data": {
      "image/png": "[encoded data removed]",
      "text/plain": [
       "plot without title"
      ]
     },
     "metadata": {
      "image/png": {
       "height": 480,
       "width": 720
      }
     },
     "output_type": "display_data"
    }
   ],
   "source": [
    "kmeans <- kmeans(cluster_data_onehot, 2, nstart=10)$cluster\n",
    "sil_kmeans <- silhouette(kmeans, dmatrix=diss_matrix)\n",
    "kmeans_silh_plot <- fviz_silhouette(sil_kmeans, ylab='Silhouette width', print_summary=FALSE) +\n",
    "                        theme(axis.text = element_text(size = 14),\n",
    "                             axis.title = element_text(size = 18),\n",
    "                             plot.title = element_text(size =20, hjust=0.5), \n",
    "                             legend.position = c(0.90, 0.85),\n",
    "                             legend.text = element_text(size = 14), \n",
    "                             legend.title = element_text(size = 16)) +\n",
    "                        theme(legend.background = element_rect(fill = alpha('white', 0)))\n",
    "\n",
    "kmeans_silh_plot\n",
    "\n",
    "#ggsave(\"images/kmeans_silh_plot.jpg\", kmeans_silh_plot, width = 12, height = 8, units = \"in\", dpi = 300)"
   ]
  },
  {
   "cell_type": "code",
   "execution_count": 22,
   "metadata": {},
   "outputs": [
    {
     "name": "stdout",
     "output_type": "stream",
     "text": [
      "  cluster size ave.sil.width\n",
      "1       1 3384          0.08\n",
      "2       2 1616          0.13\n"
     ]
    },
    {
     "data": {
      "image/png": "[encoded data removed]",
      "text/plain": [
       "plot without title"
      ]
     },
     "metadata": {
      "image/png": {
       "height": 480,
       "width": 720
      }
     },
     "output_type": "display_data"
    }
   ],
   "source": [
    "pam <- pam(x = diss_matrix, diss=TRUE, k=2)\n",
    "sil_pam <- silhouette(pam$clustering, dmatrix=diss_matrix)\n",
    "pam_silh_plot <- fviz_silhouette(sil_pam, ylab='Silhouette width', print_summary=FALSE) +\n",
    "                        theme(axis.text = element_text(size = 14),\n",
    "                             axis.title = element_text(size = 18),\n",
    "                             plot.title = element_text(size =20, hjust=0.5), \n",
    "                             legend.position = c(0.90, 0.85),\n",
    "                             legend.text = element_text(size = 14), \n",
    "                             legend.title = element_text(size = 16)) +\n",
    "                        theme(legend.background = element_rect(fill = alpha('white', 0)))\n",
    "\n",
    "pam_silh_plot\n",
    "\n",
    "#ggsave(\"images/pam_silh_plot.jpg\", pam_silh_plot, width = 12, height = 8, units = \"in\", dpi = 300)"
   ]
  },
  {
   "cell_type": "code",
   "execution_count": 23,
   "metadata": {},
   "outputs": [
    {
     "name": "stdout",
     "output_type": "stream",
     "text": [
      "  cluster size ave.sil.width\n",
      "1       1 4979          0.76\n",
      "2       2   21          0.77\n"
     ]
    },
    {
     "data": {
      "image/png": "[encoded data removed]",
      "text/plain": [
       "plot without title"
      ]
     },
     "metadata": {
      "image/png": {
       "height": 480,
       "width": 720
      }
     },
     "output_type": "display_data"
    }
   ],
   "source": [
    "agnes <- cutree(agnes(diss_matrix, method = 'single', diss = TRUE), k=2)\n",
    "sil_agnes <- silhouette(agnes, dmatrix=diss_matrix)\n",
    "agnes_silh_plot <- fviz_silhouette(sil_agnes, ylab='Silhouette width', print_summary=FALSE) +\n",
    "                        theme(axis.text = element_text(size = 14),\n",
    "                             axis.title = element_text(size = 18),\n",
    "                             plot.title = element_text(size =20, hjust=0.5), \n",
    "                             legend.position = c(0.90, 0.85),\n",
    "                             legend.text = element_text(size = 14), \n",
    "                             legend.title = element_text(size = 16)) +\n",
    "                        theme(legend.background = element_rect(fill = alpha('white', 0)))\n",
    "\n",
    "agnes_silh_plot\n",
    "\n",
    "#ggsave(\"images/agnes_silh_plot.jpg\", agnes_silh_plot, width = 12, height = 8, units = \"in\", dpi = 300)"
   ]
  },
  {
   "cell_type": "code",
   "execution_count": 24,
   "metadata": {
    "scrolled": false
   },
   "outputs": [
    {
     "name": "stdout",
     "output_type": "stream",
     "text": [
      "  cluster size ave.sil.width\n",
      "1       1 4979          0.76\n",
      "2       2   21          0.77\n"
     ]
    },
    {
     "data": {
      "image/png": "[encoded data removed]",
      "text/plain": [
       "plot without title"
      ]
     },
     "metadata": {
      "image/png": {
       "height": 480,
       "width": 720
      }
     },
     "output_type": "display_data"
    }
   ],
   "source": [
    "diana <- cutree(diana(diss_matrix, diss=TRUE), k=2)\n",
    "sil_diana <- silhouette(diana, dmatrix=diss_matrix)\n",
    "diana_silh_plot <- fviz_silhouette(sil_diana, ylab='Silhouette width', print_summary=FALSE) +\n",
    "                        theme(axis.text = element_text(size = 14),\n",
    "                             axis.title = element_text(size = 18),\n",
    "                             plot.title = element_text(size =20, hjust=0.5), \n",
    "                             legend.position = c(0.90, 0.85),\n",
    "                             legend.text = element_text(size = 14), \n",
    "                             legend.title = element_text(size = 16)) +\n",
    "                        theme(legend.background = element_rect(fill = alpha('white', 0)))\n",
    "\n",
    "diana_silh_plot\n",
    "\n",
    "#ggsave(\"images/diana_silh_plot.jpg\", diana_silh_plot, width = 12, height = 8, units = \"in\", dpi = 300)"
   ]
  },
  {
   "cell_type": "markdown",
   "metadata": {},
   "source": [
    "kmeans, diana and agnes give the same results -> another one: davies-bouldin index"
   ]
  },
  {
   "cell_type": "code",
   "execution_count": 21,
   "metadata": {},
   "outputs": [],
   "source": [
    "dbi_kmeans <- numeric()\n",
    "dbi_agnes <- numeric()\n",
    "dbi_pam <- numeric()\n",
    "dbi_diana <- numeric()\n",
    "\n",
    "ch_kmeans <- numeric()\n",
    "ch_agnes <- numeric()\n",
    "ch_pam <- numeric()\n",
    "ch_diana <- numeric()"
   ]
  },
  {
   "cell_type": "code",
   "execution_count": 22,
   "metadata": {},
   "outputs": [],
   "source": [
    "kmeans_vec <- numeric()\n",
    "agnes_vec <- numeric()\n",
    "pam_vec <- numeric()\n",
    "diana_vec <-  numeric()"
   ]
  },
  {
   "cell_type": "code",
   "execution_count": 23,
   "metadata": {},
   "outputs": [
    {
     "name": "stdout",
     "output_type": "stream",
     "text": [
      "[1] 2\n",
      "[1] 3\n",
      "[1] 4\n",
      "[1] 5\n",
      "[1] 6\n",
      "[1] 7\n",
      "[1] 8\n"
     ]
    }
   ],
   "source": [
    "for (k in 2:8) {\n",
    "    print(k)\n",
    "    kmeans <- kmeans(cluster_data_onehot, k, nstart=10)$cluster\n",
    "    kmeans_vec <- c(kmeans_vec, kmeans)\n",
    "    kmeans_result <- index.DB(cluster_data_onehot, cl = kmeans)\n",
    "    dbi_kmeans <- c(dbi_kmeans, kmeans_result$DB)\n",
    "    ch_kmeans_result <- index.G1(cluster_data_onehot, kmeans)\n",
    "    ch_kmeans <- c(ch_kmeans, ch_kmeans_result)\n",
    "    \n",
    "    agnes <- cutree(agnes(diss_matrix, method = 'single', diss = TRUE), k=k)\n",
    "    agnes_vec <- c(agnes_vec, agnes)\n",
    "    agnes_result <- index.DB(cluster_data_onehot, cl = agnes)\n",
    "    dbi_agnes <- c(dbi_agnes, agnes_result$DB)\n",
    "    ch_agnes_result <- index.G1(cluster_data_onehot, agnes)\n",
    "    ch_agnes <- c(ch_agnes, ch_agnes_result)\n",
    "    \n",
    "    pam <- pam(x = diss_matrix, diss=TRUE, k=k)\n",
    "    pam_vec <- c(pam_vec, pam)\n",
    "    pam_result <- index.DB(cluster_data_onehot, cl = pam$cluster)\n",
    "    dbi_pam <- c(dbi_pam, pam_result$DB)\n",
    "    ch_pam_result <- index.G1(cluster_data_onehot, pam$cluster)\n",
    "    ch_pam <- c(ch_pam, ch_pam_result)\n",
    "    \n",
    "    diana <- cutree(diana(diss_matrix, diss=TRUE), k=k)\n",
    "    diana_vec <- c(diana_vec, diana)\n",
    "    diana_result <- index.DB(cluster_data_onehot, cl = diana)\n",
    "    dbi_diana <- c(dbi_diana, diana_result$DB)\n",
    "    ch_diana_result <- index.G1(cluster_data_onehot, diana)\n",
    "    ch_diana <- c(ch_diana, ch_diana_result)\n",
    "}"
   ]
  },
  {
   "cell_type": "code",
   "execution_count": 24,
   "metadata": {},
   "outputs": [],
   "source": [
    "dbi_data <- data.frame(\n",
    "  k = rep(2:8, 4),\n",
    "  DBI = c(dbi_kmeans, dbi_agnes, dbi_pam, dbi_diana),\n",
    "  method = rep(c('kmeans', \"AGNES\", \"PAM\", \"DIANA\"), each = length(2:8))\n",
    ")\n"
   ]
  },
  {
   "cell_type": "code",
   "execution_count": 25,
   "metadata": {},
   "outputs": [],
   "source": [
    "ch_data <- data.frame(\n",
    "  k = rep(2:8, 4),\n",
    "  Calinski_Harabasz = c(ch_kmeans, ch_agnes, ch_pam, ch_diana),\n",
    "  method = rep(c('kmeans', \"AGNES\", \"PAM\", \"DIANA\"), each = length(2:8))\n",
    ")"
   ]
  },
  {
   "cell_type": "code",
   "execution_count": 26,
   "metadata": {},
   "outputs": [],
   "source": [
    "#write.csv(dbi_data, 'dbi_data.csv', row.names = TRUE)\n",
    "#write.csv(ch_data, 'ch_data.csv', row.names=TRUE)"
   ]
  },
  {
   "cell_type": "code",
   "execution_count": 150,
   "metadata": {},
   "outputs": [],
   "source": [
    "dbi_data <- read.csv('dbi_data.csv', row.names=1)\n",
    "ch_data <- read.csv('ch_data.csv', row.names=1)"
   ]
  },
  {
   "cell_type": "code",
   "execution_count": 29,
   "metadata": {},
   "outputs": [],
   "source": [
    "options(repr.plot.width = 12, repr.plot.height = 8)"
   ]
  },
  {
   "cell_type": "code",
   "execution_count": 35,
   "metadata": {},
   "outputs": [
    {
     "data": {
      "image/png": "[encoded data removed]",
      "text/plain": [
       "plot without title"
      ]
     },
     "metadata": {
      "image/png": {
       "height": 480,
       "width": 720
      }
     },
     "output_type": "display_data"
    }
   ],
   "source": [
    "dbi_plot <- ggplot(dbi_data, aes(x = k, y = DBI, color = method)) +\n",
    "  geom_line(size=1) +\n",
    "  geom_point(size=4) +\n",
    "  labs(title = \"Davies-Bouldin Index for Different Clustering Methods\",\n",
    "       x = \"k\",\n",
    "       y = \"Davies-Bouldin Index\") +\n",
    " theme(axis.text.x = element_text(size=14),\n",
    "        axis.text.y = element_text(size=14),\n",
    "        axis.title = element_text(size=18),\n",
    "        plot.title = element_text(hjust = 0.5, size=20),\n",
    "        legend.position = c(0.90, 0.35),\n",
    "        legend.text = element_text(size = 12), \n",
    "        legend.title = element_text(size = 14)) + \n",
    "  theme(legend.background = element_rect(fill = alpha('white', 0)))\n",
    "\n",
    "dbi_plot\n",
    "\n",
    "#ggsave(\"images/dbi_plot.jpg\", dbi_plot, width = 12, height = 8, units = \"in\", dpi = 300)"
   ]
  },
  {
   "cell_type": "code",
   "execution_count": 37,
   "metadata": {},
   "outputs": [
    {
     "data": {
      "image/png": "[encoded data removed]",
      "text/plain": [
       "plot without title"
      ]
     },
     "metadata": {
      "image/png": {
       "height": 480,
       "width": 720
      }
     },
     "output_type": "display_data"
    }
   ],
   "source": [
    "ch_plot <- ggplot(ch_data, aes(x = k, y = Calinski_Harabasz, color = method)) +\n",
    "  geom_line(size=1) +\n",
    "  geom_point(size=4) +\n",
    "  labs(title = \"Calinski-Harabasz Index for Different Clustering Methods\",\n",
    "       x = \"k\",\n",
    "       y = \"Calinski-Harabasz Index\") +\n",
    " theme(axis.text.x = element_text(size=14),\n",
    "        axis.text.y = element_text(size=14),\n",
    "        axis.title = element_text(size=18),\n",
    "        plot.title = element_text(hjust = 0.5, size=20),\n",
    "        legend.position = c(0.90, 0.30),\n",
    "        legend.text = element_text(size = 12), \n",
    "        legend.title = element_text(size = 14)) + \n",
    "  theme(legend.background = element_rect(fill = alpha('white', 0)))\n",
    "\n",
    "ch_plot\n",
    "\n",
    "#ggsave(\"images/ch_plot.jpg\", ch_plot, width = 12, height = 8, units = \"in\", dpi = 300)"
   ]
  },
  {
   "cell_type": "markdown",
   "metadata": {},
   "source": [
    "# External validation"
   ]
  },
  {
   "cell_type": "markdown",
   "metadata": {},
   "source": [
    "best ones: AGNES, DIANA with k=2"
   ]
  },
  {
   "cell_type": "code",
   "execution_count": 40,
   "metadata": {},
   "outputs": [],
   "source": [
    "true_labels <- as.numeric(data$income_binary)"
   ]
  },
  {
   "cell_type": "code",
   "execution_count": 41,
   "metadata": {},
   "outputs": [],
   "source": [
    "agnes <- cutree(agnes(diss_matrix, method = 'single', diss = TRUE), k=2)\n",
    "diana <- cutree(diana(diss_matrix, diss=TRUE), k=2)"
   ]
  },
  {
   "cell_type": "code",
   "execution_count": 143,
   "metadata": {},
   "outputs": [
    {
     "name": "stdout",
     "output_type": "stream",
     "text": [
      "Direct agreement: 1 of 2 pairs\n",
      "Iterations for permutation matching: 1 \n",
      "Cases in matched pairs: 76.28 %\n"
     ]
    },
    {
     "data": {
      "text/html": [
       "<style>\n",
       ".dl-inline {width: auto; margin:0; padding: 0}\n",
       ".dl-inline>dt, .dl-inline>dd {float: none; width: auto; display: inline-block}\n",
       ".dl-inline>dt::after {content: \":\\0020\"; padding-right: .5ex}\n",
       ".dl-inline>dt:not(:first-of-type) {padding-left: .5ex}\n",
       "</style><dl class=dl-inline><dt>1</dt><dd>'0'</dd><dt>2</dt><dd>'1'</dd></dl>\n"
      ],
      "text/latex": [
       "\\begin{description*}\n",
       "\\item[1] '0'\n",
       "\\item[2] '1'\n",
       "\\end{description*}\n"
      ],
      "text/markdown": [
       "1\n",
       ":   '0'2\n",
       ":   '1'\n",
       "\n"
      ],
      "text/plain": [
       "  1   2 \n",
       "\"0\" \"1\" "
      ]
     },
     "metadata": {},
     "output_type": "display_data"
    }
   ],
   "source": [
    " matchClasses(table(agnes, true_labels), method=\"exact\")"
   ]
  },
  {
   "cell_type": "code",
   "execution_count": 142,
   "metadata": {},
   "outputs": [
    {
     "name": "stdout",
     "output_type": "stream",
     "text": [
      "Direct agreement: 2 of 2 pairs\n",
      "Cases in matched pairs: 100 %\n"
     ]
    },
    {
     "data": {
      "text/html": [
       "<style>\n",
       ".dl-inline {width: auto; margin:0; padding: 0}\n",
       ".dl-inline>dt, .dl-inline>dd {float: none; width: auto; display: inline-block}\n",
       ".dl-inline>dt::after {content: \":\\0020\"; padding-right: .5ex}\n",
       ".dl-inline>dt:not(:first-of-type) {padding-left: .5ex}\n",
       "</style><dl class=dl-inline><dt>1</dt><dd>1</dd><dt>2</dt><dd>2</dd></dl>\n"
      ],
      "text/latex": [
       "\\begin{description*}\n",
       "\\item[1] 1\n",
       "\\item[2] 2\n",
       "\\end{description*}\n"
      ],
      "text/markdown": [
       "1\n",
       ":   12\n",
       ":   2\n",
       "\n"
      ],
      "text/plain": [
       "1 2 \n",
       "1 2 "
      ]
     },
     "metadata": {},
     "output_type": "display_data"
    }
   ],
   "source": [
    "matchClasses(table(agnes, diana), method='exact')"
   ]
  },
  {
   "cell_type": "code",
   "execution_count": 42,
   "metadata": {},
   "outputs": [],
   "source": [
    "contingency_matrix_diana <- table(true_labels, diana)\n",
    "contingency_matrix_agnes <- table(true_labels, agnes)"
   ]
  },
  {
   "cell_type": "code",
   "execution_count": 77,
   "metadata": {},
   "outputs": [
    {
     "data": {
      "text/plain": [
       "           diana\n",
       "true_labels    1    2\n",
       "          0 3793    0\n",
       "          1 1186   21"
      ]
     },
     "metadata": {},
     "output_type": "display_data"
    },
    {
     "data": {
      "text/plain": [
       "           agnes\n",
       "true_labels    1    2\n",
       "          0 3793    0\n",
       "          1 1186   21"
      ]
     },
     "metadata": {},
     "output_type": "display_data"
    }
   ],
   "source": [
    "contingency_matrix_diana\n",
    "contingency_matrix_agnes"
   ]
  },
  {
   "cell_type": "code",
   "execution_count": 51,
   "metadata": {},
   "outputs": [],
   "source": [
    "# Rand Index and Adjusted Rand Index\n",
    "rand_diana <- rand.index(diana, true_labels)\n",
    "adjusted_rand_diana <- adjustedRandIndex(diana, true_labels)\n",
    "\n",
    "rand_agnes <- rand.index(agnes, true_labels)\n",
    "adjusted_rand_agnes <- adjustedRandIndex(agnes, true_labels)"
   ]
  },
  {
   "cell_type": "code",
   "execution_count": 76,
   "metadata": {},
   "outputs": [
    {
     "data": {
      "text/html": [
       "0.638055291058212"
      ],
      "text/latex": [
       "0.638055291058212"
      ],
      "text/markdown": [
       "0.638055291058212"
      ],
      "text/plain": [
       "[1] 0.6380553"
      ]
     },
     "metadata": {},
     "output_type": "display_data"
    },
    {
     "data": {
      "text/html": [
       "0.638055291058212"
      ],
      "text/latex": [
       "0.638055291058212"
      ],
      "text/markdown": [
       "0.638055291058212"
      ],
      "text/plain": [
       "[1] 0.6380553"
      ]
     },
     "metadata": {},
     "output_type": "display_data"
    },
    {
     "data": {
      "text/html": [
       "0.0179546016651581"
      ],
      "text/latex": [
       "0.0179546016651581"
      ],
      "text/markdown": [
       "0.0179546016651581"
      ],
      "text/plain": [
       "[1] 0.0179546"
      ]
     },
     "metadata": {},
     "output_type": "display_data"
    },
    {
     "data": {
      "text/html": [
       "0.0179546016651581"
      ],
      "text/latex": [
       "0.0179546016651581"
      ],
      "text/markdown": [
       "0.0179546016651581"
      ],
      "text/plain": [
       "[1] 0.0179546"
      ]
     },
     "metadata": {},
     "output_type": "display_data"
    }
   ],
   "source": [
    "rand_diana\n",
    "rand_agnes\n",
    "adjusted_rand_diana\n",
    "adjusted_rand_agnes"
   ]
  },
  {
   "cell_type": "code",
   "execution_count": 61,
   "metadata": {},
   "outputs": [],
   "source": [
    "jaccard <- function(a, b) {\n",
    "    intersection = length(intersect(a, b))\n",
    "    union = length(a) + length(b) - intersection\n",
    "    return (intersection/union)\n",
    "}"
   ]
  },
  {
   "cell_type": "code",
   "execution_count": 63,
   "metadata": {},
   "outputs": [],
   "source": [
    "# Jaccard Index\n",
    "jaccard_diana <- jaccard(diana, true_labels)\n",
    "jaccard_agnes <- jaccard(agnes, true_labels)"
   ]
  },
  {
   "cell_type": "code",
   "execution_count": 75,
   "metadata": {},
   "outputs": [
    {
     "data": {
      "text/html": [
       "0.0001000100010001"
      ],
      "text/latex": [
       "0.0001000100010001"
      ],
      "text/markdown": [
       "0.0001000100010001"
      ],
      "text/plain": [
       "[1] 0.00010001"
      ]
     },
     "metadata": {},
     "output_type": "display_data"
    },
    {
     "data": {
      "text/html": [
       "0.0001000100010001"
      ],
      "text/latex": [
       "0.0001000100010001"
      ],
      "text/markdown": [
       "0.0001000100010001"
      ],
      "text/plain": [
       "[1] 0.00010001"
      ]
     },
     "metadata": {},
     "output_type": "display_data"
    }
   ],
   "source": [
    "jaccard_diana\n",
    "jaccard_agnes"
   ]
  },
  {
   "cell_type": "code",
   "execution_count": 66,
   "metadata": {},
   "outputs": [],
   "source": [
    "fm_diana <- FM_index(diana, true_labels)\n",
    "fm_agnes <- FM_index(agnes, true_labels)"
   ]
  },
  {
   "cell_type": "code",
   "execution_count": 74,
   "metadata": {},
   "outputs": [
    {
     "data": {
      "text/html": [
       "0.796873823792375"
      ],
      "text/latex": [
       "0.796873823792375"
      ],
      "text/markdown": [
       "0.796873823792375"
      ],
      "text/plain": [
       "[1] 0.7968738\n",
       "attr(,\"E_FM\")\n",
       "[1] 0.7926999\n",
       "attr(,\"V_FM\")\n",
       "[1] 2.56829e-07"
      ]
     },
     "metadata": {},
     "output_type": "display_data"
    },
    {
     "data": {
      "text/html": [
       "0.796873823792375"
      ],
      "text/latex": [
       "0.796873823792375"
      ],
      "text/markdown": [
       "0.796873823792375"
      ],
      "text/plain": [
       "[1] 0.7968738\n",
       "attr(,\"E_FM\")\n",
       "[1] 0.7926999\n",
       "attr(,\"V_FM\")\n",
       "[1] 2.56829e-07"
      ]
     },
     "metadata": {},
     "output_type": "display_data"
    }
   ],
   "source": [
    "fm_diana\n",
    "fm_agnes"
   ]
  },
  {
   "cell_type": "code",
   "execution_count": 92,
   "metadata": {},
   "outputs": [
    {
     "name": "stdout",
     "output_type": "stream",
     "text": [
      " \n",
      "---------------------------------------- \n",
      "purity                         : 0.7628 \n",
      "entropy                        : 0.0306 \n",
      "normalized mutual information  : 0.0207 \n",
      "variation of information       : 0.8193 \n",
      "normalized var. of information : 0.9895 \n",
      "---------------------------------------- \n",
      "specificity                    : 0.0174 \n",
      "sensitivity                    : 0.9969 \n",
      "precision                      : 0.637 \n",
      "recall                         : 0.9969 \n",
      "F-measure                      : 0.7773 \n",
      "---------------------------------------- \n",
      "accuracy OR rand-index         : 0.6381 \n",
      "adjusted-rand-index            : 0.018 \n",
      "jaccard-index                  : 0.6357 \n",
      "fowlkes-mallows-index          : 0.7969 \n",
      "mirkin-metric                  : 9046808 \n",
      "---------------------------------------- \n"
     ]
    },
    {
     "data": {
      "text/html": [
       "0.0179546016651581"
      ],
      "text/latex": [
       "0.0179546016651581"
      ],
      "text/markdown": [
       "0.0179546016651581"
      ],
      "text/plain": [
       "[1] 0.0179546"
      ]
     },
     "metadata": {},
     "output_type": "display_data"
    }
   ],
   "source": [
    "#easiest way\n",
    "external_validation(\n",
    "  true_labels,\n",
    "  diana,\n",
    "  summary_stats = TRUE\n",
    ")"
   ]
  },
  {
   "cell_type": "code",
   "execution_count": 93,
   "metadata": {},
   "outputs": [
    {
     "name": "stdout",
     "output_type": "stream",
     "text": [
      " \n",
      "---------------------------------------- \n",
      "purity                         : 0.7628 \n",
      "entropy                        : 0.0306 \n",
      "normalized mutual information  : 0.0207 \n",
      "variation of information       : 0.8193 \n",
      "normalized var. of information : 0.9895 \n",
      "---------------------------------------- \n",
      "specificity                    : 0.0174 \n",
      "sensitivity                    : 0.9969 \n",
      "precision                      : 0.637 \n",
      "recall                         : 0.9969 \n",
      "F-measure                      : 0.7773 \n",
      "---------------------------------------- \n",
      "accuracy OR rand-index         : 0.6381 \n",
      "adjusted-rand-index            : 0.018 \n",
      "jaccard-index                  : 0.6357 \n",
      "fowlkes-mallows-index          : 0.7969 \n",
      "mirkin-metric                  : 9046808 \n",
      "---------------------------------------- \n"
     ]
    },
    {
     "data": {
      "text/html": [
       "0.0179546016651581"
      ],
      "text/latex": [
       "0.0179546016651581"
      ],
      "text/markdown": [
       "0.0179546016651581"
      ],
      "text/plain": [
       "[1] 0.0179546"
      ]
     },
     "metadata": {},
     "output_type": "display_data"
    }
   ],
   "source": [
    "external_validation(\n",
    "  true_labels,\n",
    "  agnes,\n",
    "  summary_stats = TRUE\n",
    ")"
   ]
  },
  {
   "cell_type": "markdown",
   "metadata": {},
   "source": [
    "# Not done Gower"
   ]
  },
  {
   "cell_type": "code",
   "execution_count": 179,
   "metadata": {},
   "outputs": [],
   "source": [
    "#COMPUTATIONS TOO LONG\n",
    "diss_matrix_gow <- daisy(cluster_data, metric = \"gower\")\n",
    "\n",
    "agnes_silh_gow <- c()\n",
    "pam_silh_gow <- c()\n",
    "diana_silh_gow <- c()\n",
    "\n",
    "#for gower\n",
    "for (k in 2:8){\n",
    "    \n",
    "    #for gower, can't use kmeans because categorical variables occurs\n",
    "    \n",
    "    pam.res <- pam(diss_matrix_gow, diss = TRUE, k = 3)\n",
    "    sil.pam <- silhouette(pam.res$clustering, diss_matrix_gow)\n",
    "    pam_silh_gow <- c(pam_silh_gow, mean(sil.pam[, 3]))\n",
    "    \n",
    "    agnes.res <- agnes(diss_matrix_gow, method = \"single\", diss = TRUE)\n",
    "    agnes.partition <- cutree(agnes.res, k = 4)\n",
    "    sil.agnes <- silhouette(agnes.partition, diss_matrix_gow)\n",
    "    agnes_silh_gow <- c(agnes_silh_gow, mean(sil.agnes[, 3]))\n",
    "    \n",
    "    diana.res <- diana(x=diss_matrix_gow, diss=TRUE)\n",
    "    diana.partition <- cutree(diana.res, k=4)\n",
    "    sil.diana <- silhouette(diana.partition, diss_matrix_gow)\n",
    "    diana_silh_gow <- c(diana_silh_gow, mean(sil.diana[,3]))\n",
    "}"
   ]
  }
 ],
 "metadata": {
  "kernelspec": {
   "display_name": "R",
   "language": "R",
   "name": "ir"
  },
  "language_info": {
   "codemirror_mode": "r",
   "file_extension": ".r",
   "mimetype": "text/x-r-source",
   "name": "R",
   "pygments_lexer": "r",
   "version": "4.2.2"
  }
 },
 "nbformat": 4,
 "nbformat_minor": 4
}

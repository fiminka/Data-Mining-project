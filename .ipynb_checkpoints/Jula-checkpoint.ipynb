{
 "cells": [
  {
   "cell_type": "markdown",
   "id": "8dae4783",
   "metadata": {},
   "source": [
    "# LIBRARIES AND DATA IMPORT"
   ]
  },
  {
   "cell_type": "code",
   "execution_count": 38,
   "id": "4016f076",
   "metadata": {},
   "outputs": [],
   "source": [
    "library(dplyr)\n",
    "library(DataExplorer)\n",
    "library(ggplot2)\n",
    "library(tidyr)"
   ]
  },
  {
   "cell_type": "code",
   "execution_count": 13,
   "id": "5a597ed3",
   "metadata": {},
   "outputs": [],
   "source": [
    "adult_data <- read.csv(file=\"data\\\\adult.data\", stringsAsFactors = TRUE, col.names=c(\"age\", \"workclass\", \"fnlwgt\", \"education\", \n",
    "                                                       \"education.num\",\"marital.status\", \"occupation\", \"relationship\", \"race\",\"sex\",\n",
    "                                                       \"capital.gain\", \"capital.loss\", \"hours.per.week\",\"native.country\", \"income\"))"
   ]
  },
  {
   "cell_type": "code",
   "execution_count": 77,
   "id": "6787fd83",
   "metadata": {},
   "outputs": [
    {
     "data": {
      "text/html": [
       "<style>\n",
       ".list-inline {list-style: none; margin:0; padding: 0}\n",
       ".list-inline>li {display: inline-block}\n",
       ".list-inline>li:not(:last-child)::after {content: \"\\00b7\"; padding: 0 .5ex}\n",
       "</style>\n",
       "<ol class=list-inline><li>'age'</li><li>'workclass'</li><li>'fnlwgt'</li><li>'education'</li><li>'marital.status'</li><li>'occupation'</li><li>'relationship'</li><li>'race'</li><li>'sex'</li><li>'capital.gain'</li><li>'capital.loss'</li><li>'hours.per.week'</li><li>'native.country'</li><li>'income'</li></ol>\n"
      ],
      "text/latex": [
       "\\begin{enumerate*}\n",
       "\\item 'age'\n",
       "\\item 'workclass'\n",
       "\\item 'fnlwgt'\n",
       "\\item 'education'\n",
       "\\item 'marital.status'\n",
       "\\item 'occupation'\n",
       "\\item 'relationship'\n",
       "\\item 'race'\n",
       "\\item 'sex'\n",
       "\\item 'capital.gain'\n",
       "\\item 'capital.loss'\n",
       "\\item 'hours.per.week'\n",
       "\\item 'native.country'\n",
       "\\item 'income'\n",
       "\\end{enumerate*}\n"
      ],
      "text/markdown": [
       "1. 'age'\n",
       "2. 'workclass'\n",
       "3. 'fnlwgt'\n",
       "4. 'education'\n",
       "5. 'marital.status'\n",
       "6. 'occupation'\n",
       "7. 'relationship'\n",
       "8. 'race'\n",
       "9. 'sex'\n",
       "10. 'capital.gain'\n",
       "11. 'capital.loss'\n",
       "12. 'hours.per.week'\n",
       "13. 'native.country'\n",
       "14. 'income'\n",
       "\n",
       "\n"
      ],
      "text/plain": [
       " [1] \"age\"            \"workclass\"      \"fnlwgt\"         \"education\"     \n",
       " [5] \"marital.status\" \"occupation\"     \"relationship\"   \"race\"          \n",
       " [9] \"sex\"            \"capital.gain\"   \"capital.loss\"   \"hours.per.week\"\n",
       "[13] \"native.country\" \"income\"        "
      ]
     },
     "metadata": {},
     "output_type": "display_data"
    }
   ],
   "source": [
    "colnames(adult_data)"
   ]
  },
  {
   "cell_type": "markdown",
   "id": "3d3fef8f",
   "metadata": {},
   "source": [
    "# BASIC STATISTICS"
   ]
  },
  {
   "cell_type": "code",
   "execution_count": 14,
   "id": "eeb37005",
   "metadata": {},
   "outputs": [
    {
     "data": {
      "text/html": [
       "32560"
      ],
      "text/latex": [
       "32560"
      ],
      "text/markdown": [
       "32560"
      ],
      "text/plain": [
       "[1] 32560"
      ]
     },
     "metadata": {},
     "output_type": "display_data"
    }
   ],
   "source": [
    "nrow(adult_data)"
   ]
  },
  {
   "cell_type": "code",
   "execution_count": 15,
   "id": "c988591b",
   "metadata": {},
   "outputs": [
    {
     "data": {
      "text/html": [
       "15"
      ],
      "text/latex": [
       "15"
      ],
      "text/markdown": [
       "15"
      ],
      "text/plain": [
       "[1] 15"
      ]
     },
     "metadata": {},
     "output_type": "display_data"
    }
   ],
   "source": [
    "length(adult_data)"
   ]
  },
  {
   "cell_type": "code",
   "execution_count": 83,
   "id": "47107cba",
   "metadata": {},
   "outputs": [
    {
     "data": {
      "text/html": [
       "<style>\n",
       ".list-inline {list-style: none; margin:0; padding: 0}\n",
       ".list-inline>li {display: inline-block}\n",
       ".list-inline>li:not(:last-child)::after {content: \"\\00b7\"; padding: 0 .5ex}\n",
       "</style>\n",
       "<ol class=list-inline><li>'age'</li><li>'fnlwgt'</li><li>'capital.gain'</li><li>'capital.loss'</li><li>'hours.per.week'</li></ol>\n"
      ],
      "text/latex": [
       "\\begin{enumerate*}\n",
       "\\item 'age'\n",
       "\\item 'fnlwgt'\n",
       "\\item 'capital.gain'\n",
       "\\item 'capital.loss'\n",
       "\\item 'hours.per.week'\n",
       "\\end{enumerate*}\n"
      ],
      "text/markdown": [
       "1. 'age'\n",
       "2. 'fnlwgt'\n",
       "3. 'capital.gain'\n",
       "4. 'capital.loss'\n",
       "5. 'hours.per.week'\n",
       "\n",
       "\n"
      ],
      "text/plain": [
       "[1] \"age\"            \"fnlwgt\"         \"capital.gain\"   \"capital.loss\"  \n",
       "[5] \"hours.per.week\""
      ]
     },
     "metadata": {},
     "output_type": "display_data"
    }
   ],
   "source": [
    "numerical_columns <- sapply(adult_data, is.numeric)\n",
    "names(adult_data[numerical_columns])"
   ]
  },
  {
   "cell_type": "code",
   "execution_count": 84,
   "id": "f7009629",
   "metadata": {},
   "outputs": [
    {
     "data": {
      "text/html": [
       "<style>\n",
       ".list-inline {list-style: none; margin:0; padding: 0}\n",
       ".list-inline>li {display: inline-block}\n",
       ".list-inline>li:not(:last-child)::after {content: \"\\00b7\"; padding: 0 .5ex}\n",
       "</style>\n",
       "<ol class=list-inline><li>'workclass'</li><li>'education'</li><li>'marital.status'</li><li>'occupation'</li><li>'relationship'</li><li>'race'</li><li>'sex'</li><li>'native.country'</li><li>'income'</li></ol>\n"
      ],
      "text/latex": [
       "\\begin{enumerate*}\n",
       "\\item 'workclass'\n",
       "\\item 'education'\n",
       "\\item 'marital.status'\n",
       "\\item 'occupation'\n",
       "\\item 'relationship'\n",
       "\\item 'race'\n",
       "\\item 'sex'\n",
       "\\item 'native.country'\n",
       "\\item 'income'\n",
       "\\end{enumerate*}\n"
      ],
      "text/markdown": [
       "1. 'workclass'\n",
       "2. 'education'\n",
       "3. 'marital.status'\n",
       "4. 'occupation'\n",
       "5. 'relationship'\n",
       "6. 'race'\n",
       "7. 'sex'\n",
       "8. 'native.country'\n",
       "9. 'income'\n",
       "\n",
       "\n"
      ],
      "text/plain": [
       "[1] \"workclass\"      \"education\"      \"marital.status\" \"occupation\"    \n",
       "[5] \"relationship\"   \"race\"           \"sex\"            \"native.country\"\n",
       "[9] \"income\"        "
      ]
     },
     "metadata": {},
     "output_type": "display_data"
    }
   ],
   "source": [
    "factor_columns <- sapply(adult_data, is.factor)\n",
    "names(adult_data[factor_columns])"
   ]
  },
  {
   "cell_type": "markdown",
   "id": "222d7d9f",
   "metadata": {},
   "source": [
    "#### SUMMARIES"
   ]
  },
  {
   "cell_type": "code",
   "execution_count": null,
   "id": "2d440cce",
   "metadata": {},
   "outputs": [],
   "source": []
  },
  {
   "cell_type": "code",
   "execution_count": null,
   "id": "7d119e1b",
   "metadata": {},
   "outputs": [],
   "source": []
  },
  {
   "cell_type": "code",
   "execution_count": 78,
   "id": "e568a7a1",
   "metadata": {},
   "outputs": [
    {
     "data": {
      "text/plain": [
       "   Min. 1st Qu.  Median    Mean 3rd Qu.    Max. \n",
       "  17.00   28.00   37.00   38.58   48.00   90.00 "
      ]
     },
     "metadata": {},
     "output_type": "display_data"
    }
   ],
   "source": [
    "summary(adult_data$age)"
   ]
  },
  {
   "cell_type": "code",
   "execution_count": null,
   "id": "5552bb40",
   "metadata": {},
   "outputs": [],
   "source": []
  },
  {
   "cell_type": "code",
   "execution_count": null,
   "id": "fabe8d2b",
   "metadata": {},
   "outputs": [],
   "source": []
  },
  {
   "cell_type": "code",
   "execution_count": 71,
   "id": "b493d735",
   "metadata": {},
   "outputs": [
    {
     "data": {
      "text/plain": [
       "   Min. 1st Qu.  Median    Mean 3rd Qu.    Max. \n",
       "   1.00   40.00   40.00   40.44   45.00   99.00 "
      ]
     },
     "metadata": {},
     "output_type": "display_data"
    }
   ],
   "source": [
    "#somethin wrong with 99, check for which professions\n",
    "summary(adult_data$hours.per.week)"
   ]
  },
  {
   "cell_type": "code",
   "execution_count": null,
   "id": "5807342f",
   "metadata": {},
   "outputs": [],
   "source": []
  },
  {
   "cell_type": "markdown",
   "id": "e1888d46",
   "metadata": {},
   "source": [
    "# CHECK MISSING VALUES"
   ]
  },
  {
   "cell_type": "code",
   "execution_count": 24,
   "id": "7ab784f8",
   "metadata": {},
   "outputs": [
    {
     "data": {
      "text/html": [
       "30161"
      ],
      "text/latex": [
       "30161"
      ],
      "text/markdown": [
       "30161"
      ],
      "text/plain": [
       "[1] 30161"
      ]
     },
     "metadata": {},
     "output_type": "display_data"
    }
   ],
   "source": [
    "sum(complete.cases(adult_data))"
   ]
  },
  {
   "cell_type": "code",
   "execution_count": 16,
   "id": "8effd4a1",
   "metadata": {},
   "outputs": [],
   "source": [
    "columns_names_with_question <- names(adult_data)[sapply(adult_data, function(col) any(trimws(col) == \"?\"))]"
   ]
  },
  {
   "cell_type": "code",
   "execution_count": 17,
   "id": "7e9ffbf5",
   "metadata": {},
   "outputs": [
    {
     "data": {
      "text/html": [
       "<style>\n",
       ".list-inline {list-style: none; margin:0; padding: 0}\n",
       ".list-inline>li {display: inline-block}\n",
       ".list-inline>li:not(:last-child)::after {content: \"\\00b7\"; padding: 0 .5ex}\n",
       "</style>\n",
       "<ol class=list-inline><li>'workclass'</li><li>'occupation'</li><li>'native.country'</li></ol>\n"
      ],
      "text/latex": [
       "\\begin{enumerate*}\n",
       "\\item 'workclass'\n",
       "\\item 'occupation'\n",
       "\\item 'native.country'\n",
       "\\end{enumerate*}\n"
      ],
      "text/markdown": [
       "1. 'workclass'\n",
       "2. 'occupation'\n",
       "3. 'native.country'\n",
       "\n",
       "\n"
      ],
      "text/plain": [
       "[1] \"workclass\"      \"occupation\"     \"native.country\""
      ]
     },
     "metadata": {},
     "output_type": "display_data"
    }
   ],
   "source": [
    "columns_names_with_question"
   ]
  },
  {
   "cell_type": "code",
   "execution_count": 18,
   "id": "7157bbeb",
   "metadata": {},
   "outputs": [],
   "source": [
    "for (col_name in columns_names_with_question) {\n",
    "  adult_data[[col_name]][trimws(adult_data[[col_name]]) == \"?\"] <- NA\n",
    "}"
   ]
  },
  {
   "cell_type": "code",
   "execution_count": 19,
   "id": "add1ef99",
   "metadata": {},
   "outputs": [],
   "source": [
    "columns_with_na <- colSums(is.na(adult_data)) > 0"
   ]
  },
  {
   "cell_type": "code",
   "execution_count": 20,
   "id": "c9f0225d",
   "metadata": {},
   "outputs": [
    {
     "data": {
      "text/html": [
       "<style>\n",
       ".dl-inline {width: auto; margin:0; padding: 0}\n",
       ".dl-inline>dt, .dl-inline>dd {float: none; width: auto; display: inline-block}\n",
       ".dl-inline>dt::after {content: \":\\0020\"; padding-right: .5ex}\n",
       ".dl-inline>dt:not(:first-of-type) {padding-left: .5ex}\n",
       "</style><dl class=dl-inline><dt>age</dt><dd>FALSE</dd><dt>workclass</dt><dd>TRUE</dd><dt>fnlwgt</dt><dd>FALSE</dd><dt>education</dt><dd>FALSE</dd><dt>education.num</dt><dd>FALSE</dd><dt>marital.status</dt><dd>FALSE</dd><dt>occupation</dt><dd>TRUE</dd><dt>relationship</dt><dd>FALSE</dd><dt>race</dt><dd>FALSE</dd><dt>sex</dt><dd>FALSE</dd><dt>capital.gain</dt><dd>FALSE</dd><dt>capital.loss</dt><dd>FALSE</dd><dt>hours.per.week</dt><dd>FALSE</dd><dt>native.country</dt><dd>TRUE</dd><dt>income</dt><dd>FALSE</dd></dl>\n"
      ],
      "text/latex": [
       "\\begin{description*}\n",
       "\\item[age] FALSE\n",
       "\\item[workclass] TRUE\n",
       "\\item[fnlwgt] FALSE\n",
       "\\item[education] FALSE\n",
       "\\item[education.num] FALSE\n",
       "\\item[marital.status] FALSE\n",
       "\\item[occupation] TRUE\n",
       "\\item[relationship] FALSE\n",
       "\\item[race] FALSE\n",
       "\\item[sex] FALSE\n",
       "\\item[capital.gain] FALSE\n",
       "\\item[capital.loss] FALSE\n",
       "\\item[hours.per.week] FALSE\n",
       "\\item[native.country] TRUE\n",
       "\\item[income] FALSE\n",
       "\\end{description*}\n"
      ],
      "text/markdown": [
       "age\n",
       ":   FALSEworkclass\n",
       ":   TRUEfnlwgt\n",
       ":   FALSEeducation\n",
       ":   FALSEeducation.num\n",
       ":   FALSEmarital.status\n",
       ":   FALSEoccupation\n",
       ":   TRUErelationship\n",
       ":   FALSErace\n",
       ":   FALSEsex\n",
       ":   FALSEcapital.gain\n",
       ":   FALSEcapital.loss\n",
       ":   FALSEhours.per.week\n",
       ":   FALSEnative.country\n",
       ":   TRUEincome\n",
       ":   FALSE\n",
       "\n"
      ],
      "text/plain": [
       "           age      workclass         fnlwgt      education  education.num \n",
       "         FALSE           TRUE          FALSE          FALSE          FALSE \n",
       "marital.status     occupation   relationship           race            sex \n",
       "         FALSE           TRUE          FALSE          FALSE          FALSE \n",
       "  capital.gain   capital.loss hours.per.week native.country         income \n",
       "         FALSE          FALSE          FALSE           TRUE          FALSE "
      ]
     },
     "metadata": {},
     "output_type": "display_data"
    }
   ],
   "source": [
    "columns_with_na"
   ]
  },
  {
   "cell_type": "code",
   "execution_count": 21,
   "id": "767eb5da",
   "metadata": {},
   "outputs": [
    {
     "data": {
      "text/html": [
       "4262"
      ],
      "text/latex": [
       "4262"
      ],
      "text/markdown": [
       "4262"
      ],
      "text/plain": [
       "[1] 4262"
      ]
     },
     "metadata": {},
     "output_type": "display_data"
    }
   ],
   "source": [
    "sum(is.na(adult_data))"
   ]
  },
  {
   "cell_type": "code",
   "execution_count": 26,
   "id": "b6ca6af5",
   "metadata": {},
   "outputs": [
    {
     "data": {
      "text/html": [
       "1836"
      ],
      "text/latex": [
       "1836"
      ],
      "text/markdown": [
       "1836"
      ],
      "text/plain": [
       "[1] 1836"
      ]
     },
     "metadata": {},
     "output_type": "display_data"
    }
   ],
   "source": [
    "sum(is.na(adult_data$workclass))"
   ]
  },
  {
   "cell_type": "code",
   "execution_count": 27,
   "id": "f281c8d9",
   "metadata": {},
   "outputs": [
    {
     "data": {
      "text/html": [
       "1843"
      ],
      "text/latex": [
       "1843"
      ],
      "text/markdown": [
       "1843"
      ],
      "text/plain": [
       "[1] 1843"
      ]
     },
     "metadata": {},
     "output_type": "display_data"
    }
   ],
   "source": [
    "sum(is.na(adult_data$occupation))"
   ]
  },
  {
   "cell_type": "code",
   "execution_count": 29,
   "id": "029e2e2e",
   "metadata": {},
   "outputs": [
    {
     "data": {
      "text/html": [
       "583"
      ],
      "text/latex": [
       "583"
      ],
      "text/markdown": [
       "583"
      ],
      "text/plain": [
       "[1] 583"
      ]
     },
     "metadata": {},
     "output_type": "display_data"
    }
   ],
   "source": [
    "sum(is.na(adult_data$native.country))"
   ]
  },
  {
   "cell_type": "code",
   "execution_count": 63,
   "id": "05dc53b6",
   "metadata": {},
   "outputs": [],
   "source": [
    "missing_occupation <- round(sum(is.na(adult_data$occupation))/length(adult_data$occupation) * 100, 2)\n",
    "missing_workclass <- round(sum(is.na(adult_data$workclass))/length(adult_data$workclass) * 100, 2)\n",
    "missing_country <- round(sum(is.na(adult_data$native.country))/length(adult_data$native.country) * 100, 2)\n",
    "\n",
    "occupation_data <- data.frame(Label = c(\"Missing\", \"Non-Missing\"),\n",
    "                           Value = c(missing_occupation, 100 - missing_occupation))\n",
    "workclass_data <- data.frame(Label = c(\"Missing\", \"Non-Missing\"),\n",
    "                           Value = c(missing_workclass, 100 - missing_workclass)) \n",
    "country_data <- data.frame(Label = c(\"Missing\", \"Non-Missing\"),\n",
    "                           Value = c(missing_country, 100 - missing_country))"
   ]
  },
  {
   "cell_type": "code",
   "execution_count": 66,
   "id": "744e5b7b",
   "metadata": {},
   "outputs": [],
   "source": [
    "make_pie_chart <- function(df, title){\n",
    "    pie_chart <- ggplot(df, aes(x = \"\", y = Value, fill = Label)) +\n",
    "                      geom_bar(stat = \"identity\", width = 1) +\n",
    "                      coord_polar(\"y\", start = 0) +\n",
    "                      labs(title = title, fill = \"Label\", x = NULL, y = NULL) +\n",
    "                      scale_fill_manual(values = c(\"Missing\" = \"skyblue\", \"Non-Missing\" = \"salmon\")) +\n",
    "                      theme_void()\n",
    "    pie_chart +\n",
    "    geom_text(aes(label = paste0(Value, \"%\")), position = position_stack(vjust = 0.5), size = 4) +\n",
    "    theme(legend.position = c(0.85, 0.85)) # zmiana pozycji legendy\n",
    "    \n",
    "}"
   ]
  },
  {
   "cell_type": "code",
   "execution_count": 67,
   "id": "5b280e10",
   "metadata": {},
   "outputs": [
    {
     "data": {
      "image/png": "[encoded data removed]",
      "text/plain": [
       "plot without title"
      ]
     },
     "metadata": {
      "image/png": {
       "height": 420,
       "width": 420
      }
     },
     "output_type": "display_data"
    }
   ],
   "source": [
    "make_pie_chart(occupation_data, 'Lala')"
   ]
  },
  {
   "cell_type": "code",
   "execution_count": 68,
   "id": "6cd0e024",
   "metadata": {},
   "outputs": [
    {
     "data": {
      "image/png": "[encoded data removed]",
      "text/plain": [
       "plot without title"
      ]
     },
     "metadata": {
      "image/png": {
       "height": 420,
       "width": 420
      }
     },
     "output_type": "display_data"
    }
   ],
   "source": [
    "make_pie_chart(workclass_data, 'Lala')"
   ]
  },
  {
   "cell_type": "code",
   "execution_count": 69,
   "id": "b7ad56fc",
   "metadata": {},
   "outputs": [
    {
     "data": {
      "image/png": "[encoded data removed]",
      "text/plain": [
       "plot without title"
      ]
     },
     "metadata": {
      "image/png": {
       "height": 420,
       "width": 420
      }
     },
     "output_type": "display_data"
    }
   ],
   "source": [
    "make_pie_chart(country_data, 'Lala')"
   ]
  },
  {
   "cell_type": "markdown",
   "id": "9542d41b",
   "metadata": {},
   "source": [
    "# DATA PREPARATION"
   ]
  },
  {
   "cell_type": "code",
   "execution_count": 22,
   "id": "3824d6d1",
   "metadata": {},
   "outputs": [],
   "source": [
    "#education.num = education\n",
    "adult_data <- subset(adult_data, select = -education.num)"
   ]
  },
  {
   "cell_type": "code",
   "execution_count": 23,
   "id": "410b00d5",
   "metadata": {},
   "outputs": [
    {
     "data": {
      "text/html": [
       "<table class=\"dataframe\">\n",
       "<caption>A data.frame: 6 × 14</caption>\n",
       "<thead>\n",
       "\t<tr><th></th><th scope=col>age</th><th scope=col>workclass</th><th scope=col>fnlwgt</th><th scope=col>education</th><th scope=col>marital.status</th><th scope=col>occupation</th><th scope=col>relationship</th><th scope=col>race</th><th scope=col>sex</th><th scope=col>capital.gain</th><th scope=col>capital.loss</th><th scope=col>hours.per.week</th><th scope=col>native.country</th><th scope=col>income</th></tr>\n",
       "\t<tr><th></th><th scope=col>&lt;int&gt;</th><th scope=col>&lt;fct&gt;</th><th scope=col>&lt;int&gt;</th><th scope=col>&lt;fct&gt;</th><th scope=col>&lt;fct&gt;</th><th scope=col>&lt;fct&gt;</th><th scope=col>&lt;fct&gt;</th><th scope=col>&lt;fct&gt;</th><th scope=col>&lt;fct&gt;</th><th scope=col>&lt;int&gt;</th><th scope=col>&lt;int&gt;</th><th scope=col>&lt;int&gt;</th><th scope=col>&lt;fct&gt;</th><th scope=col>&lt;fct&gt;</th></tr>\n",
       "</thead>\n",
       "<tbody>\n",
       "\t<tr><th scope=row>1</th><td>50</td><td> Self-emp-not-inc</td><td> 83311</td><td> Bachelors</td><td><span style=white-space:pre-wrap> Married-civ-spouse   </span></td><td><span style=white-space:pre-wrap> Exec-managerial  </span></td><td><span style=white-space:pre-wrap> Husband      </span></td><td> White</td><td><span style=white-space:pre-wrap> Male  </span></td><td>0</td><td>0</td><td>13</td><td> United-States</td><td> &lt;=50K</td></tr>\n",
       "\t<tr><th scope=row>2</th><td>38</td><td><span style=white-space:pre-wrap> Private         </span></td><td>215646</td><td><span style=white-space:pre-wrap> HS-grad  </span></td><td><span style=white-space:pre-wrap> Divorced             </span></td><td> Handlers-cleaners</td><td> Not-in-family</td><td> White</td><td><span style=white-space:pre-wrap> Male  </span></td><td>0</td><td>0</td><td>40</td><td> United-States</td><td> &lt;=50K</td></tr>\n",
       "\t<tr><th scope=row>3</th><td>53</td><td><span style=white-space:pre-wrap> Private         </span></td><td>234721</td><td><span style=white-space:pre-wrap> 11th     </span></td><td><span style=white-space:pre-wrap> Married-civ-spouse   </span></td><td> Handlers-cleaners</td><td><span style=white-space:pre-wrap> Husband      </span></td><td> Black</td><td><span style=white-space:pre-wrap> Male  </span></td><td>0</td><td>0</td><td>40</td><td> United-States</td><td> &lt;=50K</td></tr>\n",
       "\t<tr><th scope=row>4</th><td>28</td><td><span style=white-space:pre-wrap> Private         </span></td><td>338409</td><td> Bachelors</td><td><span style=white-space:pre-wrap> Married-civ-spouse   </span></td><td><span style=white-space:pre-wrap> Prof-specialty   </span></td><td><span style=white-space:pre-wrap> Wife         </span></td><td> Black</td><td> Female</td><td>0</td><td>0</td><td>40</td><td><span style=white-space:pre-wrap> Cuba         </span></td><td> &lt;=50K</td></tr>\n",
       "\t<tr><th scope=row>5</th><td>37</td><td><span style=white-space:pre-wrap> Private         </span></td><td>284582</td><td><span style=white-space:pre-wrap> Masters  </span></td><td><span style=white-space:pre-wrap> Married-civ-spouse   </span></td><td><span style=white-space:pre-wrap> Exec-managerial  </span></td><td><span style=white-space:pre-wrap> Wife         </span></td><td> White</td><td> Female</td><td>0</td><td>0</td><td>40</td><td> United-States</td><td> &lt;=50K</td></tr>\n",
       "\t<tr><th scope=row>6</th><td>49</td><td><span style=white-space:pre-wrap> Private         </span></td><td>160187</td><td><span style=white-space:pre-wrap> 9th      </span></td><td> Married-spouse-absent</td><td><span style=white-space:pre-wrap> Other-service    </span></td><td> Not-in-family</td><td> Black</td><td> Female</td><td>0</td><td>0</td><td>16</td><td><span style=white-space:pre-wrap> Jamaica      </span></td><td> &lt;=50K</td></tr>\n",
       "</tbody>\n",
       "</table>\n"
      ],
      "text/latex": [
       "A data.frame: 6 × 14\n",
       "\\begin{tabular}{r|llllllllllllll}\n",
       "  & age & workclass & fnlwgt & education & marital.status & occupation & relationship & race & sex & capital.gain & capital.loss & hours.per.week & native.country & income\\\\\n",
       "  & <int> & <fct> & <int> & <fct> & <fct> & <fct> & <fct> & <fct> & <fct> & <int> & <int> & <int> & <fct> & <fct>\\\\\n",
       "\\hline\n",
       "\t1 & 50 &  Self-emp-not-inc &  83311 &  Bachelors &  Married-civ-spouse    &  Exec-managerial   &  Husband       &  White &  Male   & 0 & 0 & 13 &  United-States &  <=50K\\\\\n",
       "\t2 & 38 &  Private          & 215646 &  HS-grad   &  Divorced              &  Handlers-cleaners &  Not-in-family &  White &  Male   & 0 & 0 & 40 &  United-States &  <=50K\\\\\n",
       "\t3 & 53 &  Private          & 234721 &  11th      &  Married-civ-spouse    &  Handlers-cleaners &  Husband       &  Black &  Male   & 0 & 0 & 40 &  United-States &  <=50K\\\\\n",
       "\t4 & 28 &  Private          & 338409 &  Bachelors &  Married-civ-spouse    &  Prof-specialty    &  Wife          &  Black &  Female & 0 & 0 & 40 &  Cuba          &  <=50K\\\\\n",
       "\t5 & 37 &  Private          & 284582 &  Masters   &  Married-civ-spouse    &  Exec-managerial   &  Wife          &  White &  Female & 0 & 0 & 40 &  United-States &  <=50K\\\\\n",
       "\t6 & 49 &  Private          & 160187 &  9th       &  Married-spouse-absent &  Other-service     &  Not-in-family &  Black &  Female & 0 & 0 & 16 &  Jamaica       &  <=50K\\\\\n",
       "\\end{tabular}\n"
      ],
      "text/markdown": [
       "\n",
       "A data.frame: 6 × 14\n",
       "\n",
       "| <!--/--> | age &lt;int&gt; | workclass &lt;fct&gt; | fnlwgt &lt;int&gt; | education &lt;fct&gt; | marital.status &lt;fct&gt; | occupation &lt;fct&gt; | relationship &lt;fct&gt; | race &lt;fct&gt; | sex &lt;fct&gt; | capital.gain &lt;int&gt; | capital.loss &lt;int&gt; | hours.per.week &lt;int&gt; | native.country &lt;fct&gt; | income &lt;fct&gt; |\n",
       "|---|---|---|---|---|---|---|---|---|---|---|---|---|---|---|\n",
       "| 1 | 50 |  Self-emp-not-inc |  83311 |  Bachelors |  Married-civ-spouse    |  Exec-managerial   |  Husband       |  White |  Male   | 0 | 0 | 13 |  United-States |  &lt;=50K |\n",
       "| 2 | 38 |  Private          | 215646 |  HS-grad   |  Divorced              |  Handlers-cleaners |  Not-in-family |  White |  Male   | 0 | 0 | 40 |  United-States |  &lt;=50K |\n",
       "| 3 | 53 |  Private          | 234721 |  11th      |  Married-civ-spouse    |  Handlers-cleaners |  Husband       |  Black |  Male   | 0 | 0 | 40 |  United-States |  &lt;=50K |\n",
       "| 4 | 28 |  Private          | 338409 |  Bachelors |  Married-civ-spouse    |  Prof-specialty    |  Wife          |  Black |  Female | 0 | 0 | 40 |  Cuba          |  &lt;=50K |\n",
       "| 5 | 37 |  Private          | 284582 |  Masters   |  Married-civ-spouse    |  Exec-managerial   |  Wife          |  White |  Female | 0 | 0 | 40 |  United-States |  &lt;=50K |\n",
       "| 6 | 49 |  Private          | 160187 |  9th       |  Married-spouse-absent |  Other-service     |  Not-in-family |  Black |  Female | 0 | 0 | 16 |  Jamaica       |  &lt;=50K |\n",
       "\n"
      ],
      "text/plain": [
       "  age workclass         fnlwgt education  marital.status        \n",
       "1 50   Self-emp-not-inc  83311  Bachelors  Married-civ-spouse   \n",
       "2 38   Private          215646  HS-grad    Divorced             \n",
       "3 53   Private          234721  11th       Married-civ-spouse   \n",
       "4 28   Private          338409  Bachelors  Married-civ-spouse   \n",
       "5 37   Private          284582  Masters    Married-civ-spouse   \n",
       "6 49   Private          160187  9th        Married-spouse-absent\n",
       "  occupation         relationship   race   sex     capital.gain capital.loss\n",
       "1  Exec-managerial    Husband        White  Male   0            0           \n",
       "2  Handlers-cleaners  Not-in-family  White  Male   0            0           \n",
       "3  Handlers-cleaners  Husband        Black  Male   0            0           \n",
       "4  Prof-specialty     Wife           Black  Female 0            0           \n",
       "5  Exec-managerial    Wife           White  Female 0            0           \n",
       "6  Other-service      Not-in-family  Black  Female 0            0           \n",
       "  hours.per.week native.country income\n",
       "1 13              United-States  <=50K\n",
       "2 40              United-States  <=50K\n",
       "3 40              United-States  <=50K\n",
       "4 40              Cuba           <=50K\n",
       "5 40              United-States  <=50K\n",
       "6 16              Jamaica        <=50K"
      ]
     },
     "metadata": {},
     "output_type": "display_data"
    }
   ],
   "source": [
    "head(adult_data)"
   ]
  }
 ],
 "metadata": {
  "kernelspec": {
   "display_name": "R",
   "language": "R",
   "name": "ir"
  },
  "language_info": {
   "codemirror_mode": "r",
   "file_extension": ".r",
   "mimetype": "text/x-r-source",
   "name": "R",
   "pygments_lexer": "r",
   "version": "4.2.2"
  }
 },
 "nbformat": 4,
 "nbformat_minor": 5
}

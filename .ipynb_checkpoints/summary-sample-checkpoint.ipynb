{
 "cells": [
  {
   "cell_type": "markdown",
   "id": "8dae4783",
   "metadata": {},
   "source": [
    "# LIBRARIES AND DATA IMPORT"
   ]
  },
  {
   "cell_type": "code",
   "execution_count": 1,
   "id": "4016f076",
   "metadata": {},
   "outputs": [
    {
     "name": "stderr",
     "output_type": "stream",
     "text": [
      "\n",
      "Dołączanie pakietu: ‘dplyr’\n",
      "\n",
      "\n",
      "Następujące obiekty zostały zakryte z ‘package:stats’:\n",
      "\n",
      "    filter, lag\n",
      "\n",
      "\n",
      "Następujące obiekty zostały zakryte z ‘package:base’:\n",
      "\n",
      "    intersect, setdiff, setequal, union\n",
      "\n",
      "\n",
      "\n",
      "Dołączanie pakietu: ‘cowplot’\n",
      "\n",
      "\n",
      "Następujący obiekt został zakryty z ‘package:patchwork’:\n",
      "\n",
      "    align_plots\n",
      "\n",
      "\n"
     ]
    }
   ],
   "source": [
    "library(dplyr)\n",
    "library(DataExplorer)\n",
    "library(ggplot2)\n",
    "library(tidyr)\n",
    "library(patchwork)\n",
    "library(cowplot)"
   ]
  },
  {
   "cell_type": "code",
   "execution_count": 43,
   "id": "5a597ed3",
   "metadata": {},
   "outputs": [],
   "source": [
    "path_data = file.path(\"data\", \"sample_data.csv\")\n",
    "adult_data <- read.csv(path_data, stringsAsFactors = TRUE)"
   ]
  },
  {
   "cell_type": "markdown",
   "id": "3d3fef8f",
   "metadata": {},
   "source": [
    "# BASIC INFORMATION AND STATISTICS"
   ]
  },
  {
   "cell_type": "code",
   "execution_count": 44,
   "id": "6787fd83",
   "metadata": {},
   "outputs": [
    {
     "data": {
      "text/html": [
       "<style>\n",
       ".list-inline {list-style: none; margin:0; padding: 0}\n",
       ".list-inline>li {display: inline-block}\n",
       ".list-inline>li:not(:last-child)::after {content: \"\\00b7\"; padding: 0 .5ex}\n",
       "</style>\n",
       "<ol class=list-inline><li>'X'</li><li>'age'</li><li>'workclass'</li><li>'education'</li><li>'marital.status'</li><li>'occupation'</li><li>'relationship'</li><li>'race'</li><li>'sex'</li><li>'hours.per.week'</li><li>'income_binary'</li><li>'capital'</li><li>'continent'</li></ol>\n"
      ],
      "text/latex": [
       "\\begin{enumerate*}\n",
       "\\item 'X'\n",
       "\\item 'age'\n",
       "\\item 'workclass'\n",
       "\\item 'education'\n",
       "\\item 'marital.status'\n",
       "\\item 'occupation'\n",
       "\\item 'relationship'\n",
       "\\item 'race'\n",
       "\\item 'sex'\n",
       "\\item 'hours.per.week'\n",
       "\\item 'income\\_binary'\n",
       "\\item 'capital'\n",
       "\\item 'continent'\n",
       "\\end{enumerate*}\n"
      ],
      "text/markdown": [
       "1. 'X'\n",
       "2. 'age'\n",
       "3. 'workclass'\n",
       "4. 'education'\n",
       "5. 'marital.status'\n",
       "6. 'occupation'\n",
       "7. 'relationship'\n",
       "8. 'race'\n",
       "9. 'sex'\n",
       "10. 'hours.per.week'\n",
       "11. 'income_binary'\n",
       "12. 'capital'\n",
       "13. 'continent'\n",
       "\n",
       "\n"
      ],
      "text/plain": [
       " [1] \"X\"              \"age\"            \"workclass\"      \"education\"     \n",
       " [5] \"marital.status\" \"occupation\"     \"relationship\"   \"race\"          \n",
       " [9] \"sex\"            \"hours.per.week\" \"income_binary\"  \"capital\"       \n",
       "[13] \"continent\"     "
      ]
     },
     "metadata": {},
     "output_type": "display_data"
    }
   ],
   "source": [
    "colnames(adult_data)"
   ]
  },
  {
   "cell_type": "code",
   "execution_count": 45,
   "id": "0347b833",
   "metadata": {},
   "outputs": [
    {
     "data": {
      "text/html": [
       "<style>\n",
       ".dl-inline {width: auto; margin:0; padding: 0}\n",
       ".dl-inline>dt, .dl-inline>dd {float: none; width: auto; display: inline-block}\n",
       ".dl-inline>dt::after {content: \":\\0020\"; padding-right: .5ex}\n",
       ".dl-inline>dt:not(:first-of-type) {padding-left: .5ex}\n",
       "</style><dl class=dl-inline><dt>X</dt><dd>'integer'</dd><dt>age</dt><dd>'integer'</dd><dt>workclass</dt><dd>'factor'</dd><dt>education</dt><dd>'factor'</dd><dt>marital.status</dt><dd>'factor'</dd><dt>occupation</dt><dd>'factor'</dd><dt>relationship</dt><dd>'factor'</dd><dt>race</dt><dd>'factor'</dd><dt>sex</dt><dd>'factor'</dd><dt>hours.per.week</dt><dd>'integer'</dd><dt>income_binary</dt><dd>'integer'</dd><dt>capital</dt><dd>'integer'</dd><dt>continent</dt><dd>'factor'</dd></dl>\n"
      ],
      "text/latex": [
       "\\begin{description*}\n",
       "\\item[X] 'integer'\n",
       "\\item[age] 'integer'\n",
       "\\item[workclass] 'factor'\n",
       "\\item[education] 'factor'\n",
       "\\item[marital.status] 'factor'\n",
       "\\item[occupation] 'factor'\n",
       "\\item[relationship] 'factor'\n",
       "\\item[race] 'factor'\n",
       "\\item[sex] 'factor'\n",
       "\\item[hours.per.week] 'integer'\n",
       "\\item[income\\textbackslash{}\\_binary] 'integer'\n",
       "\\item[capital] 'integer'\n",
       "\\item[continent] 'factor'\n",
       "\\end{description*}\n"
      ],
      "text/markdown": [
       "X\n",
       ":   'integer'age\n",
       ":   'integer'workclass\n",
       ":   'factor'education\n",
       ":   'factor'marital.status\n",
       ":   'factor'occupation\n",
       ":   'factor'relationship\n",
       ":   'factor'race\n",
       ":   'factor'sex\n",
       ":   'factor'hours.per.week\n",
       ":   'integer'income_binary\n",
       ":   'integer'capital\n",
       ":   'integer'continent\n",
       ":   'factor'\n",
       "\n"
      ],
      "text/plain": [
       "             X            age      workclass      education marital.status \n",
       "     \"integer\"      \"integer\"       \"factor\"       \"factor\"       \"factor\" \n",
       "    occupation   relationship           race            sex hours.per.week \n",
       "      \"factor\"       \"factor\"       \"factor\"       \"factor\"      \"integer\" \n",
       " income_binary        capital      continent \n",
       "     \"integer\"      \"integer\"       \"factor\" "
      ]
     },
     "metadata": {},
     "output_type": "display_data"
    }
   ],
   "source": [
    "sapply(adult_data, class)"
   ]
  },
  {
   "cell_type": "code",
   "execution_count": 46,
   "id": "eeb37005",
   "metadata": {},
   "outputs": [
    {
     "data": {
      "text/html": [
       "5000"
      ],
      "text/latex": [
       "5000"
      ],
      "text/markdown": [
       "5000"
      ],
      "text/plain": [
       "[1] 5000"
      ]
     },
     "metadata": {},
     "output_type": "display_data"
    }
   ],
   "source": [
    "nrow(adult_data)"
   ]
  },
  {
   "cell_type": "code",
   "execution_count": 47,
   "id": "c988591b",
   "metadata": {},
   "outputs": [
    {
     "data": {
      "text/html": [
       "13"
      ],
      "text/latex": [
       "13"
      ],
      "text/markdown": [
       "13"
      ],
      "text/plain": [
       "[1] 13"
      ]
     },
     "metadata": {},
     "output_type": "display_data"
    }
   ],
   "source": [
    "length(adult_data)"
   ]
  },
  {
   "cell_type": "code",
   "execution_count": 48,
   "id": "47107cba",
   "metadata": {},
   "outputs": [
    {
     "data": {
      "text/html": [
       "<style>\n",
       ".list-inline {list-style: none; margin:0; padding: 0}\n",
       ".list-inline>li {display: inline-block}\n",
       ".list-inline>li:not(:last-child)::after {content: \"\\00b7\"; padding: 0 .5ex}\n",
       "</style>\n",
       "<ol class=list-inline><li>'X'</li><li>'age'</li><li>'hours.per.week'</li><li>'income_binary'</li><li>'capital'</li></ol>\n"
      ],
      "text/latex": [
       "\\begin{enumerate*}\n",
       "\\item 'X'\n",
       "\\item 'age'\n",
       "\\item 'hours.per.week'\n",
       "\\item 'income\\_binary'\n",
       "\\item 'capital'\n",
       "\\end{enumerate*}\n"
      ],
      "text/markdown": [
       "1. 'X'\n",
       "2. 'age'\n",
       "3. 'hours.per.week'\n",
       "4. 'income_binary'\n",
       "5. 'capital'\n",
       "\n",
       "\n"
      ],
      "text/plain": [
       "[1] \"X\"              \"age\"            \"hours.per.week\" \"income_binary\" \n",
       "[5] \"capital\"       "
      ]
     },
     "metadata": {},
     "output_type": "display_data"
    },
    {
     "data": {
      "text/html": [
       "5"
      ],
      "text/latex": [
       "5"
      ],
      "text/markdown": [
       "5"
      ],
      "text/plain": [
       "[1] 5"
      ]
     },
     "metadata": {},
     "output_type": "display_data"
    }
   ],
   "source": [
    "numerical_columns <- sapply(adult_data, is.numeric)\n",
    "names(adult_data[numerical_columns])\n",
    "sum(numerical_columns)"
   ]
  },
  {
   "cell_type": "code",
   "execution_count": 49,
   "id": "f7009629",
   "metadata": {},
   "outputs": [
    {
     "data": {
      "text/html": [
       "<style>\n",
       ".list-inline {list-style: none; margin:0; padding: 0}\n",
       ".list-inline>li {display: inline-block}\n",
       ".list-inline>li:not(:last-child)::after {content: \"\\00b7\"; padding: 0 .5ex}\n",
       "</style>\n",
       "<ol class=list-inline><li>'workclass'</li><li>'education'</li><li>'marital.status'</li><li>'occupation'</li><li>'relationship'</li><li>'race'</li><li>'sex'</li><li>'continent'</li></ol>\n"
      ],
      "text/latex": [
       "\\begin{enumerate*}\n",
       "\\item 'workclass'\n",
       "\\item 'education'\n",
       "\\item 'marital.status'\n",
       "\\item 'occupation'\n",
       "\\item 'relationship'\n",
       "\\item 'race'\n",
       "\\item 'sex'\n",
       "\\item 'continent'\n",
       "\\end{enumerate*}\n"
      ],
      "text/markdown": [
       "1. 'workclass'\n",
       "2. 'education'\n",
       "3. 'marital.status'\n",
       "4. 'occupation'\n",
       "5. 'relationship'\n",
       "6. 'race'\n",
       "7. 'sex'\n",
       "8. 'continent'\n",
       "\n",
       "\n"
      ],
      "text/plain": [
       "[1] \"workclass\"      \"education\"      \"marital.status\" \"occupation\"    \n",
       "[5] \"relationship\"   \"race\"           \"sex\"            \"continent\"     "
      ]
     },
     "metadata": {},
     "output_type": "display_data"
    },
    {
     "data": {
      "text/html": [
       "8"
      ],
      "text/latex": [
       "8"
      ],
      "text/markdown": [
       "8"
      ],
      "text/plain": [
       "[1] 8"
      ]
     },
     "metadata": {},
     "output_type": "display_data"
    }
   ],
   "source": [
    "factor_columns <- sapply(adult_data, is.factor)\n",
    "names(adult_data[factor_columns])\n",
    "sum(factor_columns)"
   ]
  },
  {
   "cell_type": "markdown",
   "id": "222d7d9f",
   "metadata": {},
   "source": [
    "### SUMMARIES"
   ]
  },
  {
   "cell_type": "code",
   "execution_count": 50,
   "id": "e568a7a1",
   "metadata": {},
   "outputs": [
    {
     "data": {
      "text/plain": [
       "   Min. 1st Qu.  Median    Mean 3rd Qu.    Max. \n",
       "  17.00   28.00   37.00   38.53   47.00   90.00 "
      ]
     },
     "metadata": {},
     "output_type": "display_data"
    }
   ],
   "source": [
    "summary(adult_data$age)"
   ]
  },
  {
   "cell_type": "code",
   "execution_count": 51,
   "id": "5552bb40",
   "metadata": {},
   "outputs": [
    {
     "data": {
      "text/plain": [
       "   Min. 1st Qu.  Median    Mean 3rd Qu.    Max. \n",
       "   2.00   40.00   40.00   40.71   45.00   99.00 "
      ]
     },
     "metadata": {},
     "output_type": "display_data"
    }
   ],
   "source": [
    "summary(adult_data$hours.per.week)"
   ]
  },
  {
   "cell_type": "code",
   "execution_count": 52,
   "id": "fabe8d2b",
   "metadata": {},
   "outputs": [
    {
     "data": {
      "text/plain": [
       "   Min. 1st Qu.  Median    Mean 3rd Qu.    Max. \n",
       "-3004.0     0.0     0.0   918.2     0.0 99999.0 "
      ]
     },
     "metadata": {},
     "output_type": "display_data"
    }
   ],
   "source": [
    "summary(adult_data$capital)"
   ]
  },
  {
   "cell_type": "code",
   "execution_count": 53,
   "id": "4429ef16-64c9-48d5-9ed7-2179ba7f8a43",
   "metadata": {},
   "outputs": [
    {
     "data": {
      "text/plain": [
       "   Min. 1st Qu.  Median    Mean 3rd Qu.    Max. \n",
       " 0.0000  0.0000  0.0000  0.2414  0.0000  1.0000 "
      ]
     },
     "metadata": {},
     "output_type": "display_data"
    }
   ],
   "source": [
    "summary(adult_data$income_binary)"
   ]
  },
  {
   "cell_type": "markdown",
   "id": "bcde9ad5",
   "metadata": {},
   "source": [
    "### UNIQUE VALUES"
   ]
  },
  {
   "cell_type": "code",
   "execution_count": 54,
   "id": "1c52114f",
   "metadata": {},
   "outputs": [
    {
     "name": "stdout",
     "output_type": "stream",
     "text": [
      "[1] \"X: 5000\"\n",
      "[1] \"age: 68\"\n",
      "[1] \"workclass: 7\"\n",
      "[1] \"education: 16\"\n",
      "[1] \"marital.status: 7\"\n",
      "[1] \"occupation: 14\"\n",
      "[1] \"relationship: 6\"\n",
      "[1] \"race: 5\"\n",
      "[1] \"sex: 2\"\n",
      "[1] \"hours.per.week: 76\"\n",
      "[1] \"income_binary: 2\"\n",
      "[1] \"capital: 126\"\n",
      "[1] \"continent: 6\"\n"
     ]
    }
   ],
   "source": [
    "num_unique_values <- sapply(adult_data, function(x) length(unique(x)))\n",
    "\n",
    "# Wydrukuj nazwę kolumny i liczbę unikalnych wartości dla każdej kolumny\n",
    "for (i in 1:length(num_unique_values)) {\n",
    "  print(paste0(names(num_unique_values)[i], \": \", num_unique_values[i]))\n",
    "}"
   ]
  },
  {
   "cell_type": "code",
   "execution_count": 55,
   "id": "3bb7699c",
   "metadata": {},
   "outputs": [
    {
     "data": {
      "text/html": [
       "<style>\n",
       ".list-inline {list-style: none; margin:0; padding: 0}\n",
       ".list-inline>li {display: inline-block}\n",
       ".list-inline>li:not(:last-child)::after {content: \"\\00b7\"; padding: 0 .5ex}\n",
       "</style>\n",
       "<ol class=list-inline><li>'Federal-gov'</li><li>'Local-gov'</li><li>'Private'</li><li>'Self-emp-inc'</li><li>'Self-emp-not-inc'</li><li>'State-gov'</li><li>'Without-pay'</li></ol>\n"
      ],
      "text/latex": [
       "\\begin{enumerate*}\n",
       "\\item 'Federal-gov'\n",
       "\\item 'Local-gov'\n",
       "\\item 'Private'\n",
       "\\item 'Self-emp-inc'\n",
       "\\item 'Self-emp-not-inc'\n",
       "\\item 'State-gov'\n",
       "\\item 'Without-pay'\n",
       "\\end{enumerate*}\n"
      ],
      "text/markdown": [
       "1. 'Federal-gov'\n",
       "2. 'Local-gov'\n",
       "3. 'Private'\n",
       "4. 'Self-emp-inc'\n",
       "5. 'Self-emp-not-inc'\n",
       "6. 'State-gov'\n",
       "7. 'Without-pay'\n",
       "\n",
       "\n"
      ],
      "text/plain": [
       "[1] \"Federal-gov\"      \"Local-gov\"        \"Private\"          \"Self-emp-inc\"    \n",
       "[5] \"Self-emp-not-inc\" \"State-gov\"        \"Without-pay\"     "
      ]
     },
     "metadata": {},
     "output_type": "display_data"
    }
   ],
   "source": [
    "levels(adult_data$workclass)"
   ]
  },
  {
   "cell_type": "code",
   "execution_count": 56,
   "id": "b64fa215",
   "metadata": {},
   "outputs": [
    {
     "data": {
      "text/html": [
       "<style>\n",
       ".list-inline {list-style: none; margin:0; padding: 0}\n",
       ".list-inline>li {display: inline-block}\n",
       ".list-inline>li:not(:last-child)::after {content: \"\\00b7\"; padding: 0 .5ex}\n",
       "</style>\n",
       "<ol class=list-inline><li>'10th'</li><li>'11th'</li><li>'12th'</li><li>'1st-4th'</li><li>'5th-6th'</li><li>'7th-8th'</li><li>'9th'</li><li>'Assoc-acdm'</li><li>'Assoc-voc'</li><li>'Bachelors'</li><li>'Doctorate'</li><li>'HS-grad'</li><li>'Masters'</li><li>'Preschool'</li><li>'Prof-school'</li><li>'Some-college'</li></ol>\n"
      ],
      "text/latex": [
       "\\begin{enumerate*}\n",
       "\\item '10th'\n",
       "\\item '11th'\n",
       "\\item '12th'\n",
       "\\item '1st-4th'\n",
       "\\item '5th-6th'\n",
       "\\item '7th-8th'\n",
       "\\item '9th'\n",
       "\\item 'Assoc-acdm'\n",
       "\\item 'Assoc-voc'\n",
       "\\item 'Bachelors'\n",
       "\\item 'Doctorate'\n",
       "\\item 'HS-grad'\n",
       "\\item 'Masters'\n",
       "\\item 'Preschool'\n",
       "\\item 'Prof-school'\n",
       "\\item 'Some-college'\n",
       "\\end{enumerate*}\n"
      ],
      "text/markdown": [
       "1. '10th'\n",
       "2. '11th'\n",
       "3. '12th'\n",
       "4. '1st-4th'\n",
       "5. '5th-6th'\n",
       "6. '7th-8th'\n",
       "7. '9th'\n",
       "8. 'Assoc-acdm'\n",
       "9. 'Assoc-voc'\n",
       "10. 'Bachelors'\n",
       "11. 'Doctorate'\n",
       "12. 'HS-grad'\n",
       "13. 'Masters'\n",
       "14. 'Preschool'\n",
       "15. 'Prof-school'\n",
       "16. 'Some-college'\n",
       "\n",
       "\n"
      ],
      "text/plain": [
       " [1] \"10th\"         \"11th\"         \"12th\"         \"1st-4th\"      \"5th-6th\"     \n",
       " [6] \"7th-8th\"      \"9th\"          \"Assoc-acdm\"   \"Assoc-voc\"    \"Bachelors\"   \n",
       "[11] \"Doctorate\"    \"HS-grad\"      \"Masters\"      \"Preschool\"    \"Prof-school\" \n",
       "[16] \"Some-college\""
      ]
     },
     "metadata": {},
     "output_type": "display_data"
    }
   ],
   "source": [
    "levels(adult_data$education)"
   ]
  },
  {
   "cell_type": "code",
   "execution_count": 57,
   "id": "26a5692f",
   "metadata": {},
   "outputs": [
    {
     "data": {
      "text/html": [
       "<style>\n",
       ".list-inline {list-style: none; margin:0; padding: 0}\n",
       ".list-inline>li {display: inline-block}\n",
       ".list-inline>li:not(:last-child)::after {content: \"\\00b7\"; padding: 0 .5ex}\n",
       "</style>\n",
       "<ol class=list-inline><li>'Divorced'</li><li>'Married-AF-spouse'</li><li>'Married-civ-spouse'</li><li>'Married-spouse-absent'</li><li>'Never-married'</li><li>'Separated'</li><li>'Widowed'</li></ol>\n"
      ],
      "text/latex": [
       "\\begin{enumerate*}\n",
       "\\item 'Divorced'\n",
       "\\item 'Married-AF-spouse'\n",
       "\\item 'Married-civ-spouse'\n",
       "\\item 'Married-spouse-absent'\n",
       "\\item 'Never-married'\n",
       "\\item 'Separated'\n",
       "\\item 'Widowed'\n",
       "\\end{enumerate*}\n"
      ],
      "text/markdown": [
       "1. 'Divorced'\n",
       "2. 'Married-AF-spouse'\n",
       "3. 'Married-civ-spouse'\n",
       "4. 'Married-spouse-absent'\n",
       "5. 'Never-married'\n",
       "6. 'Separated'\n",
       "7. 'Widowed'\n",
       "\n",
       "\n"
      ],
      "text/plain": [
       "[1] \"Divorced\"              \"Married-AF-spouse\"     \"Married-civ-spouse\"   \n",
       "[4] \"Married-spouse-absent\" \"Never-married\"         \"Separated\"            \n",
       "[7] \"Widowed\"              "
      ]
     },
     "metadata": {},
     "output_type": "display_data"
    }
   ],
   "source": [
    "levels(adult_data$marital.status)"
   ]
  },
  {
   "cell_type": "code",
   "execution_count": 58,
   "id": "fd475301",
   "metadata": {},
   "outputs": [
    {
     "data": {
      "text/html": [
       "<style>\n",
       ".list-inline {list-style: none; margin:0; padding: 0}\n",
       ".list-inline>li {display: inline-block}\n",
       ".list-inline>li:not(:last-child)::after {content: \"\\00b7\"; padding: 0 .5ex}\n",
       "</style>\n",
       "<ol class=list-inline><li>'Adm-clerical'</li><li>'Armed-Forces'</li><li>'Craft-repair'</li><li>'Exec-managerial'</li><li>'Farming-fishing'</li><li>'Handlers-cleaners'</li><li>'Machine-op-inspct'</li><li>'Other-service'</li><li>'Priv-house-serv'</li><li>'Prof-specialty'</li><li>'Protective-serv'</li><li>'Sales'</li><li>'Tech-support'</li><li>'Transport-moving'</li></ol>\n"
      ],
      "text/latex": [
       "\\begin{enumerate*}\n",
       "\\item 'Adm-clerical'\n",
       "\\item 'Armed-Forces'\n",
       "\\item 'Craft-repair'\n",
       "\\item 'Exec-managerial'\n",
       "\\item 'Farming-fishing'\n",
       "\\item 'Handlers-cleaners'\n",
       "\\item 'Machine-op-inspct'\n",
       "\\item 'Other-service'\n",
       "\\item 'Priv-house-serv'\n",
       "\\item 'Prof-specialty'\n",
       "\\item 'Protective-serv'\n",
       "\\item 'Sales'\n",
       "\\item 'Tech-support'\n",
       "\\item 'Transport-moving'\n",
       "\\end{enumerate*}\n"
      ],
      "text/markdown": [
       "1. 'Adm-clerical'\n",
       "2. 'Armed-Forces'\n",
       "3. 'Craft-repair'\n",
       "4. 'Exec-managerial'\n",
       "5. 'Farming-fishing'\n",
       "6. 'Handlers-cleaners'\n",
       "7. 'Machine-op-inspct'\n",
       "8. 'Other-service'\n",
       "9. 'Priv-house-serv'\n",
       "10. 'Prof-specialty'\n",
       "11. 'Protective-serv'\n",
       "12. 'Sales'\n",
       "13. 'Tech-support'\n",
       "14. 'Transport-moving'\n",
       "\n",
       "\n"
      ],
      "text/plain": [
       " [1] \"Adm-clerical\"      \"Armed-Forces\"      \"Craft-repair\"     \n",
       " [4] \"Exec-managerial\"   \"Farming-fishing\"   \"Handlers-cleaners\"\n",
       " [7] \"Machine-op-inspct\" \"Other-service\"     \"Priv-house-serv\"  \n",
       "[10] \"Prof-specialty\"    \"Protective-serv\"   \"Sales\"            \n",
       "[13] \"Tech-support\"      \"Transport-moving\" "
      ]
     },
     "metadata": {},
     "output_type": "display_data"
    }
   ],
   "source": [
    "levels(adult_data$occupation)"
   ]
  },
  {
   "cell_type": "code",
   "execution_count": 59,
   "id": "e78b2b12",
   "metadata": {},
   "outputs": [
    {
     "data": {
      "text/html": [
       "<style>\n",
       ".list-inline {list-style: none; margin:0; padding: 0}\n",
       ".list-inline>li {display: inline-block}\n",
       ".list-inline>li:not(:last-child)::after {content: \"\\00b7\"; padding: 0 .5ex}\n",
       "</style>\n",
       "<ol class=list-inline><li>'Husband'</li><li>'Not-in-family'</li><li>'Other-relative'</li><li>'Own-child'</li><li>'Unmarried'</li><li>'Wife'</li></ol>\n"
      ],
      "text/latex": [
       "\\begin{enumerate*}\n",
       "\\item 'Husband'\n",
       "\\item 'Not-in-family'\n",
       "\\item 'Other-relative'\n",
       "\\item 'Own-child'\n",
       "\\item 'Unmarried'\n",
       "\\item 'Wife'\n",
       "\\end{enumerate*}\n"
      ],
      "text/markdown": [
       "1. 'Husband'\n",
       "2. 'Not-in-family'\n",
       "3. 'Other-relative'\n",
       "4. 'Own-child'\n",
       "5. 'Unmarried'\n",
       "6. 'Wife'\n",
       "\n",
       "\n"
      ],
      "text/plain": [
       "[1] \"Husband\"        \"Not-in-family\"  \"Other-relative\" \"Own-child\"     \n",
       "[5] \"Unmarried\"      \"Wife\"          "
      ]
     },
     "metadata": {},
     "output_type": "display_data"
    }
   ],
   "source": [
    "levels(adult_data$relationship)"
   ]
  },
  {
   "cell_type": "code",
   "execution_count": 60,
   "id": "3d876cb8",
   "metadata": {},
   "outputs": [
    {
     "data": {
      "text/html": [
       "<style>\n",
       ".list-inline {list-style: none; margin:0; padding: 0}\n",
       ".list-inline>li {display: inline-block}\n",
       ".list-inline>li:not(:last-child)::after {content: \"\\00b7\"; padding: 0 .5ex}\n",
       "</style>\n",
       "<ol class=list-inline><li>'Amer-Indian-Eskimo'</li><li>'Asian-Pac-Islander'</li><li>'Black'</li><li>'Other'</li><li>'White'</li></ol>\n"
      ],
      "text/latex": [
       "\\begin{enumerate*}\n",
       "\\item 'Amer-Indian-Eskimo'\n",
       "\\item 'Asian-Pac-Islander'\n",
       "\\item 'Black'\n",
       "\\item 'Other'\n",
       "\\item 'White'\n",
       "\\end{enumerate*}\n"
      ],
      "text/markdown": [
       "1. 'Amer-Indian-Eskimo'\n",
       "2. 'Asian-Pac-Islander'\n",
       "3. 'Black'\n",
       "4. 'Other'\n",
       "5. 'White'\n",
       "\n",
       "\n"
      ],
      "text/plain": [
       "[1] \"Amer-Indian-Eskimo\" \"Asian-Pac-Islander\" \"Black\"             \n",
       "[4] \"Other\"              \"White\"             "
      ]
     },
     "metadata": {},
     "output_type": "display_data"
    }
   ],
   "source": [
    "levels(adult_data$race)"
   ]
  },
  {
   "cell_type": "code",
   "execution_count": 61,
   "id": "8b59575a",
   "metadata": {},
   "outputs": [
    {
     "data": {
      "text/html": [
       "<style>\n",
       ".list-inline {list-style: none; margin:0; padding: 0}\n",
       ".list-inline>li {display: inline-block}\n",
       ".list-inline>li:not(:last-child)::after {content: \"\\00b7\"; padding: 0 .5ex}\n",
       "</style>\n",
       "<ol class=list-inline><li>'Female'</li><li>'Male'</li></ol>\n"
      ],
      "text/latex": [
       "\\begin{enumerate*}\n",
       "\\item 'Female'\n",
       "\\item 'Male'\n",
       "\\end{enumerate*}\n"
      ],
      "text/markdown": [
       "1. 'Female'\n",
       "2. 'Male'\n",
       "\n",
       "\n"
      ],
      "text/plain": [
       "[1] \"Female\" \"Male\"  "
      ]
     },
     "metadata": {},
     "output_type": "display_data"
    }
   ],
   "source": [
    "levels(adult_data$sex)"
   ]
  },
  {
   "cell_type": "code",
   "execution_count": 62,
   "id": "724daf1d",
   "metadata": {},
   "outputs": [
    {
     "data": {
      "text/html": [
       "<style>\n",
       ".list-inline {list-style: none; margin:0; padding: 0}\n",
       ".list-inline>li {display: inline-block}\n",
       ".list-inline>li:not(:last-child)::after {content: \"\\00b7\"; padding: 0 .5ex}\n",
       "</style>\n",
       "<ol class=list-inline><li>'East Asia &amp; Pacific'</li><li>'Europe &amp; Central Asia'</li><li>'Latin America &amp; Caribbean'</li><li>'Middle East &amp; North Africa'</li><li>'North America'</li><li>'South Asia'</li></ol>\n"
      ],
      "text/latex": [
       "\\begin{enumerate*}\n",
       "\\item 'East Asia \\& Pacific'\n",
       "\\item 'Europe \\& Central Asia'\n",
       "\\item 'Latin America \\& Caribbean'\n",
       "\\item 'Middle East \\& North Africa'\n",
       "\\item 'North America'\n",
       "\\item 'South Asia'\n",
       "\\end{enumerate*}\n"
      ],
      "text/markdown": [
       "1. 'East Asia &amp; Pacific'\n",
       "2. 'Europe &amp; Central Asia'\n",
       "3. 'Latin America &amp; Caribbean'\n",
       "4. 'Middle East &amp; North Africa'\n",
       "5. 'North America'\n",
       "6. 'South Asia'\n",
       "\n",
       "\n"
      ],
      "text/plain": [
       "[1] \"East Asia & Pacific\"        \"Europe & Central Asia\"     \n",
       "[3] \"Latin America & Caribbean\"  \"Middle East & North Africa\"\n",
       "[5] \"North America\"              \"South Asia\"                "
      ]
     },
     "metadata": {},
     "output_type": "display_data"
    }
   ],
   "source": [
    "levels(adult_data$continent)"
   ]
  },
  {
   "cell_type": "markdown",
   "id": "9542d41b",
   "metadata": {},
   "source": [
    "# DATA PREPARATION/ANALYSIS"
   ]
  },
  {
   "cell_type": "code",
   "execution_count": 23,
   "id": "3824d6d1",
   "metadata": {},
   "outputs": [],
   "source": [
    "#education.num = education\n",
    "adult_data <- subset(adult_data, select = -X)"
   ]
  },
  {
   "cell_type": "code",
   "execution_count": 24,
   "id": "410b00d5",
   "metadata": {},
   "outputs": [
    {
     "data": {
      "text/html": [
       "<table class=\"dataframe\">\n",
       "<caption>A data.frame: 6 × 12</caption>\n",
       "<thead>\n",
       "\t<tr><th></th><th scope=col>age</th><th scope=col>workclass</th><th scope=col>education</th><th scope=col>marital.status</th><th scope=col>occupation</th><th scope=col>relationship</th><th scope=col>race</th><th scope=col>sex</th><th scope=col>hours.per.week</th><th scope=col>income_binary</th><th scope=col>capital</th><th scope=col>continent</th></tr>\n",
       "\t<tr><th></th><th scope=col>&lt;int&gt;</th><th scope=col>&lt;fct&gt;</th><th scope=col>&lt;fct&gt;</th><th scope=col>&lt;fct&gt;</th><th scope=col>&lt;fct&gt;</th><th scope=col>&lt;fct&gt;</th><th scope=col>&lt;fct&gt;</th><th scope=col>&lt;fct&gt;</th><th scope=col>&lt;int&gt;</th><th scope=col>&lt;int&gt;</th><th scope=col>&lt;int&gt;</th><th scope=col>&lt;fct&gt;</th></tr>\n",
       "</thead>\n",
       "<tbody>\n",
       "\t<tr><th scope=row>1</th><td>59</td><td>State-gov</td><td>HS-grad     </td><td>Married-civ-spouse</td><td>Other-service  </td><td>Husband      </td><td>White             </td><td>Male  </td><td>40</td><td>0</td><td>0</td><td>North America            </td></tr>\n",
       "\t<tr><th scope=row>2</th><td>41</td><td><span style=white-space:pre-wrap>Private  </span></td><td><span style=white-space:pre-wrap>HS-grad     </span></td><td>Married-civ-spouse</td><td><span style=white-space:pre-wrap>Craft-repair   </span></td><td><span style=white-space:pre-wrap>Husband      </span></td><td>Asian-Pac-Islander</td><td><span style=white-space:pre-wrap>Male  </span></td><td>40</td><td>0</td><td>0</td><td><span style=white-space:pre-wrap>East Asia &amp; Pacific      </span></td></tr>\n",
       "\t<tr><th scope=row>3</th><td>29</td><td>Private  </td><td>Bachelors   </td><td>Never-married     </td><td>Adm-clerical   </td><td>Not-in-family</td><td>White             </td><td>Female</td><td>35</td><td>0</td><td>0</td><td>North America            </td></tr>\n",
       "\t<tr><th scope=row>4</th><td>41</td><td>Private  </td><td>Some-college</td><td>Married-civ-spouse</td><td>Craft-repair   </td><td>Husband      </td><td>White             </td><td>Male  </td><td>45</td><td>0</td><td>0</td><td>North America            </td></tr>\n",
       "\t<tr><th scope=row>5</th><td>41</td><td><span style=white-space:pre-wrap>Private  </span></td><td><span style=white-space:pre-wrap>5th-6th     </span></td><td>Married-civ-spouse</td><td>Farming-fishing</td><td><span style=white-space:pre-wrap>Wife         </span></td><td><span style=white-space:pre-wrap>White             </span></td><td>Female</td><td>40</td><td>0</td><td>0</td><td>Latin America &amp; Caribbean</td></tr>\n",
       "\t<tr><th scope=row>6</th><td>45</td><td>Private  </td><td>HS-grad     </td><td>Divorced          </td><td>Adm-clerical   </td><td>Not-in-family</td><td>White             </td><td>Female</td><td>40</td><td>0</td><td>0</td><td>North America            </td></tr>\n",
       "</tbody>\n",
       "</table>\n"
      ],
      "text/latex": [
       "A data.frame: 6 × 12\n",
       "\\begin{tabular}{r|llllllllllll}\n",
       "  & age & workclass & education & marital.status & occupation & relationship & race & sex & hours.per.week & income\\_binary & capital & continent\\\\\n",
       "  & <int> & <fct> & <fct> & <fct> & <fct> & <fct> & <fct> & <fct> & <int> & <int> & <int> & <fct>\\\\\n",
       "\\hline\n",
       "\t1 & 59 & State-gov & HS-grad      & Married-civ-spouse & Other-service   & Husband       & White              & Male   & 40 & 0 & 0 & North America            \\\\\n",
       "\t2 & 41 & Private   & HS-grad      & Married-civ-spouse & Craft-repair    & Husband       & Asian-Pac-Islander & Male   & 40 & 0 & 0 & East Asia \\& Pacific      \\\\\n",
       "\t3 & 29 & Private   & Bachelors    & Never-married      & Adm-clerical    & Not-in-family & White              & Female & 35 & 0 & 0 & North America            \\\\\n",
       "\t4 & 41 & Private   & Some-college & Married-civ-spouse & Craft-repair    & Husband       & White              & Male   & 45 & 0 & 0 & North America            \\\\\n",
       "\t5 & 41 & Private   & 5th-6th      & Married-civ-spouse & Farming-fishing & Wife          & White              & Female & 40 & 0 & 0 & Latin America \\& Caribbean\\\\\n",
       "\t6 & 45 & Private   & HS-grad      & Divorced           & Adm-clerical    & Not-in-family & White              & Female & 40 & 0 & 0 & North America            \\\\\n",
       "\\end{tabular}\n"
      ],
      "text/markdown": [
       "\n",
       "A data.frame: 6 × 12\n",
       "\n",
       "| <!--/--> | age &lt;int&gt; | workclass &lt;fct&gt; | education &lt;fct&gt; | marital.status &lt;fct&gt; | occupation &lt;fct&gt; | relationship &lt;fct&gt; | race &lt;fct&gt; | sex &lt;fct&gt; | hours.per.week &lt;int&gt; | income_binary &lt;int&gt; | capital &lt;int&gt; | continent &lt;fct&gt; |\n",
       "|---|---|---|---|---|---|---|---|---|---|---|---|---|\n",
       "| 1 | 59 | State-gov | HS-grad      | Married-civ-spouse | Other-service   | Husband       | White              | Male   | 40 | 0 | 0 | North America             |\n",
       "| 2 | 41 | Private   | HS-grad      | Married-civ-spouse | Craft-repair    | Husband       | Asian-Pac-Islander | Male   | 40 | 0 | 0 | East Asia &amp; Pacific       |\n",
       "| 3 | 29 | Private   | Bachelors    | Never-married      | Adm-clerical    | Not-in-family | White              | Female | 35 | 0 | 0 | North America             |\n",
       "| 4 | 41 | Private   | Some-college | Married-civ-spouse | Craft-repair    | Husband       | White              | Male   | 45 | 0 | 0 | North America             |\n",
       "| 5 | 41 | Private   | 5th-6th      | Married-civ-spouse | Farming-fishing | Wife          | White              | Female | 40 | 0 | 0 | Latin America &amp; Caribbean |\n",
       "| 6 | 45 | Private   | HS-grad      | Divorced           | Adm-clerical    | Not-in-family | White              | Female | 40 | 0 | 0 | North America             |\n",
       "\n"
      ],
      "text/plain": [
       "  age workclass education    marital.status     occupation      relationship \n",
       "1 59  State-gov HS-grad      Married-civ-spouse Other-service   Husband      \n",
       "2 41  Private   HS-grad      Married-civ-spouse Craft-repair    Husband      \n",
       "3 29  Private   Bachelors    Never-married      Adm-clerical    Not-in-family\n",
       "4 41  Private   Some-college Married-civ-spouse Craft-repair    Husband      \n",
       "5 41  Private   5th-6th      Married-civ-spouse Farming-fishing Wife         \n",
       "6 45  Private   HS-grad      Divorced           Adm-clerical    Not-in-family\n",
       "  race               sex    hours.per.week income_binary capital\n",
       "1 White              Male   40             0             0      \n",
       "2 Asian-Pac-Islander Male   40             0             0      \n",
       "3 White              Female 35             0             0      \n",
       "4 White              Male   45             0             0      \n",
       "5 White              Female 40             0             0      \n",
       "6 White              Female 40             0             0      \n",
       "  continent                \n",
       "1 North America            \n",
       "2 East Asia & Pacific      \n",
       "3 North America            \n",
       "4 North America            \n",
       "5 Latin America & Caribbean\n",
       "6 North America            "
      ]
     },
     "metadata": {},
     "output_type": "display_data"
    }
   ],
   "source": [
    "head(adult_data)"
   ]
  },
  {
   "cell_type": "code",
   "execution_count": null,
   "id": "fd5bb926-4f92-446b-83e9-5448900a96b5",
   "metadata": {},
   "outputs": [],
   "source": []
  }
 ],
 "metadata": {
  "kernelspec": {
   "display_name": "R",
   "language": "R",
   "name": "ir"
  },
  "language_info": {
   "codemirror_mode": "r",
   "file_extension": ".r",
   "mimetype": "text/x-r-source",
   "name": "R",
   "pygments_lexer": "r",
   "version": "4.3.3"
  }
 },
 "nbformat": 4,
 "nbformat_minor": 5
}

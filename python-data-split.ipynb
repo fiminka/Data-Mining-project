{
 "cells": [
  {
   "cell_type": "code",
   "execution_count": 6,
   "id": "b7fd8320-7359-4740-9efd-073cfe04b1ff",
   "metadata": {},
   "outputs": [],
   "source": [
    "import pandas as pd\n",
    "from sklearn.model_selection import train_test_split"
   ]
  },
  {
   "cell_type": "code",
   "execution_count": 7,
   "id": "e6dde0ea-8d2d-4f8f-83f3-86904bcfc66e",
   "metadata": {},
   "outputs": [],
   "source": [
    "data = pd.read_csv('data/train_data.csv')"
   ]
  },
  {
   "cell_type": "code",
   "execution_count": 8,
   "id": "c9458f38-7bc6-48f5-8c10-9fa0ead4845e",
   "metadata": {},
   "outputs": [
    {
     "name": "stdout",
     "output_type": "stream",
     "text": [
      "Training data size: 5000\n",
      "Testing data size: 25161\n"
     ]
    }
   ],
   "source": [
    "train_data, test_data = train_test_split(data, train_size=5000, random_state=42)\n",
    "\n",
    "print(f\"Training data size: {len(train_data)}\")\n",
    "print(f\"Testing data size: {len(test_data)}\")"
   ]
  },
  {
   "cell_type": "code",
   "execution_count": 10,
   "id": "25c00d18-3075-4fd5-ba0f-75aa67e5da2b",
   "metadata": {},
   "outputs": [],
   "source": [
    "train_data.to_csv('data/sample_train_data.csv')"
   ]
  },
  {
   "cell_type": "code",
   "execution_count": null,
   "id": "5cceda40-0f9d-4a58-a6dc-1da42e5621f5",
   "metadata": {},
   "outputs": [],
   "source": []
  }
 ],
 "metadata": {
  "kernelspec": {
   "display_name": "Python 3 (ipykernel)",
   "language": "python",
   "name": "python3"
  },
  "language_info": {
   "codemirror_mode": {
    "name": "ipython",
    "version": 3
   },
   "file_extension": ".py",
   "mimetype": "text/x-python",
   "name": "python",
   "nbconvert_exporter": "python",
   "pygments_lexer": "ipython3",
   "version": "3.12.3"
  }
 },
 "nbformat": 4,
 "nbformat_minor": 5
}

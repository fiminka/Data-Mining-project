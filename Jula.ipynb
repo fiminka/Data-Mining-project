{
 "cells": [
  {
   "cell_type": "markdown",
   "id": "8dae4783",
   "metadata": {},
   "source": [
    "# LIBRARIES AND DATA IMPORT"
   ]
  },
  {
   "cell_type": "code",
   "execution_count": 151,
   "id": "4016f076",
   "metadata": {},
   "outputs": [
    {
     "name": "stderr",
     "output_type": "stream",
     "text": [
      "Warning message:\n",
      "\"pakiet 'cowplot' został zbudowany w wersji R 4.2.3\"\n",
      "\n",
      "Dołączanie pakietu: 'cowplot'\n",
      "\n",
      "\n",
      "Następujący obiekt został zakryty z 'package:patchwork':\n",
      "\n",
      "    align_plots\n",
      "\n",
      "\n"
     ]
    }
   ],
   "source": [
    "library(dplyr)\n",
    "library(DataExplorer)\n",
    "library(ggplot2)\n",
    "library(tidyr)\n",
    "library(patchwork)\n",
    "library(cowplot)"
   ]
  },
  {
   "cell_type": "code",
   "execution_count": 13,
   "id": "5a597ed3",
   "metadata": {},
   "outputs": [],
   "source": [
    "adult_data <- read.csv(file=\"data\\\\adult.data\", stringsAsFactors = TRUE, col.names=c(\"age\", \"workclass\", \"fnlwgt\", \"education\", \n",
    "                                                       \"education.num\",\"marital.status\", \"occupation\", \"relationship\", \"race\",\"sex\",\n",
    "                                                       \"capital.gain\", \"capital.loss\", \"hours.per.week\",\"native.country\", \"income\"))"
   ]
  },
  {
   "cell_type": "markdown",
   "id": "3d3fef8f",
   "metadata": {},
   "source": [
    "# BASIC INFORMATION AND STATISTICS"
   ]
  },
  {
   "cell_type": "code",
   "execution_count": 77,
   "id": "6787fd83",
   "metadata": {},
   "outputs": [
    {
     "data": {
      "text/html": [
       "<style>\n",
       ".list-inline {list-style: none; margin:0; padding: 0}\n",
       ".list-inline>li {display: inline-block}\n",
       ".list-inline>li:not(:last-child)::after {content: \"\\00b7\"; padding: 0 .5ex}\n",
       "</style>\n",
       "<ol class=list-inline><li>'age'</li><li>'workclass'</li><li>'fnlwgt'</li><li>'education'</li><li>'marital.status'</li><li>'occupation'</li><li>'relationship'</li><li>'race'</li><li>'sex'</li><li>'capital.gain'</li><li>'capital.loss'</li><li>'hours.per.week'</li><li>'native.country'</li><li>'income'</li></ol>\n"
      ],
      "text/latex": [
       "\\begin{enumerate*}\n",
       "\\item 'age'\n",
       "\\item 'workclass'\n",
       "\\item 'fnlwgt'\n",
       "\\item 'education'\n",
       "\\item 'marital.status'\n",
       "\\item 'occupation'\n",
       "\\item 'relationship'\n",
       "\\item 'race'\n",
       "\\item 'sex'\n",
       "\\item 'capital.gain'\n",
       "\\item 'capital.loss'\n",
       "\\item 'hours.per.week'\n",
       "\\item 'native.country'\n",
       "\\item 'income'\n",
       "\\end{enumerate*}\n"
      ],
      "text/markdown": [
       "1. 'age'\n",
       "2. 'workclass'\n",
       "3. 'fnlwgt'\n",
       "4. 'education'\n",
       "5. 'marital.status'\n",
       "6. 'occupation'\n",
       "7. 'relationship'\n",
       "8. 'race'\n",
       "9. 'sex'\n",
       "10. 'capital.gain'\n",
       "11. 'capital.loss'\n",
       "12. 'hours.per.week'\n",
       "13. 'native.country'\n",
       "14. 'income'\n",
       "\n",
       "\n"
      ],
      "text/plain": [
       " [1] \"age\"            \"workclass\"      \"fnlwgt\"         \"education\"     \n",
       " [5] \"marital.status\" \"occupation\"     \"relationship\"   \"race\"          \n",
       " [9] \"sex\"            \"capital.gain\"   \"capital.loss\"   \"hours.per.week\"\n",
       "[13] \"native.country\" \"income\"        "
      ]
     },
     "metadata": {},
     "output_type": "display_data"
    }
   ],
   "source": [
    "colnames(adult_data)"
   ]
  },
  {
   "cell_type": "code",
   "execution_count": 88,
   "id": "0347b833",
   "metadata": {},
   "outputs": [
    {
     "data": {
      "text/html": [
       "<style>\n",
       ".dl-inline {width: auto; margin:0; padding: 0}\n",
       ".dl-inline>dt, .dl-inline>dd {float: none; width: auto; display: inline-block}\n",
       ".dl-inline>dt::after {content: \":\\0020\"; padding-right: .5ex}\n",
       ".dl-inline>dt:not(:first-of-type) {padding-left: .5ex}\n",
       "</style><dl class=dl-inline><dt>age</dt><dd>'integer'</dd><dt>workclass</dt><dd>'factor'</dd><dt>fnlwgt</dt><dd>'integer'</dd><dt>education</dt><dd>'factor'</dd><dt>marital.status</dt><dd>'factor'</dd><dt>occupation</dt><dd>'factor'</dd><dt>relationship</dt><dd>'factor'</dd><dt>race</dt><dd>'factor'</dd><dt>sex</dt><dd>'factor'</dd><dt>capital.gain</dt><dd>'integer'</dd><dt>capital.loss</dt><dd>'integer'</dd><dt>hours.per.week</dt><dd>'integer'</dd><dt>native.country</dt><dd>'factor'</dd><dt>income</dt><dd>'factor'</dd></dl>\n"
      ],
      "text/latex": [
       "\\begin{description*}\n",
       "\\item[age] 'integer'\n",
       "\\item[workclass] 'factor'\n",
       "\\item[fnlwgt] 'integer'\n",
       "\\item[education] 'factor'\n",
       "\\item[marital.status] 'factor'\n",
       "\\item[occupation] 'factor'\n",
       "\\item[relationship] 'factor'\n",
       "\\item[race] 'factor'\n",
       "\\item[sex] 'factor'\n",
       "\\item[capital.gain] 'integer'\n",
       "\\item[capital.loss] 'integer'\n",
       "\\item[hours.per.week] 'integer'\n",
       "\\item[native.country] 'factor'\n",
       "\\item[income] 'factor'\n",
       "\\end{description*}\n"
      ],
      "text/markdown": [
       "age\n",
       ":   'integer'workclass\n",
       ":   'factor'fnlwgt\n",
       ":   'integer'education\n",
       ":   'factor'marital.status\n",
       ":   'factor'occupation\n",
       ":   'factor'relationship\n",
       ":   'factor'race\n",
       ":   'factor'sex\n",
       ":   'factor'capital.gain\n",
       ":   'integer'capital.loss\n",
       ":   'integer'hours.per.week\n",
       ":   'integer'native.country\n",
       ":   'factor'income\n",
       ":   'factor'\n",
       "\n"
      ],
      "text/plain": [
       "           age      workclass         fnlwgt      education marital.status \n",
       "     \"integer\"       \"factor\"      \"integer\"       \"factor\"       \"factor\" \n",
       "    occupation   relationship           race            sex   capital.gain \n",
       "      \"factor\"       \"factor\"       \"factor\"       \"factor\"      \"integer\" \n",
       "  capital.loss hours.per.week native.country         income \n",
       "     \"integer\"      \"integer\"       \"factor\"       \"factor\" "
      ]
     },
     "metadata": {},
     "output_type": "display_data"
    }
   ],
   "source": [
    "sapply(adult_data, class)"
   ]
  },
  {
   "cell_type": "code",
   "execution_count": 14,
   "id": "eeb37005",
   "metadata": {},
   "outputs": [
    {
     "data": {
      "text/html": [
       "32560"
      ],
      "text/latex": [
       "32560"
      ],
      "text/markdown": [
       "32560"
      ],
      "text/plain": [
       "[1] 32560"
      ]
     },
     "metadata": {},
     "output_type": "display_data"
    }
   ],
   "source": [
    "nrow(adult_data)"
   ]
  },
  {
   "cell_type": "code",
   "execution_count": 15,
   "id": "c988591b",
   "metadata": {},
   "outputs": [
    {
     "data": {
      "text/html": [
       "15"
      ],
      "text/latex": [
       "15"
      ],
      "text/markdown": [
       "15"
      ],
      "text/plain": [
       "[1] 15"
      ]
     },
     "metadata": {},
     "output_type": "display_data"
    }
   ],
   "source": [
    "length(adult_data)"
   ]
  },
  {
   "cell_type": "code",
   "execution_count": 87,
   "id": "47107cba",
   "metadata": {},
   "outputs": [
    {
     "data": {
      "text/html": [
       "<style>\n",
       ".list-inline {list-style: none; margin:0; padding: 0}\n",
       ".list-inline>li {display: inline-block}\n",
       ".list-inline>li:not(:last-child)::after {content: \"\\00b7\"; padding: 0 .5ex}\n",
       "</style>\n",
       "<ol class=list-inline><li>'age'</li><li>'fnlwgt'</li><li>'capital.gain'</li><li>'capital.loss'</li><li>'hours.per.week'</li></ol>\n"
      ],
      "text/latex": [
       "\\begin{enumerate*}\n",
       "\\item 'age'\n",
       "\\item 'fnlwgt'\n",
       "\\item 'capital.gain'\n",
       "\\item 'capital.loss'\n",
       "\\item 'hours.per.week'\n",
       "\\end{enumerate*}\n"
      ],
      "text/markdown": [
       "1. 'age'\n",
       "2. 'fnlwgt'\n",
       "3. 'capital.gain'\n",
       "4. 'capital.loss'\n",
       "5. 'hours.per.week'\n",
       "\n",
       "\n"
      ],
      "text/plain": [
       "[1] \"age\"            \"fnlwgt\"         \"capital.gain\"   \"capital.loss\"  \n",
       "[5] \"hours.per.week\""
      ]
     },
     "metadata": {},
     "output_type": "display_data"
    },
    {
     "data": {
      "text/html": [
       "5"
      ],
      "text/latex": [
       "5"
      ],
      "text/markdown": [
       "5"
      ],
      "text/plain": [
       "[1] 5"
      ]
     },
     "metadata": {},
     "output_type": "display_data"
    }
   ],
   "source": [
    "numerical_columns <- sapply(adult_data, is.numeric)\n",
    "names(adult_data[numerical_columns])\n",
    "sum(numerical_columns)"
   ]
  },
  {
   "cell_type": "code",
   "execution_count": 139,
   "id": "f7009629",
   "metadata": {},
   "outputs": [
    {
     "data": {
      "text/html": [
       "<style>\n",
       ".list-inline {list-style: none; margin:0; padding: 0}\n",
       ".list-inline>li {display: inline-block}\n",
       ".list-inline>li:not(:last-child)::after {content: \"\\00b7\"; padding: 0 .5ex}\n",
       "</style>\n",
       "<ol class=list-inline><li>'workclass'</li><li>'education'</li><li>'marital.status'</li><li>'occupation'</li><li>'relationship'</li><li>'race'</li><li>'sex'</li><li>'native.country'</li><li>'income'</li></ol>\n"
      ],
      "text/latex": [
       "\\begin{enumerate*}\n",
       "\\item 'workclass'\n",
       "\\item 'education'\n",
       "\\item 'marital.status'\n",
       "\\item 'occupation'\n",
       "\\item 'relationship'\n",
       "\\item 'race'\n",
       "\\item 'sex'\n",
       "\\item 'native.country'\n",
       "\\item 'income'\n",
       "\\end{enumerate*}\n"
      ],
      "text/markdown": [
       "1. 'workclass'\n",
       "2. 'education'\n",
       "3. 'marital.status'\n",
       "4. 'occupation'\n",
       "5. 'relationship'\n",
       "6. 'race'\n",
       "7. 'sex'\n",
       "8. 'native.country'\n",
       "9. 'income'\n",
       "\n",
       "\n"
      ],
      "text/plain": [
       "[1] \"workclass\"      \"education\"      \"marital.status\" \"occupation\"    \n",
       "[5] \"relationship\"   \"race\"           \"sex\"            \"native.country\"\n",
       "[9] \"income\"        "
      ]
     },
     "metadata": {},
     "output_type": "display_data"
    },
    {
     "data": {
      "text/html": [
       "9"
      ],
      "text/latex": [
       "9"
      ],
      "text/markdown": [
       "9"
      ],
      "text/plain": [
       "[1] 9"
      ]
     },
     "metadata": {},
     "output_type": "display_data"
    }
   ],
   "source": [
    "factor_columns <- sapply(adult_data, is.factor)\n",
    "names(adult_data[factor_columns])\n",
    "sum(factor_columns)"
   ]
  },
  {
   "cell_type": "markdown",
   "id": "222d7d9f",
   "metadata": {},
   "source": [
    "### SUMMARIES"
   ]
  },
  {
   "cell_type": "code",
   "execution_count": 78,
   "id": "e568a7a1",
   "metadata": {},
   "outputs": [
    {
     "data": {
      "text/plain": [
       "   Min. 1st Qu.  Median    Mean 3rd Qu.    Max. \n",
       "  17.00   28.00   37.00   38.58   48.00   90.00 "
      ]
     },
     "metadata": {},
     "output_type": "display_data"
    }
   ],
   "source": [
    "summary(adult_data$age)"
   ]
  },
  {
   "cell_type": "code",
   "execution_count": 89,
   "id": "5552bb40",
   "metadata": {},
   "outputs": [
    {
     "data": {
      "text/plain": [
       "   Min. 1st Qu.  Median    Mean 3rd Qu.    Max. \n",
       "  12285  117832  178363  189782  237055 1484705 "
      ]
     },
     "metadata": {},
     "output_type": "display_data"
    }
   ],
   "source": [
    "summary(adult_data$fnlwgt)"
   ]
  },
  {
   "cell_type": "code",
   "execution_count": 90,
   "id": "fabe8d2b",
   "metadata": {},
   "outputs": [
    {
     "data": {
      "text/plain": [
       "   Min. 1st Qu.  Median    Mean 3rd Qu.    Max. \n",
       "      0       0       0    1078       0   99999 "
      ]
     },
     "metadata": {},
     "output_type": "display_data"
    }
   ],
   "source": [
    "summary(adult_data$capital.gain)"
   ]
  },
  {
   "cell_type": "code",
   "execution_count": 91,
   "id": "9eae58da",
   "metadata": {},
   "outputs": [
    {
     "data": {
      "text/plain": [
       "   Min. 1st Qu.  Median    Mean 3rd Qu.    Max. \n",
       "   0.00    0.00    0.00   87.31    0.00 4356.00 "
      ]
     },
     "metadata": {},
     "output_type": "display_data"
    }
   ],
   "source": [
    "summary(adult_data$capital.loss)"
   ]
  },
  {
   "cell_type": "code",
   "execution_count": 71,
   "id": "b493d735",
   "metadata": {},
   "outputs": [
    {
     "data": {
      "text/plain": [
       "   Min. 1st Qu.  Median    Mean 3rd Qu.    Max. \n",
       "   1.00   40.00   40.00   40.44   45.00   99.00 "
      ]
     },
     "metadata": {},
     "output_type": "display_data"
    }
   ],
   "source": [
    "#somethin wrong with 99, check for which professions\n",
    "summary(adult_data$hours.per.week)"
   ]
  },
  {
   "cell_type": "markdown",
   "id": "bcde9ad5",
   "metadata": {},
   "source": [
    "### UNIQUE VALUES"
   ]
  },
  {
   "cell_type": "code",
   "execution_count": 96,
   "id": "1c52114f",
   "metadata": {},
   "outputs": [
    {
     "name": "stdout",
     "output_type": "stream",
     "text": [
      "[1] \"age: 73\"\n",
      "[1] \"workclass: 9\"\n",
      "[1] \"fnlwgt: 21647\"\n",
      "[1] \"education: 16\"\n",
      "[1] \"marital.status: 7\"\n",
      "[1] \"occupation: 15\"\n",
      "[1] \"relationship: 6\"\n",
      "[1] \"race: 5\"\n",
      "[1] \"sex: 2\"\n",
      "[1] \"capital.gain: 119\"\n",
      "[1] \"capital.loss: 92\"\n",
      "[1] \"hours.per.week: 94\"\n",
      "[1] \"native.country: 42\"\n",
      "[1] \"income: 2\"\n"
     ]
    }
   ],
   "source": [
    "num_unique_values <- sapply(adult_data, function(x) length(unique(x)))\n",
    "\n",
    "# Wydrukuj nazwę kolumny i liczbę unikalnych wartości dla każdej kolumny\n",
    "for (i in 1:length(num_unique_values)) {\n",
    "  print(paste0(names(num_unique_values)[i], \": \", num_unique_values[i]))\n",
    "}"
   ]
  },
  {
   "cell_type": "code",
   "execution_count": 98,
   "id": "3bb7699c",
   "metadata": {},
   "outputs": [
    {
     "data": {
      "text/html": [
       "<style>\n",
       ".list-inline {list-style: none; margin:0; padding: 0}\n",
       ".list-inline>li {display: inline-block}\n",
       ".list-inline>li:not(:last-child)::after {content: \"\\00b7\"; padding: 0 .5ex}\n",
       "</style>\n",
       "<ol class=list-inline><li>' ?'</li><li>' Federal-gov'</li><li>' Local-gov'</li><li>' Never-worked'</li><li>' Private'</li><li>' Self-emp-inc'</li><li>' Self-emp-not-inc'</li><li>' State-gov'</li><li>' Without-pay'</li></ol>\n"
      ],
      "text/latex": [
       "\\begin{enumerate*}\n",
       "\\item ' ?'\n",
       "\\item ' Federal-gov'\n",
       "\\item ' Local-gov'\n",
       "\\item ' Never-worked'\n",
       "\\item ' Private'\n",
       "\\item ' Self-emp-inc'\n",
       "\\item ' Self-emp-not-inc'\n",
       "\\item ' State-gov'\n",
       "\\item ' Without-pay'\n",
       "\\end{enumerate*}\n"
      ],
      "text/markdown": [
       "1. ' ?'\n",
       "2. ' Federal-gov'\n",
       "3. ' Local-gov'\n",
       "4. ' Never-worked'\n",
       "5. ' Private'\n",
       "6. ' Self-emp-inc'\n",
       "7. ' Self-emp-not-inc'\n",
       "8. ' State-gov'\n",
       "9. ' Without-pay'\n",
       "\n",
       "\n"
      ],
      "text/plain": [
       "[1] \" ?\"                \" Federal-gov\"      \" Local-gov\"       \n",
       "[4] \" Never-worked\"     \" Private\"          \" Self-emp-inc\"    \n",
       "[7] \" Self-emp-not-inc\" \" State-gov\"        \" Without-pay\"     "
      ]
     },
     "metadata": {},
     "output_type": "display_data"
    }
   ],
   "source": [
    "levels(adult_data$workclass)"
   ]
  },
  {
   "cell_type": "code",
   "execution_count": 99,
   "id": "b64fa215",
   "metadata": {},
   "outputs": [
    {
     "data": {
      "text/html": [
       "<style>\n",
       ".list-inline {list-style: none; margin:0; padding: 0}\n",
       ".list-inline>li {display: inline-block}\n",
       ".list-inline>li:not(:last-child)::after {content: \"\\00b7\"; padding: 0 .5ex}\n",
       "</style>\n",
       "<ol class=list-inline><li>' 10th'</li><li>' 11th'</li><li>' 12th'</li><li>' 1st-4th'</li><li>' 5th-6th'</li><li>' 7th-8th'</li><li>' 9th'</li><li>' Assoc-acdm'</li><li>' Assoc-voc'</li><li>' Bachelors'</li><li>' Doctorate'</li><li>' HS-grad'</li><li>' Masters'</li><li>' Preschool'</li><li>' Prof-school'</li><li>' Some-college'</li></ol>\n"
      ],
      "text/latex": [
       "\\begin{enumerate*}\n",
       "\\item ' 10th'\n",
       "\\item ' 11th'\n",
       "\\item ' 12th'\n",
       "\\item ' 1st-4th'\n",
       "\\item ' 5th-6th'\n",
       "\\item ' 7th-8th'\n",
       "\\item ' 9th'\n",
       "\\item ' Assoc-acdm'\n",
       "\\item ' Assoc-voc'\n",
       "\\item ' Bachelors'\n",
       "\\item ' Doctorate'\n",
       "\\item ' HS-grad'\n",
       "\\item ' Masters'\n",
       "\\item ' Preschool'\n",
       "\\item ' Prof-school'\n",
       "\\item ' Some-college'\n",
       "\\end{enumerate*}\n"
      ],
      "text/markdown": [
       "1. ' 10th'\n",
       "2. ' 11th'\n",
       "3. ' 12th'\n",
       "4. ' 1st-4th'\n",
       "5. ' 5th-6th'\n",
       "6. ' 7th-8th'\n",
       "7. ' 9th'\n",
       "8. ' Assoc-acdm'\n",
       "9. ' Assoc-voc'\n",
       "10. ' Bachelors'\n",
       "11. ' Doctorate'\n",
       "12. ' HS-grad'\n",
       "13. ' Masters'\n",
       "14. ' Preschool'\n",
       "15. ' Prof-school'\n",
       "16. ' Some-college'\n",
       "\n",
       "\n"
      ],
      "text/plain": [
       " [1] \" 10th\"         \" 11th\"         \" 12th\"         \" 1st-4th\"     \n",
       " [5] \" 5th-6th\"      \" 7th-8th\"      \" 9th\"          \" Assoc-acdm\"  \n",
       " [9] \" Assoc-voc\"    \" Bachelors\"    \" Doctorate\"    \" HS-grad\"     \n",
       "[13] \" Masters\"      \" Preschool\"    \" Prof-school\"  \" Some-college\""
      ]
     },
     "metadata": {},
     "output_type": "display_data"
    }
   ],
   "source": [
    "levels(adult_data$education)"
   ]
  },
  {
   "cell_type": "code",
   "execution_count": 100,
   "id": "26a5692f",
   "metadata": {},
   "outputs": [
    {
     "data": {
      "text/html": [
       "<style>\n",
       ".list-inline {list-style: none; margin:0; padding: 0}\n",
       ".list-inline>li {display: inline-block}\n",
       ".list-inline>li:not(:last-child)::after {content: \"\\00b7\"; padding: 0 .5ex}\n",
       "</style>\n",
       "<ol class=list-inline><li>' Divorced'</li><li>' Married-AF-spouse'</li><li>' Married-civ-spouse'</li><li>' Married-spouse-absent'</li><li>' Never-married'</li><li>' Separated'</li><li>' Widowed'</li></ol>\n"
      ],
      "text/latex": [
       "\\begin{enumerate*}\n",
       "\\item ' Divorced'\n",
       "\\item ' Married-AF-spouse'\n",
       "\\item ' Married-civ-spouse'\n",
       "\\item ' Married-spouse-absent'\n",
       "\\item ' Never-married'\n",
       "\\item ' Separated'\n",
       "\\item ' Widowed'\n",
       "\\end{enumerate*}\n"
      ],
      "text/markdown": [
       "1. ' Divorced'\n",
       "2. ' Married-AF-spouse'\n",
       "3. ' Married-civ-spouse'\n",
       "4. ' Married-spouse-absent'\n",
       "5. ' Never-married'\n",
       "6. ' Separated'\n",
       "7. ' Widowed'\n",
       "\n",
       "\n"
      ],
      "text/plain": [
       "[1] \" Divorced\"              \" Married-AF-spouse\"     \" Married-civ-spouse\"   \n",
       "[4] \" Married-spouse-absent\" \" Never-married\"         \" Separated\"            \n",
       "[7] \" Widowed\"              "
      ]
     },
     "metadata": {},
     "output_type": "display_data"
    }
   ],
   "source": [
    "levels(adult_data$marital.status)"
   ]
  },
  {
   "cell_type": "code",
   "execution_count": 101,
   "id": "fd475301",
   "metadata": {},
   "outputs": [
    {
     "data": {
      "text/html": [
       "<style>\n",
       ".list-inline {list-style: none; margin:0; padding: 0}\n",
       ".list-inline>li {display: inline-block}\n",
       ".list-inline>li:not(:last-child)::after {content: \"\\00b7\"; padding: 0 .5ex}\n",
       "</style>\n",
       "<ol class=list-inline><li>' ?'</li><li>' Adm-clerical'</li><li>' Armed-Forces'</li><li>' Craft-repair'</li><li>' Exec-managerial'</li><li>' Farming-fishing'</li><li>' Handlers-cleaners'</li><li>' Machine-op-inspct'</li><li>' Other-service'</li><li>' Priv-house-serv'</li><li>' Prof-specialty'</li><li>' Protective-serv'</li><li>' Sales'</li><li>' Tech-support'</li><li>' Transport-moving'</li></ol>\n"
      ],
      "text/latex": [
       "\\begin{enumerate*}\n",
       "\\item ' ?'\n",
       "\\item ' Adm-clerical'\n",
       "\\item ' Armed-Forces'\n",
       "\\item ' Craft-repair'\n",
       "\\item ' Exec-managerial'\n",
       "\\item ' Farming-fishing'\n",
       "\\item ' Handlers-cleaners'\n",
       "\\item ' Machine-op-inspct'\n",
       "\\item ' Other-service'\n",
       "\\item ' Priv-house-serv'\n",
       "\\item ' Prof-specialty'\n",
       "\\item ' Protective-serv'\n",
       "\\item ' Sales'\n",
       "\\item ' Tech-support'\n",
       "\\item ' Transport-moving'\n",
       "\\end{enumerate*}\n"
      ],
      "text/markdown": [
       "1. ' ?'\n",
       "2. ' Adm-clerical'\n",
       "3. ' Armed-Forces'\n",
       "4. ' Craft-repair'\n",
       "5. ' Exec-managerial'\n",
       "6. ' Farming-fishing'\n",
       "7. ' Handlers-cleaners'\n",
       "8. ' Machine-op-inspct'\n",
       "9. ' Other-service'\n",
       "10. ' Priv-house-serv'\n",
       "11. ' Prof-specialty'\n",
       "12. ' Protective-serv'\n",
       "13. ' Sales'\n",
       "14. ' Tech-support'\n",
       "15. ' Transport-moving'\n",
       "\n",
       "\n"
      ],
      "text/plain": [
       " [1] \" ?\"                 \" Adm-clerical\"      \" Armed-Forces\"     \n",
       " [4] \" Craft-repair\"      \" Exec-managerial\"   \" Farming-fishing\"  \n",
       " [7] \" Handlers-cleaners\" \" Machine-op-inspct\" \" Other-service\"    \n",
       "[10] \" Priv-house-serv\"   \" Prof-specialty\"    \" Protective-serv\"  \n",
       "[13] \" Sales\"             \" Tech-support\"      \" Transport-moving\" "
      ]
     },
     "metadata": {},
     "output_type": "display_data"
    }
   ],
   "source": [
    "levels(adult_data$occupation)"
   ]
  },
  {
   "cell_type": "code",
   "execution_count": 102,
   "id": "e78b2b12",
   "metadata": {},
   "outputs": [
    {
     "data": {
      "text/html": [
       "<style>\n",
       ".list-inline {list-style: none; margin:0; padding: 0}\n",
       ".list-inline>li {display: inline-block}\n",
       ".list-inline>li:not(:last-child)::after {content: \"\\00b7\"; padding: 0 .5ex}\n",
       "</style>\n",
       "<ol class=list-inline><li>' Husband'</li><li>' Not-in-family'</li><li>' Other-relative'</li><li>' Own-child'</li><li>' Unmarried'</li><li>' Wife'</li></ol>\n"
      ],
      "text/latex": [
       "\\begin{enumerate*}\n",
       "\\item ' Husband'\n",
       "\\item ' Not-in-family'\n",
       "\\item ' Other-relative'\n",
       "\\item ' Own-child'\n",
       "\\item ' Unmarried'\n",
       "\\item ' Wife'\n",
       "\\end{enumerate*}\n"
      ],
      "text/markdown": [
       "1. ' Husband'\n",
       "2. ' Not-in-family'\n",
       "3. ' Other-relative'\n",
       "4. ' Own-child'\n",
       "5. ' Unmarried'\n",
       "6. ' Wife'\n",
       "\n",
       "\n"
      ],
      "text/plain": [
       "[1] \" Husband\"        \" Not-in-family\"  \" Other-relative\" \" Own-child\"     \n",
       "[5] \" Unmarried\"      \" Wife\"          "
      ]
     },
     "metadata": {},
     "output_type": "display_data"
    }
   ],
   "source": [
    "levels(adult_data$relationship)"
   ]
  },
  {
   "cell_type": "code",
   "execution_count": 103,
   "id": "3d876cb8",
   "metadata": {},
   "outputs": [
    {
     "data": {
      "text/html": [
       "<style>\n",
       ".list-inline {list-style: none; margin:0; padding: 0}\n",
       ".list-inline>li {display: inline-block}\n",
       ".list-inline>li:not(:last-child)::after {content: \"\\00b7\"; padding: 0 .5ex}\n",
       "</style>\n",
       "<ol class=list-inline><li>' Amer-Indian-Eskimo'</li><li>' Asian-Pac-Islander'</li><li>' Black'</li><li>' Other'</li><li>' White'</li></ol>\n"
      ],
      "text/latex": [
       "\\begin{enumerate*}\n",
       "\\item ' Amer-Indian-Eskimo'\n",
       "\\item ' Asian-Pac-Islander'\n",
       "\\item ' Black'\n",
       "\\item ' Other'\n",
       "\\item ' White'\n",
       "\\end{enumerate*}\n"
      ],
      "text/markdown": [
       "1. ' Amer-Indian-Eskimo'\n",
       "2. ' Asian-Pac-Islander'\n",
       "3. ' Black'\n",
       "4. ' Other'\n",
       "5. ' White'\n",
       "\n",
       "\n"
      ],
      "text/plain": [
       "[1] \" Amer-Indian-Eskimo\" \" Asian-Pac-Islander\" \" Black\"             \n",
       "[4] \" Other\"              \" White\"             "
      ]
     },
     "metadata": {},
     "output_type": "display_data"
    }
   ],
   "source": [
    "levels(adult_data$race)"
   ]
  },
  {
   "cell_type": "code",
   "execution_count": 104,
   "id": "8b59575a",
   "metadata": {},
   "outputs": [
    {
     "data": {
      "text/html": [
       "<style>\n",
       ".list-inline {list-style: none; margin:0; padding: 0}\n",
       ".list-inline>li {display: inline-block}\n",
       ".list-inline>li:not(:last-child)::after {content: \"\\00b7\"; padding: 0 .5ex}\n",
       "</style>\n",
       "<ol class=list-inline><li>' Female'</li><li>' Male'</li></ol>\n"
      ],
      "text/latex": [
       "\\begin{enumerate*}\n",
       "\\item ' Female'\n",
       "\\item ' Male'\n",
       "\\end{enumerate*}\n"
      ],
      "text/markdown": [
       "1. ' Female'\n",
       "2. ' Male'\n",
       "\n",
       "\n"
      ],
      "text/plain": [
       "[1] \" Female\" \" Male\"  "
      ]
     },
     "metadata": {},
     "output_type": "display_data"
    }
   ],
   "source": [
    "levels(adult_data$sex)"
   ]
  },
  {
   "cell_type": "code",
   "execution_count": 105,
   "id": "724daf1d",
   "metadata": {},
   "outputs": [
    {
     "data": {
      "text/html": [
       "<style>\n",
       ".list-inline {list-style: none; margin:0; padding: 0}\n",
       ".list-inline>li {display: inline-block}\n",
       ".list-inline>li:not(:last-child)::after {content: \"\\00b7\"; padding: 0 .5ex}\n",
       "</style>\n",
       "<ol class=list-inline><li>' ?'</li><li>' Cambodia'</li><li>' Canada'</li><li>' China'</li><li>' Columbia'</li><li>' Cuba'</li><li>' Dominican-Republic'</li><li>' Ecuador'</li><li>' El-Salvador'</li><li>' England'</li><li>' France'</li><li>' Germany'</li><li>' Greece'</li><li>' Guatemala'</li><li>' Haiti'</li><li>' Holand-Netherlands'</li><li>' Honduras'</li><li>' Hong'</li><li>' Hungary'</li><li>' India'</li><li>' Iran'</li><li>' Ireland'</li><li>' Italy'</li><li>' Jamaica'</li><li>' Japan'</li><li>' Laos'</li><li>' Mexico'</li><li>' Nicaragua'</li><li>' Outlying-US(Guam-USVI-etc)'</li><li>' Peru'</li><li>' Philippines'</li><li>' Poland'</li><li>' Portugal'</li><li>' Puerto-Rico'</li><li>' Scotland'</li><li>' South'</li><li>' Taiwan'</li><li>' Thailand'</li><li>' Trinadad&amp;Tobago'</li><li>' United-States'</li><li>' Vietnam'</li><li>' Yugoslavia'</li></ol>\n"
      ],
      "text/latex": [
       "\\begin{enumerate*}\n",
       "\\item ' ?'\n",
       "\\item ' Cambodia'\n",
       "\\item ' Canada'\n",
       "\\item ' China'\n",
       "\\item ' Columbia'\n",
       "\\item ' Cuba'\n",
       "\\item ' Dominican-Republic'\n",
       "\\item ' Ecuador'\n",
       "\\item ' El-Salvador'\n",
       "\\item ' England'\n",
       "\\item ' France'\n",
       "\\item ' Germany'\n",
       "\\item ' Greece'\n",
       "\\item ' Guatemala'\n",
       "\\item ' Haiti'\n",
       "\\item ' Holand-Netherlands'\n",
       "\\item ' Honduras'\n",
       "\\item ' Hong'\n",
       "\\item ' Hungary'\n",
       "\\item ' India'\n",
       "\\item ' Iran'\n",
       "\\item ' Ireland'\n",
       "\\item ' Italy'\n",
       "\\item ' Jamaica'\n",
       "\\item ' Japan'\n",
       "\\item ' Laos'\n",
       "\\item ' Mexico'\n",
       "\\item ' Nicaragua'\n",
       "\\item ' Outlying-US(Guam-USVI-etc)'\n",
       "\\item ' Peru'\n",
       "\\item ' Philippines'\n",
       "\\item ' Poland'\n",
       "\\item ' Portugal'\n",
       "\\item ' Puerto-Rico'\n",
       "\\item ' Scotland'\n",
       "\\item ' South'\n",
       "\\item ' Taiwan'\n",
       "\\item ' Thailand'\n",
       "\\item ' Trinadad\\&Tobago'\n",
       "\\item ' United-States'\n",
       "\\item ' Vietnam'\n",
       "\\item ' Yugoslavia'\n",
       "\\end{enumerate*}\n"
      ],
      "text/markdown": [
       "1. ' ?'\n",
       "2. ' Cambodia'\n",
       "3. ' Canada'\n",
       "4. ' China'\n",
       "5. ' Columbia'\n",
       "6. ' Cuba'\n",
       "7. ' Dominican-Republic'\n",
       "8. ' Ecuador'\n",
       "9. ' El-Salvador'\n",
       "10. ' England'\n",
       "11. ' France'\n",
       "12. ' Germany'\n",
       "13. ' Greece'\n",
       "14. ' Guatemala'\n",
       "15. ' Haiti'\n",
       "16. ' Holand-Netherlands'\n",
       "17. ' Honduras'\n",
       "18. ' Hong'\n",
       "19. ' Hungary'\n",
       "20. ' India'\n",
       "21. ' Iran'\n",
       "22. ' Ireland'\n",
       "23. ' Italy'\n",
       "24. ' Jamaica'\n",
       "25. ' Japan'\n",
       "26. ' Laos'\n",
       "27. ' Mexico'\n",
       "28. ' Nicaragua'\n",
       "29. ' Outlying-US(Guam-USVI-etc)'\n",
       "30. ' Peru'\n",
       "31. ' Philippines'\n",
       "32. ' Poland'\n",
       "33. ' Portugal'\n",
       "34. ' Puerto-Rico'\n",
       "35. ' Scotland'\n",
       "36. ' South'\n",
       "37. ' Taiwan'\n",
       "38. ' Thailand'\n",
       "39. ' Trinadad&amp;Tobago'\n",
       "40. ' United-States'\n",
       "41. ' Vietnam'\n",
       "42. ' Yugoslavia'\n",
       "\n",
       "\n"
      ],
      "text/plain": [
       " [1] \" ?\"                          \" Cambodia\"                  \n",
       " [3] \" Canada\"                     \" China\"                     \n",
       " [5] \" Columbia\"                   \" Cuba\"                      \n",
       " [7] \" Dominican-Republic\"         \" Ecuador\"                   \n",
       " [9] \" El-Salvador\"                \" England\"                   \n",
       "[11] \" France\"                     \" Germany\"                   \n",
       "[13] \" Greece\"                     \" Guatemala\"                 \n",
       "[15] \" Haiti\"                      \" Holand-Netherlands\"        \n",
       "[17] \" Honduras\"                   \" Hong\"                      \n",
       "[19] \" Hungary\"                    \" India\"                     \n",
       "[21] \" Iran\"                       \" Ireland\"                   \n",
       "[23] \" Italy\"                      \" Jamaica\"                   \n",
       "[25] \" Japan\"                      \" Laos\"                      \n",
       "[27] \" Mexico\"                     \" Nicaragua\"                 \n",
       "[29] \" Outlying-US(Guam-USVI-etc)\" \" Peru\"                      \n",
       "[31] \" Philippines\"                \" Poland\"                    \n",
       "[33] \" Portugal\"                   \" Puerto-Rico\"               \n",
       "[35] \" Scotland\"                   \" South\"                     \n",
       "[37] \" Taiwan\"                     \" Thailand\"                  \n",
       "[39] \" Trinadad&Tobago\"            \" United-States\"             \n",
       "[41] \" Vietnam\"                    \" Yugoslavia\"                "
      ]
     },
     "metadata": {},
     "output_type": "display_data"
    }
   ],
   "source": [
    "levels(adult_data$native.country)"
   ]
  },
  {
   "cell_type": "code",
   "execution_count": 106,
   "id": "af03c37c",
   "metadata": {},
   "outputs": [
    {
     "data": {
      "text/html": [
       "<style>\n",
       ".list-inline {list-style: none; margin:0; padding: 0}\n",
       ".list-inline>li {display: inline-block}\n",
       ".list-inline>li:not(:last-child)::after {content: \"\\00b7\"; padding: 0 .5ex}\n",
       "</style>\n",
       "<ol class=list-inline><li>' &lt;=50K'</li><li>' &gt;50K'</li></ol>\n"
      ],
      "text/latex": [
       "\\begin{enumerate*}\n",
       "\\item ' <=50K'\n",
       "\\item ' >50K'\n",
       "\\end{enumerate*}\n"
      ],
      "text/markdown": [
       "1. ' &lt;=50K'\n",
       "2. ' &gt;50K'\n",
       "\n",
       "\n"
      ],
      "text/plain": [
       "[1] \" <=50K\" \" >50K\" "
      ]
     },
     "metadata": {},
     "output_type": "display_data"
    }
   ],
   "source": [
    "levels(adult_data$income)"
   ]
  },
  {
   "cell_type": "code",
   "execution_count": 196,
   "id": "46605596",
   "metadata": {},
   "outputs": [],
   "source": [
    "trim_factor_columns <- function(x) {\n",
    "  if (is.factor(x)) {\n",
    "    x <- as.factor(trimws(as.character(x)))\n",
    "  }\n",
    "  return(x)\n",
    "}\n",
    "\n",
    "adult_data <- adult_data %>%\n",
    "  mutate_if(is.factor, trim_factor_columns)"
   ]
  },
  {
   "cell_type": "code",
   "execution_count": 157,
   "id": "5bae25ae",
   "metadata": {},
   "outputs": [],
   "source": [
    "plots <- lapply(names(adult_data[factor_columns]), function(column) {\n",
    "  ggplot(adult_data, aes_string(x = column)) +\n",
    "    geom_bar() +\n",
    "    labs(title = column) +\n",
    "    theme_minimal() +\n",
    "    theme(axis.text.x = element_text(angle = 45, hjust = 1))\n",
    "})"
   ]
  },
  {
   "cell_type": "code",
   "execution_count": 162,
   "id": "48ef09a2",
   "metadata": {},
   "outputs": [],
   "source": [
    "options(repr.plot.width=15, repr.plot.height=20)"
   ]
  },
  {
   "cell_type": "code",
   "execution_count": 163,
   "id": "2be737a4",
   "metadata": {
    "scrolled": false
   },
   "outputs": [
    {
     "data": {
      "image/png": "[encoded data removed]",
      "text/plain": [
       "plot without title"
      ]
     },
     "metadata": {
      "image/png": {
       "height": 1200,
       "width": 900
      }
     },
     "output_type": "display_data"
    }
   ],
   "source": [
    "plot_grid(plotlist = plots, ncol = 3, align = \"h\")"
   ]
  },
  {
   "cell_type": "code",
   "execution_count": 200,
   "id": "403920d0",
   "metadata": {},
   "outputs": [
    {
     "data": {
      "image/png": "[encoded data removed]",
      "text/plain": [
       "plot without title"
      ]
     },
     "metadata": {
      "image/png": {
       "height": 480,
       "width": 600
      }
     },
     "output_type": "display_data"
    }
   ],
   "source": [
    "options(repr.plot.width=10, repr.plot.height=8)\n",
    "ggplot(subset(adult_data, native.country != \"United-States\"), aes(x = native.country)) +\n",
    "  geom_bar() +\n",
    "  labs(title = \"Bar Plot of Native Country (excluding United States)\") +\n",
    "  theme(axis.text.x = element_text(angle = 45, hjust = 1))"
   ]
  },
  {
   "cell_type": "code",
   "execution_count": 201,
   "id": "91681fbf",
   "metadata": {},
   "outputs": [
    {
     "data": {
      "image/png": "[encoded data removed]",
      "text/plain": [
       "plot without title"
      ]
     },
     "metadata": {
      "image/png": {
       "height": 480,
       "width": 600
      }
     },
     "output_type": "display_data"
    }
   ],
   "source": [
    "histograms <- lapply(names(adult_data[numerical_columns]), function(column) {\n",
    "  ggplot(adult_data, aes_string(x = column)) +\n",
    "    geom_histogram(bins = 30, fill = \"skyblue\", color ='#5C8DA1', alpha = 0.8) +\n",
    "    labs(title = column) +\n",
    "    theme_minimal()\n",
    "})\n",
    "\n",
    "# Wyświetlenie histogramów obok siebie\n",
    "grid.arrange(grobs = histograms, ncol = 2)"
   ]
  },
  {
   "cell_type": "code",
   "execution_count": 174,
   "id": "58f8e081",
   "metadata": {},
   "outputs": [
    {
     "data": {
      "image/png": "[encoded data removed]",
      "text/plain": [
       "plot without title"
      ]
     },
     "metadata": {
      "image/png": {
       "height": 1200,
       "width": 900
      }
     },
     "output_type": "display_data"
    }
   ],
   "source": [
    "boxplots <- lapply(c('age', 'fnlwgt', 'hours.per.week'), function(column) {\n",
    "  ggplot(adult_data, aes_string(y = column)) +\n",
    "    geom_boxplot(fill = \"skyblue\", color = \"black\") +\n",
    "    labs(title = paste(\"Boxplot of\", column)) +\n",
    "    theme_minimal()\n",
    "})\n",
    "\n",
    "# Wyświetlenie wykresów pudełkowych obok siebie\n",
    "grid.arrange(grobs = boxplots, ncol = 2)"
   ]
  },
  {
   "cell_type": "markdown",
   "id": "e1888d46",
   "metadata": {},
   "source": [
    "# CHECK MISSING VALUES"
   ]
  },
  {
   "cell_type": "code",
   "execution_count": 24,
   "id": "7ab784f8",
   "metadata": {},
   "outputs": [
    {
     "data": {
      "text/html": [
       "30161"
      ],
      "text/latex": [
       "30161"
      ],
      "text/markdown": [
       "30161"
      ],
      "text/plain": [
       "[1] 30161"
      ]
     },
     "metadata": {},
     "output_type": "display_data"
    }
   ],
   "source": [
    "sum(complete.cases(adult_data))"
   ]
  },
  {
   "cell_type": "code",
   "execution_count": 16,
   "id": "8effd4a1",
   "metadata": {},
   "outputs": [],
   "source": [
    "columns_names_with_question <- names(adult_data)[sapply(adult_data, function(col) any(trimws(col) == \"?\"))]"
   ]
  },
  {
   "cell_type": "code",
   "execution_count": 17,
   "id": "7e9ffbf5",
   "metadata": {},
   "outputs": [
    {
     "data": {
      "text/html": [
       "<style>\n",
       ".list-inline {list-style: none; margin:0; padding: 0}\n",
       ".list-inline>li {display: inline-block}\n",
       ".list-inline>li:not(:last-child)::after {content: \"\\00b7\"; padding: 0 .5ex}\n",
       "</style>\n",
       "<ol class=list-inline><li>'workclass'</li><li>'occupation'</li><li>'native.country'</li></ol>\n"
      ],
      "text/latex": [
       "\\begin{enumerate*}\n",
       "\\item 'workclass'\n",
       "\\item 'occupation'\n",
       "\\item 'native.country'\n",
       "\\end{enumerate*}\n"
      ],
      "text/markdown": [
       "1. 'workclass'\n",
       "2. 'occupation'\n",
       "3. 'native.country'\n",
       "\n",
       "\n"
      ],
      "text/plain": [
       "[1] \"workclass\"      \"occupation\"     \"native.country\""
      ]
     },
     "metadata": {},
     "output_type": "display_data"
    }
   ],
   "source": [
    "columns_names_with_question"
   ]
  },
  {
   "cell_type": "code",
   "execution_count": 18,
   "id": "7157bbeb",
   "metadata": {},
   "outputs": [],
   "source": [
    "for (col_name in columns_names_with_question) {\n",
    "  adult_data[[col_name]][trimws(adult_data[[col_name]]) == \"?\"] <- NA\n",
    "}"
   ]
  },
  {
   "cell_type": "code",
   "execution_count": 19,
   "id": "add1ef99",
   "metadata": {},
   "outputs": [],
   "source": [
    "columns_with_na <- colSums(is.na(adult_data)) > 0"
   ]
  },
  {
   "cell_type": "code",
   "execution_count": 20,
   "id": "c9f0225d",
   "metadata": {},
   "outputs": [
    {
     "data": {
      "text/html": [
       "<style>\n",
       ".dl-inline {width: auto; margin:0; padding: 0}\n",
       ".dl-inline>dt, .dl-inline>dd {float: none; width: auto; display: inline-block}\n",
       ".dl-inline>dt::after {content: \":\\0020\"; padding-right: .5ex}\n",
       ".dl-inline>dt:not(:first-of-type) {padding-left: .5ex}\n",
       "</style><dl class=dl-inline><dt>age</dt><dd>FALSE</dd><dt>workclass</dt><dd>TRUE</dd><dt>fnlwgt</dt><dd>FALSE</dd><dt>education</dt><dd>FALSE</dd><dt>education.num</dt><dd>FALSE</dd><dt>marital.status</dt><dd>FALSE</dd><dt>occupation</dt><dd>TRUE</dd><dt>relationship</dt><dd>FALSE</dd><dt>race</dt><dd>FALSE</dd><dt>sex</dt><dd>FALSE</dd><dt>capital.gain</dt><dd>FALSE</dd><dt>capital.loss</dt><dd>FALSE</dd><dt>hours.per.week</dt><dd>FALSE</dd><dt>native.country</dt><dd>TRUE</dd><dt>income</dt><dd>FALSE</dd></dl>\n"
      ],
      "text/latex": [
       "\\begin{description*}\n",
       "\\item[age] FALSE\n",
       "\\item[workclass] TRUE\n",
       "\\item[fnlwgt] FALSE\n",
       "\\item[education] FALSE\n",
       "\\item[education.num] FALSE\n",
       "\\item[marital.status] FALSE\n",
       "\\item[occupation] TRUE\n",
       "\\item[relationship] FALSE\n",
       "\\item[race] FALSE\n",
       "\\item[sex] FALSE\n",
       "\\item[capital.gain] FALSE\n",
       "\\item[capital.loss] FALSE\n",
       "\\item[hours.per.week] FALSE\n",
       "\\item[native.country] TRUE\n",
       "\\item[income] FALSE\n",
       "\\end{description*}\n"
      ],
      "text/markdown": [
       "age\n",
       ":   FALSEworkclass\n",
       ":   TRUEfnlwgt\n",
       ":   FALSEeducation\n",
       ":   FALSEeducation.num\n",
       ":   FALSEmarital.status\n",
       ":   FALSEoccupation\n",
       ":   TRUErelationship\n",
       ":   FALSErace\n",
       ":   FALSEsex\n",
       ":   FALSEcapital.gain\n",
       ":   FALSEcapital.loss\n",
       ":   FALSEhours.per.week\n",
       ":   FALSEnative.country\n",
       ":   TRUEincome\n",
       ":   FALSE\n",
       "\n"
      ],
      "text/plain": [
       "           age      workclass         fnlwgt      education  education.num \n",
       "         FALSE           TRUE          FALSE          FALSE          FALSE \n",
       "marital.status     occupation   relationship           race            sex \n",
       "         FALSE           TRUE          FALSE          FALSE          FALSE \n",
       "  capital.gain   capital.loss hours.per.week native.country         income \n",
       "         FALSE          FALSE          FALSE           TRUE          FALSE "
      ]
     },
     "metadata": {},
     "output_type": "display_data"
    }
   ],
   "source": [
    "columns_with_na"
   ]
  },
  {
   "cell_type": "code",
   "execution_count": 21,
   "id": "767eb5da",
   "metadata": {},
   "outputs": [
    {
     "data": {
      "text/html": [
       "4262"
      ],
      "text/latex": [
       "4262"
      ],
      "text/markdown": [
       "4262"
      ],
      "text/plain": [
       "[1] 4262"
      ]
     },
     "metadata": {},
     "output_type": "display_data"
    }
   ],
   "source": [
    "sum(is.na(adult_data))"
   ]
  },
  {
   "cell_type": "code",
   "execution_count": 26,
   "id": "b6ca6af5",
   "metadata": {},
   "outputs": [
    {
     "data": {
      "text/html": [
       "1836"
      ],
      "text/latex": [
       "1836"
      ],
      "text/markdown": [
       "1836"
      ],
      "text/plain": [
       "[1] 1836"
      ]
     },
     "metadata": {},
     "output_type": "display_data"
    }
   ],
   "source": [
    "sum(is.na(adult_data$workclass))"
   ]
  },
  {
   "cell_type": "code",
   "execution_count": 27,
   "id": "f281c8d9",
   "metadata": {},
   "outputs": [
    {
     "data": {
      "text/html": [
       "1843"
      ],
      "text/latex": [
       "1843"
      ],
      "text/markdown": [
       "1843"
      ],
      "text/plain": [
       "[1] 1843"
      ]
     },
     "metadata": {},
     "output_type": "display_data"
    }
   ],
   "source": [
    "sum(is.na(adult_data$occupation))"
   ]
  },
  {
   "cell_type": "code",
   "execution_count": 29,
   "id": "029e2e2e",
   "metadata": {},
   "outputs": [
    {
     "data": {
      "text/html": [
       "583"
      ],
      "text/latex": [
       "583"
      ],
      "text/markdown": [
       "583"
      ],
      "text/plain": [
       "[1] 583"
      ]
     },
     "metadata": {},
     "output_type": "display_data"
    }
   ],
   "source": [
    "sum(is.na(adult_data$native.country))"
   ]
  },
  {
   "cell_type": "code",
   "execution_count": 63,
   "id": "05dc53b6",
   "metadata": {},
   "outputs": [],
   "source": [
    "missing_occupation <- round(sum(is.na(adult_data$occupation))/length(adult_data$occupation) * 100, 2)\n",
    "missing_workclass <- round(sum(is.na(adult_data$workclass))/length(adult_data$workclass) * 100, 2)\n",
    "missing_country <- round(sum(is.na(adult_data$native.country))/length(adult_data$native.country) * 100, 2)\n",
    "\n",
    "occupation_data <- data.frame(Label = c(\"Missing\", \"Non-Missing\"),\n",
    "                           Value = c(missing_occupation, 100 - missing_occupation))\n",
    "workclass_data <- data.frame(Label = c(\"Missing\", \"Non-Missing\"),\n",
    "                           Value = c(missing_workclass, 100 - missing_workclass)) \n",
    "country_data <- data.frame(Label = c(\"Missing\", \"Non-Missing\"),\n",
    "                           Value = c(missing_country, 100 - missing_country))"
   ]
  },
  {
   "cell_type": "code",
   "execution_count": 66,
   "id": "744e5b7b",
   "metadata": {},
   "outputs": [],
   "source": [
    "make_pie_chart <- function(df, title){\n",
    "    pie_chart <- ggplot(df, aes(x = \"\", y = Value, fill = Label)) +\n",
    "                      geom_bar(stat = \"identity\", width = 1) +\n",
    "                      coord_polar(\"y\", start = 0) +\n",
    "                      labs(title = title, fill = \"Label\", x = NULL, y = NULL) +\n",
    "                      scale_fill_manual(values = c(\"Missing\" = \"skyblue\", \"Non-Missing\" = \"salmon\")) +\n",
    "                      theme_void()\n",
    "    pie_chart +\n",
    "    geom_text(aes(label = paste0(Value, \"%\")), position = position_stack(vjust = 0.5), size = 4) +\n",
    "    theme(legend.position = c(0.85, 0.85)) # zmiana pozycji legendy\n",
    "    \n",
    "}"
   ]
  },
  {
   "cell_type": "code",
   "execution_count": 67,
   "id": "5b280e10",
   "metadata": {},
   "outputs": [
    {
     "data": {
      "image/png": "[encoded data removed]",
      "text/plain": [
       "plot without title"
      ]
     },
     "metadata": {
      "image/png": {
       "height": 420,
       "width": 420
      }
     },
     "output_type": "display_data"
    }
   ],
   "source": [
    "make_pie_chart(occupation_data, 'Lala')"
   ]
  },
  {
   "cell_type": "code",
   "execution_count": 68,
   "id": "6cd0e024",
   "metadata": {},
   "outputs": [
    {
     "data": {
      "image/png": "[encoded data removed]",
      "text/plain": [
       "plot without title"
      ]
     },
     "metadata": {
      "image/png": {
       "height": 420,
       "width": 420
      }
     },
     "output_type": "display_data"
    }
   ],
   "source": [
    "make_pie_chart(workclass_data, 'Lala')"
   ]
  },
  {
   "cell_type": "code",
   "execution_count": 69,
   "id": "b7ad56fc",
   "metadata": {},
   "outputs": [
    {
     "data": {
      "image/png": "[encoded data removed]",
      "text/plain": [
       "plot without title"
      ]
     },
     "metadata": {
      "image/png": {
       "height": 420,
       "width": 420
      }
     },
     "output_type": "display_data"
    }
   ],
   "source": [
    "make_pie_chart(country_data, 'Lala')"
   ]
  },
  {
   "cell_type": "markdown",
   "id": "9542d41b",
   "metadata": {},
   "source": [
    "# DATA PREPARATION/ANALYSIS"
   ]
  },
  {
   "cell_type": "code",
   "execution_count": 22,
   "id": "3824d6d1",
   "metadata": {},
   "outputs": [],
   "source": [
    "#education.num = education\n",
    "adult_data <- subset(adult_data, select = -education.num)"
   ]
  },
  {
   "cell_type": "code",
   "execution_count": 23,
   "id": "410b00d5",
   "metadata": {},
   "outputs": [
    {
     "data": {
      "text/html": [
       "<table class=\"dataframe\">\n",
       "<caption>A data.frame: 6 × 14</caption>\n",
       "<thead>\n",
       "\t<tr><th></th><th scope=col>age</th><th scope=col>workclass</th><th scope=col>fnlwgt</th><th scope=col>education</th><th scope=col>marital.status</th><th scope=col>occupation</th><th scope=col>relationship</th><th scope=col>race</th><th scope=col>sex</th><th scope=col>capital.gain</th><th scope=col>capital.loss</th><th scope=col>hours.per.week</th><th scope=col>native.country</th><th scope=col>income</th></tr>\n",
       "\t<tr><th></th><th scope=col>&lt;int&gt;</th><th scope=col>&lt;fct&gt;</th><th scope=col>&lt;int&gt;</th><th scope=col>&lt;fct&gt;</th><th scope=col>&lt;fct&gt;</th><th scope=col>&lt;fct&gt;</th><th scope=col>&lt;fct&gt;</th><th scope=col>&lt;fct&gt;</th><th scope=col>&lt;fct&gt;</th><th scope=col>&lt;int&gt;</th><th scope=col>&lt;int&gt;</th><th scope=col>&lt;int&gt;</th><th scope=col>&lt;fct&gt;</th><th scope=col>&lt;fct&gt;</th></tr>\n",
       "</thead>\n",
       "<tbody>\n",
       "\t<tr><th scope=row>1</th><td>50</td><td> Self-emp-not-inc</td><td> 83311</td><td> Bachelors</td><td><span style=white-space:pre-wrap> Married-civ-spouse   </span></td><td><span style=white-space:pre-wrap> Exec-managerial  </span></td><td><span style=white-space:pre-wrap> Husband      </span></td><td> White</td><td><span style=white-space:pre-wrap> Male  </span></td><td>0</td><td>0</td><td>13</td><td> United-States</td><td> &lt;=50K</td></tr>\n",
       "\t<tr><th scope=row>2</th><td>38</td><td><span style=white-space:pre-wrap> Private         </span></td><td>215646</td><td><span style=white-space:pre-wrap> HS-grad  </span></td><td><span style=white-space:pre-wrap> Divorced             </span></td><td> Handlers-cleaners</td><td> Not-in-family</td><td> White</td><td><span style=white-space:pre-wrap> Male  </span></td><td>0</td><td>0</td><td>40</td><td> United-States</td><td> &lt;=50K</td></tr>\n",
       "\t<tr><th scope=row>3</th><td>53</td><td><span style=white-space:pre-wrap> Private         </span></td><td>234721</td><td><span style=white-space:pre-wrap> 11th     </span></td><td><span style=white-space:pre-wrap> Married-civ-spouse   </span></td><td> Handlers-cleaners</td><td><span style=white-space:pre-wrap> Husband      </span></td><td> Black</td><td><span style=white-space:pre-wrap> Male  </span></td><td>0</td><td>0</td><td>40</td><td> United-States</td><td> &lt;=50K</td></tr>\n",
       "\t<tr><th scope=row>4</th><td>28</td><td><span style=white-space:pre-wrap> Private         </span></td><td>338409</td><td> Bachelors</td><td><span style=white-space:pre-wrap> Married-civ-spouse   </span></td><td><span style=white-space:pre-wrap> Prof-specialty   </span></td><td><span style=white-space:pre-wrap> Wife         </span></td><td> Black</td><td> Female</td><td>0</td><td>0</td><td>40</td><td><span style=white-space:pre-wrap> Cuba         </span></td><td> &lt;=50K</td></tr>\n",
       "\t<tr><th scope=row>5</th><td>37</td><td><span style=white-space:pre-wrap> Private         </span></td><td>284582</td><td><span style=white-space:pre-wrap> Masters  </span></td><td><span style=white-space:pre-wrap> Married-civ-spouse   </span></td><td><span style=white-space:pre-wrap> Exec-managerial  </span></td><td><span style=white-space:pre-wrap> Wife         </span></td><td> White</td><td> Female</td><td>0</td><td>0</td><td>40</td><td> United-States</td><td> &lt;=50K</td></tr>\n",
       "\t<tr><th scope=row>6</th><td>49</td><td><span style=white-space:pre-wrap> Private         </span></td><td>160187</td><td><span style=white-space:pre-wrap> 9th      </span></td><td> Married-spouse-absent</td><td><span style=white-space:pre-wrap> Other-service    </span></td><td> Not-in-family</td><td> Black</td><td> Female</td><td>0</td><td>0</td><td>16</td><td><span style=white-space:pre-wrap> Jamaica      </span></td><td> &lt;=50K</td></tr>\n",
       "</tbody>\n",
       "</table>\n"
      ],
      "text/latex": [
       "A data.frame: 6 × 14\n",
       "\\begin{tabular}{r|llllllllllllll}\n",
       "  & age & workclass & fnlwgt & education & marital.status & occupation & relationship & race & sex & capital.gain & capital.loss & hours.per.week & native.country & income\\\\\n",
       "  & <int> & <fct> & <int> & <fct> & <fct> & <fct> & <fct> & <fct> & <fct> & <int> & <int> & <int> & <fct> & <fct>\\\\\n",
       "\\hline\n",
       "\t1 & 50 &  Self-emp-not-inc &  83311 &  Bachelors &  Married-civ-spouse    &  Exec-managerial   &  Husband       &  White &  Male   & 0 & 0 & 13 &  United-States &  <=50K\\\\\n",
       "\t2 & 38 &  Private          & 215646 &  HS-grad   &  Divorced              &  Handlers-cleaners &  Not-in-family &  White &  Male   & 0 & 0 & 40 &  United-States &  <=50K\\\\\n",
       "\t3 & 53 &  Private          & 234721 &  11th      &  Married-civ-spouse    &  Handlers-cleaners &  Husband       &  Black &  Male   & 0 & 0 & 40 &  United-States &  <=50K\\\\\n",
       "\t4 & 28 &  Private          & 338409 &  Bachelors &  Married-civ-spouse    &  Prof-specialty    &  Wife          &  Black &  Female & 0 & 0 & 40 &  Cuba          &  <=50K\\\\\n",
       "\t5 & 37 &  Private          & 284582 &  Masters   &  Married-civ-spouse    &  Exec-managerial   &  Wife          &  White &  Female & 0 & 0 & 40 &  United-States &  <=50K\\\\\n",
       "\t6 & 49 &  Private          & 160187 &  9th       &  Married-spouse-absent &  Other-service     &  Not-in-family &  Black &  Female & 0 & 0 & 16 &  Jamaica       &  <=50K\\\\\n",
       "\\end{tabular}\n"
      ],
      "text/markdown": [
       "\n",
       "A data.frame: 6 × 14\n",
       "\n",
       "| <!--/--> | age &lt;int&gt; | workclass &lt;fct&gt; | fnlwgt &lt;int&gt; | education &lt;fct&gt; | marital.status &lt;fct&gt; | occupation &lt;fct&gt; | relationship &lt;fct&gt; | race &lt;fct&gt; | sex &lt;fct&gt; | capital.gain &lt;int&gt; | capital.loss &lt;int&gt; | hours.per.week &lt;int&gt; | native.country &lt;fct&gt; | income &lt;fct&gt; |\n",
       "|---|---|---|---|---|---|---|---|---|---|---|---|---|---|---|\n",
       "| 1 | 50 |  Self-emp-not-inc |  83311 |  Bachelors |  Married-civ-spouse    |  Exec-managerial   |  Husband       |  White |  Male   | 0 | 0 | 13 |  United-States |  &lt;=50K |\n",
       "| 2 | 38 |  Private          | 215646 |  HS-grad   |  Divorced              |  Handlers-cleaners |  Not-in-family |  White |  Male   | 0 | 0 | 40 |  United-States |  &lt;=50K |\n",
       "| 3 | 53 |  Private          | 234721 |  11th      |  Married-civ-spouse    |  Handlers-cleaners |  Husband       |  Black |  Male   | 0 | 0 | 40 |  United-States |  &lt;=50K |\n",
       "| 4 | 28 |  Private          | 338409 |  Bachelors |  Married-civ-spouse    |  Prof-specialty    |  Wife          |  Black |  Female | 0 | 0 | 40 |  Cuba          |  &lt;=50K |\n",
       "| 5 | 37 |  Private          | 284582 |  Masters   |  Married-civ-spouse    |  Exec-managerial   |  Wife          |  White |  Female | 0 | 0 | 40 |  United-States |  &lt;=50K |\n",
       "| 6 | 49 |  Private          | 160187 |  9th       |  Married-spouse-absent |  Other-service     |  Not-in-family |  Black |  Female | 0 | 0 | 16 |  Jamaica       |  &lt;=50K |\n",
       "\n"
      ],
      "text/plain": [
       "  age workclass         fnlwgt education  marital.status        \n",
       "1 50   Self-emp-not-inc  83311  Bachelors  Married-civ-spouse   \n",
       "2 38   Private          215646  HS-grad    Divorced             \n",
       "3 53   Private          234721  11th       Married-civ-spouse   \n",
       "4 28   Private          338409  Bachelors  Married-civ-spouse   \n",
       "5 37   Private          284582  Masters    Married-civ-spouse   \n",
       "6 49   Private          160187  9th        Married-spouse-absent\n",
       "  occupation         relationship   race   sex     capital.gain capital.loss\n",
       "1  Exec-managerial    Husband        White  Male   0            0           \n",
       "2  Handlers-cleaners  Not-in-family  White  Male   0            0           \n",
       "3  Handlers-cleaners  Husband        Black  Male   0            0           \n",
       "4  Prof-specialty     Wife           Black  Female 0            0           \n",
       "5  Exec-managerial    Wife           White  Female 0            0           \n",
       "6  Other-service      Not-in-family  Black  Female 0            0           \n",
       "  hours.per.week native.country income\n",
       "1 13              United-States  <=50K\n",
       "2 40              United-States  <=50K\n",
       "3 40              United-States  <=50K\n",
       "4 40              Cuba           <=50K\n",
       "5 40              United-States  <=50K\n",
       "6 16              Jamaica        <=50K"
      ]
     },
     "metadata": {},
     "output_type": "display_data"
    }
   ],
   "source": [
    "head(adult_data)"
   ]
  }
 ],
 "metadata": {
  "kernelspec": {
   "display_name": "R",
   "language": "R",
   "name": "ir"
  },
  "language_info": {
   "codemirror_mode": "r",
   "file_extension": ".r",
   "mimetype": "text/x-r-source",
   "name": "R",
   "pygments_lexer": "r",
   "version": "4.2.2"
  }
 },
 "nbformat": 4,
 "nbformat_minor": 5
}
